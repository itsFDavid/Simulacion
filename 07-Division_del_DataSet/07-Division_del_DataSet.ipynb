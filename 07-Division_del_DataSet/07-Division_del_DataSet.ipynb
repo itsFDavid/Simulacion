{
 "cells": [
  {
   "cell_type": "markdown",
   "id": "2d2d769b-fe37-474b-8d2e-fd6b1b9e45e8",
   "metadata": {},
   "source": [
    "# Division del DataSet\n",
    "\n",
    "En este Notebook se muestran algunos alguno de los mecanismos mas utilizados para la division del DataSet."
   ]
  },
  {
   "cell_type": "markdown",
   "id": "1ff16221-34d0-42fd-81aa-6ffa545d8aac",
   "metadata": {},
   "source": [
    "## DataSet\n",
    "\n",
    "### Descripcion\n",
    "\n",
    "NSL-KDD is a data set suggested to solve some of the inherent problems of the KDD'99 data set which are mentioned in. Although, this new version of the KDD data set still suffers from some of the problems discussed by McHugh and may not be a perfect representative of existing real networks, because of the lack of public data sets for network-based IDSs, we believe it still can be applied as an effective benchmark data set to help researchers compare different intrusion detection methods. Furthermore, the number of records in the NSL-KDD train and test sets are reasonable. This advantage makes it affordable to run the experiments on the complete set without the need to randomly select a small portion. Consequently, evaluation results of different research work will be consistent and comparable.\n",
    "\n",
    "### Ficheros de datos\n",
    "* <span style=\"color:green\"> **KDDTrain+.ARFF**: The full NSL-KDD train set with binary labels in ARFF format </span>\n",
    "* KDDTrain+.TXT: The full NSL-KDD train set including attack-type labels and difficulty level in CSV format </span>\n",
    "* KDDTrain+_20Percent.ARFF: A 20% subset of the KDDTrain+.arff file \n",
    "* KDDTrain+_20Percent.TXT: A 20% subset of the KDDTrain+.txt file \n",
    "* KDDTest+.ARFF: The full NSL-KDD test set with binary labels in ARFF format\n",
    "* KDDTest+.TXT: The full NSL-KDD test set including attack-type labels and difficulty level in CSV format \n",
    "* KDDTest-21.ARFF: A subset of the KDDTest+.arff file which does not include records with difficulty level of 21 out of 21 \n",
    "* KDDTest-21.TXT: A subset of the KDDTest+.txt file which does not include records with difficulty level of 21 out of 21 "
   ]
  },
  {
   "cell_type": "markdown",
   "id": "43c7b24f-7bbd-4206-9363-0a75853f5e51",
   "metadata": {},
   "source": [
    "## 1.- Lectura del DataSet"
   ]
  },
  {
   "cell_type": "code",
   "execution_count": 4,
   "id": "f477c84f-18fb-42df-95f7-11b7daff2b47",
   "metadata": {},
   "outputs": [],
   "source": [
    "import arff\n",
    "import pandas as pd\n"
   ]
  },
  {
   "cell_type": "code",
   "execution_count": 6,
   "id": "eb6e4d7b-85fd-4528-9931-9787fc5042c9",
   "metadata": {},
   "outputs": [],
   "source": [
    "def load_kdd_dataset(data_path):\n",
    "    \"\"\"Lectura del DataSet NSL-KDD.\"\"\"\n",
    "    with open(data_path, 'r') as train_set:\n",
    "        dataset = arff.load(train_set)\n",
    "    attributes = [attr[0] for attr in dataset[\"attributes\"]]\n",
    "    return pd.DataFrame(dataset[\"data\"], columns = attributes)"
   ]
  },
  {
   "cell_type": "code",
   "execution_count": 12,
   "id": "44d8e93c-ed26-431c-8f3b-8b74dac76fc1",
   "metadata": {},
   "outputs": [],
   "source": [
    "df = load_kdd_dataset(\"../datasets/NSL-KDD/KDDTrain+.arff\")"
   ]
  },
  {
   "cell_type": "code",
   "execution_count": 14,
   "id": "c9418eff-dc3c-49e4-9623-ab416311bbff",
   "metadata": {},
   "outputs": [
    {
     "name": "stdout",
     "output_type": "stream",
     "text": [
      "<class 'pandas.core.frame.DataFrame'>\n",
      "RangeIndex: 125973 entries, 0 to 125972\n",
      "Data columns (total 42 columns):\n",
      " #   Column                       Non-Null Count   Dtype  \n",
      "---  ------                       --------------   -----  \n",
      " 0   duration                     125973 non-null  float64\n",
      " 1   protocol_type                125973 non-null  object \n",
      " 2   service                      125973 non-null  object \n",
      " 3   flag                         125973 non-null  object \n",
      " 4   src_bytes                    125973 non-null  float64\n",
      " 5   dst_bytes                    125973 non-null  float64\n",
      " 6   land                         125973 non-null  object \n",
      " 7   wrong_fragment               125973 non-null  float64\n",
      " 8   urgent                       125973 non-null  float64\n",
      " 9   hot                          125973 non-null  float64\n",
      " 10  num_failed_logins            125973 non-null  float64\n",
      " 11  logged_in                    125973 non-null  object \n",
      " 12  num_compromised              125973 non-null  float64\n",
      " 13  root_shell                   125973 non-null  float64\n",
      " 14  su_attempted                 125973 non-null  float64\n",
      " 15  num_root                     125973 non-null  float64\n",
      " 16  num_file_creations           125973 non-null  float64\n",
      " 17  num_shells                   125973 non-null  float64\n",
      " 18  num_access_files             125973 non-null  float64\n",
      " 19  num_outbound_cmds            125973 non-null  float64\n",
      " 20  is_host_login                125973 non-null  object \n",
      " 21  is_guest_login               125973 non-null  object \n",
      " 22  count                        125973 non-null  float64\n",
      " 23  srv_count                    125973 non-null  float64\n",
      " 24  serror_rate                  125973 non-null  float64\n",
      " 25  srv_serror_rate              125973 non-null  float64\n",
      " 26  rerror_rate                  125973 non-null  float64\n",
      " 27  srv_rerror_rate              125973 non-null  float64\n",
      " 28  same_srv_rate                125973 non-null  float64\n",
      " 29  diff_srv_rate                125973 non-null  float64\n",
      " 30  srv_diff_host_rate           125973 non-null  float64\n",
      " 31  dst_host_count               125973 non-null  float64\n",
      " 32  dst_host_srv_count           125973 non-null  float64\n",
      " 33  dst_host_same_srv_rate       125973 non-null  float64\n",
      " 34  dst_host_diff_srv_rate       125973 non-null  float64\n",
      " 35  dst_host_same_src_port_rate  125973 non-null  float64\n",
      " 36  dst_host_srv_diff_host_rate  125973 non-null  float64\n",
      " 37  dst_host_serror_rate         125973 non-null  float64\n",
      " 38  dst_host_srv_serror_rate     125973 non-null  float64\n",
      " 39  dst_host_rerror_rate         125973 non-null  float64\n",
      " 40  dst_host_srv_rerror_rate     125973 non-null  float64\n",
      " 41  class                        125973 non-null  object \n",
      "dtypes: float64(34), object(8)\n",
      "memory usage: 40.4+ MB\n"
     ]
    }
   ],
   "source": [
    "df.info()"
   ]
  },
  {
   "cell_type": "markdown",
   "id": "c125e7a4-2b5b-4bb9-afea-d3dcea252eab",
   "metadata": {},
   "source": [
    "## 2.- Division del DataSet\n",
    "\n",
    "Se debe separar el DataSet en los diferentes subconjuntos necesarios para realizar los procesos de entrenamiento, validacion y pruebas. sklearn tiene implementada la funcion **split_train_test**."
   ]
  },
  {
   "cell_type": "code",
   "execution_count": 17,
   "id": "fab04f60-93b9-43e3-a03e-8e54d16cca50",
   "metadata": {},
   "outputs": [],
   "source": [
    "# Separar el DataSet de datos, 60% train_set, 40% test_set\n",
    "from sklearn.model_selection import train_test_split\n",
    "\n",
    "train_set, test_set = train_test_split(df, test_size = 0.4, random_state = 42)"
   ]
  },
  {
   "cell_type": "code",
   "execution_count": 19,
   "id": "fe7420f2-82c2-44c5-9be7-81ff96120d5e",
   "metadata": {},
   "outputs": [
    {
     "name": "stdout",
     "output_type": "stream",
     "text": [
      "<class 'pandas.core.frame.DataFrame'>\n",
      "Index: 75583 entries, 98320 to 121958\n",
      "Data columns (total 42 columns):\n",
      " #   Column                       Non-Null Count  Dtype  \n",
      "---  ------                       --------------  -----  \n",
      " 0   duration                     75583 non-null  float64\n",
      " 1   protocol_type                75583 non-null  object \n",
      " 2   service                      75583 non-null  object \n",
      " 3   flag                         75583 non-null  object \n",
      " 4   src_bytes                    75583 non-null  float64\n",
      " 5   dst_bytes                    75583 non-null  float64\n",
      " 6   land                         75583 non-null  object \n",
      " 7   wrong_fragment               75583 non-null  float64\n",
      " 8   urgent                       75583 non-null  float64\n",
      " 9   hot                          75583 non-null  float64\n",
      " 10  num_failed_logins            75583 non-null  float64\n",
      " 11  logged_in                    75583 non-null  object \n",
      " 12  num_compromised              75583 non-null  float64\n",
      " 13  root_shell                   75583 non-null  float64\n",
      " 14  su_attempted                 75583 non-null  float64\n",
      " 15  num_root                     75583 non-null  float64\n",
      " 16  num_file_creations           75583 non-null  float64\n",
      " 17  num_shells                   75583 non-null  float64\n",
      " 18  num_access_files             75583 non-null  float64\n",
      " 19  num_outbound_cmds            75583 non-null  float64\n",
      " 20  is_host_login                75583 non-null  object \n",
      " 21  is_guest_login               75583 non-null  object \n",
      " 22  count                        75583 non-null  float64\n",
      " 23  srv_count                    75583 non-null  float64\n",
      " 24  serror_rate                  75583 non-null  float64\n",
      " 25  srv_serror_rate              75583 non-null  float64\n",
      " 26  rerror_rate                  75583 non-null  float64\n",
      " 27  srv_rerror_rate              75583 non-null  float64\n",
      " 28  same_srv_rate                75583 non-null  float64\n",
      " 29  diff_srv_rate                75583 non-null  float64\n",
      " 30  srv_diff_host_rate           75583 non-null  float64\n",
      " 31  dst_host_count               75583 non-null  float64\n",
      " 32  dst_host_srv_count           75583 non-null  float64\n",
      " 33  dst_host_same_srv_rate       75583 non-null  float64\n",
      " 34  dst_host_diff_srv_rate       75583 non-null  float64\n",
      " 35  dst_host_same_src_port_rate  75583 non-null  float64\n",
      " 36  dst_host_srv_diff_host_rate  75583 non-null  float64\n",
      " 37  dst_host_serror_rate         75583 non-null  float64\n",
      " 38  dst_host_srv_serror_rate     75583 non-null  float64\n",
      " 39  dst_host_rerror_rate         75583 non-null  float64\n",
      " 40  dst_host_srv_rerror_rate     75583 non-null  float64\n",
      " 41  class                        75583 non-null  object \n",
      "dtypes: float64(34), object(8)\n",
      "memory usage: 24.8+ MB\n"
     ]
    }
   ],
   "source": [
    "train_set.info()"
   ]
  },
  {
   "cell_type": "code",
   "execution_count": 27,
   "id": "753101c4-8487-4a28-bd46-44fd51d2cb85",
   "metadata": {},
   "outputs": [
    {
     "name": "stdout",
     "output_type": "stream",
     "text": [
      "<class 'pandas.core.frame.DataFrame'>\n",
      "Index: 25195 entries, 34615 to 84708\n",
      "Data columns (total 42 columns):\n",
      " #   Column                       Non-Null Count  Dtype  \n",
      "---  ------                       --------------  -----  \n",
      " 0   duration                     25195 non-null  float64\n",
      " 1   protocol_type                25195 non-null  object \n",
      " 2   service                      25195 non-null  object \n",
      " 3   flag                         25195 non-null  object \n",
      " 4   src_bytes                    25195 non-null  float64\n",
      " 5   dst_bytes                    25195 non-null  float64\n",
      " 6   land                         25195 non-null  object \n",
      " 7   wrong_fragment               25195 non-null  float64\n",
      " 8   urgent                       25195 non-null  float64\n",
      " 9   hot                          25195 non-null  float64\n",
      " 10  num_failed_logins            25195 non-null  float64\n",
      " 11  logged_in                    25195 non-null  object \n",
      " 12  num_compromised              25195 non-null  float64\n",
      " 13  root_shell                   25195 non-null  float64\n",
      " 14  su_attempted                 25195 non-null  float64\n",
      " 15  num_root                     25195 non-null  float64\n",
      " 16  num_file_creations           25195 non-null  float64\n",
      " 17  num_shells                   25195 non-null  float64\n",
      " 18  num_access_files             25195 non-null  float64\n",
      " 19  num_outbound_cmds            25195 non-null  float64\n",
      " 20  is_host_login                25195 non-null  object \n",
      " 21  is_guest_login               25195 non-null  object \n",
      " 22  count                        25195 non-null  float64\n",
      " 23  srv_count                    25195 non-null  float64\n",
      " 24  serror_rate                  25195 non-null  float64\n",
      " 25  srv_serror_rate              25195 non-null  float64\n",
      " 26  rerror_rate                  25195 non-null  float64\n",
      " 27  srv_rerror_rate              25195 non-null  float64\n",
      " 28  same_srv_rate                25195 non-null  float64\n",
      " 29  diff_srv_rate                25195 non-null  float64\n",
      " 30  srv_diff_host_rate           25195 non-null  float64\n",
      " 31  dst_host_count               25195 non-null  float64\n",
      " 32  dst_host_srv_count           25195 non-null  float64\n",
      " 33  dst_host_same_srv_rate       25195 non-null  float64\n",
      " 34  dst_host_diff_srv_rate       25195 non-null  float64\n",
      " 35  dst_host_same_src_port_rate  25195 non-null  float64\n",
      " 36  dst_host_srv_diff_host_rate  25195 non-null  float64\n",
      " 37  dst_host_serror_rate         25195 non-null  float64\n",
      " 38  dst_host_srv_serror_rate     25195 non-null  float64\n",
      " 39  dst_host_rerror_rate         25195 non-null  float64\n",
      " 40  dst_host_srv_rerror_rate     25195 non-null  float64\n",
      " 41  class                        25195 non-null  object \n",
      "dtypes: float64(34), object(8)\n",
      "memory usage: 8.3+ MB\n"
     ]
    }
   ],
   "source": [
    "test_set.info()"
   ]
  },
  {
   "cell_type": "code",
   "execution_count": 23,
   "id": "1ad46dc2-4dbf-4d50-97bf-e19ac9328b9e",
   "metadata": {},
   "outputs": [],
   "source": [
    "# Separar el DataSet de pruebas 50% para validation_set y 50% para test_set\n",
    "val_set, test_set = train_test_split(test_set, test_size= 0.5, random_state = 42)"
   ]
  },
  {
   "cell_type": "code",
   "execution_count": 25,
   "id": "0741e0af-dc54-4f3e-9a91-3a395b141ed0",
   "metadata": {},
   "outputs": [
    {
     "name": "stdout",
     "output_type": "stream",
     "text": [
      "Longitud del Training_set:  75583\n",
      "Longitud de Validation_set:  25195\n",
      "Longitud de Test_set:  25195\n"
     ]
    }
   ],
   "source": [
    "print(\"Longitud del Training_set: \", len(train_set))\n",
    "print(\"Longitud de Validation_set: \",len(val_set))\n",
    "print(\"Longitud de Test_set: \", len(test_set))"
   ]
  },
  {
   "cell_type": "markdown",
   "id": "cc4b29ae-2496-452a-b596-3f9934c6264a",
   "metadata": {},
   "source": [
    "## 3.- Particionado aleatorio y Stratified Sampling\n",
    "\n",
    "Sklearn implementa la funcion **train_test_split**, sin embargo, esta funcion por defecto realiza un particionado del DataSet aleatorio para cada vez que se ejecuta el script. Aun añadiendo una semilla fija para la generacion aleatoria cada vez que se cargue de nuevo el DataSet se generaran nuevos subconjuntos, esto puede ocasionar que despues de muchos intentos, el algoritmo \"vea o conozca\" todo el DataSet.\n",
    "\n",
    "Para solucionar este stopper, Sklearn ha implementado **Shuffle** en la funcion **train_test_split**."
   ]
  },
  {
   "cell_type": "code",
   "execution_count": null,
   "id": "73f7b47b-1152-4a79-b310-0473277d608e",
   "metadata": {},
   "outputs": [],
   "source": []
  }
 ],
 "metadata": {
  "kernelspec": {
   "display_name": "Python 3 (ipykernel)",
   "language": "python",
   "name": "python3"
  },
  "language_info": {
   "codemirror_mode": {
    "name": "ipython",
    "version": 3
   },
   "file_extension": ".py",
   "mimetype": "text/x-python",
   "name": "python",
   "nbconvert_exporter": "python",
   "pygments_lexer": "ipython3",
   "version": "3.9.20"
  }
 },
 "nbformat": 4,
 "nbformat_minor": 5
}

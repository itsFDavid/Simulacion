{
 "cells": [
  {
   "cell_type": "markdown",
   "id": "2d2d769b-fe37-474b-8d2e-fd6b1b9e45e8",
   "metadata": {},
   "source": [
    "# Division del DataSet\n",
    "\n",
    "En este Notebook se muestran algunos alguno de los mecanismos mas utilizados para la division del DataSet."
   ]
  },
  {
   "cell_type": "markdown",
   "id": "1ff16221-34d0-42fd-81aa-6ffa545d8aac",
   "metadata": {},
   "source": [
    "## DataSet\n",
    "\n",
    "### Descripcion\n",
    "\n",
    "NSL-KDD is a data set suggested to solve some of the inherent problems of the KDD'99 data set which are mentioned in. Although, this new version of the KDD data set still suffers from some of the problems discussed by McHugh and may not be a perfect representative of existing real networks, because of the lack of public data sets for network-based IDSs, we believe it still can be applied as an effective benchmark data set to help researchers compare different intrusion detection methods. Furthermore, the number of records in the NSL-KDD train and test sets are reasonable. This advantage makes it affordable to run the experiments on the complete set without the need to randomly select a small portion. Consequently, evaluation results of different research work will be consistent and comparable.\n",
    "\n",
    "### Ficheros de datos\n",
    "* <span style=\"color:green\"> **KDDTrain+.ARFF**: The full NSL-KDD train set with binary labels in ARFF format </span>\n",
    "* KDDTrain+.TXT: The full NSL-KDD train set including attack-type labels and difficulty level in CSV format </span>\n",
    "* KDDTrain+_20Percent.ARFF: A 20% subset of the KDDTrain+.arff file \n",
    "* KDDTrain+_20Percent.TXT: A 20% subset of the KDDTrain+.txt file \n",
    "* KDDTest+.ARFF: The full NSL-KDD test set with binary labels in ARFF format\n",
    "* KDDTest+.TXT: The full NSL-KDD test set including attack-type labels and difficulty level in CSV format \n",
    "* KDDTest-21.ARFF: A subset of the KDDTest+.arff file which does not include records with difficulty level of 21 out of 21 \n",
    "* KDDTest-21.TXT: A subset of the KDDTest+.txt file which does not include records with difficulty level of 21 out of 21 "
   ]
  },
  {
   "cell_type": "markdown",
   "id": "43c7b24f-7bbd-4206-9363-0a75853f5e51",
   "metadata": {},
   "source": [
    "## 1.- Lectura del DataSet"
   ]
  },
  {
   "cell_type": "code",
   "execution_count": 4,
   "id": "f477c84f-18fb-42df-95f7-11b7daff2b47",
   "metadata": {},
   "outputs": [],
   "source": [
    "import arff\n",
    "import pandas as pd\n"
   ]
  },
  {
   "cell_type": "code",
   "execution_count": 5,
   "id": "eb6e4d7b-85fd-4528-9931-9787fc5042c9",
   "metadata": {},
   "outputs": [],
   "source": [
    "def load_kdd_dataset(data_path):\n",
    "    \"\"\"Lectura del DataSet NSL-KDD.\"\"\"\n",
    "    with open(data_path, 'r') as train_set:\n",
    "        dataset = arff.load(train_set)\n",
    "    attributes = [attr[0] for attr in dataset[\"attributes\"]]\n",
    "    return pd.DataFrame(dataset[\"data\"], columns = attributes)"
   ]
  },
  {
   "cell_type": "code",
   "execution_count": 6,
   "id": "44d8e93c-ed26-431c-8f3b-8b74dac76fc1",
   "metadata": {},
   "outputs": [],
   "source": [
    "df = load_kdd_dataset(\"../datasets/NSL-KDD/KDDTrain+.arff\")"
   ]
  },
  {
   "cell_type": "code",
   "execution_count": 7,
   "id": "c9418eff-dc3c-49e4-9623-ab416311bbff",
   "metadata": {},
   "outputs": [
    {
     "name": "stdout",
     "output_type": "stream",
     "text": [
      "<class 'pandas.core.frame.DataFrame'>\n",
      "RangeIndex: 125973 entries, 0 to 125972\n",
      "Data columns (total 42 columns):\n",
      " #   Column                       Non-Null Count   Dtype  \n",
      "---  ------                       --------------   -----  \n",
      " 0   duration                     125973 non-null  float64\n",
      " 1   protocol_type                125973 non-null  object \n",
      " 2   service                      125973 non-null  object \n",
      " 3   flag                         125973 non-null  object \n",
      " 4   src_bytes                    125973 non-null  float64\n",
      " 5   dst_bytes                    125973 non-null  float64\n",
      " 6   land                         125973 non-null  object \n",
      " 7   wrong_fragment               125973 non-null  float64\n",
      " 8   urgent                       125973 non-null  float64\n",
      " 9   hot                          125973 non-null  float64\n",
      " 10  num_failed_logins            125973 non-null  float64\n",
      " 11  logged_in                    125973 non-null  object \n",
      " 12  num_compromised              125973 non-null  float64\n",
      " 13  root_shell                   125973 non-null  float64\n",
      " 14  su_attempted                 125973 non-null  float64\n",
      " 15  num_root                     125973 non-null  float64\n",
      " 16  num_file_creations           125973 non-null  float64\n",
      " 17  num_shells                   125973 non-null  float64\n",
      " 18  num_access_files             125973 non-null  float64\n",
      " 19  num_outbound_cmds            125973 non-null  float64\n",
      " 20  is_host_login                125973 non-null  object \n",
      " 21  is_guest_login               125973 non-null  object \n",
      " 22  count                        125973 non-null  float64\n",
      " 23  srv_count                    125973 non-null  float64\n",
      " 24  serror_rate                  125973 non-null  float64\n",
      " 25  srv_serror_rate              125973 non-null  float64\n",
      " 26  rerror_rate                  125973 non-null  float64\n",
      " 27  srv_rerror_rate              125973 non-null  float64\n",
      " 28  same_srv_rate                125973 non-null  float64\n",
      " 29  diff_srv_rate                125973 non-null  float64\n",
      " 30  srv_diff_host_rate           125973 non-null  float64\n",
      " 31  dst_host_count               125973 non-null  float64\n",
      " 32  dst_host_srv_count           125973 non-null  float64\n",
      " 33  dst_host_same_srv_rate       125973 non-null  float64\n",
      " 34  dst_host_diff_srv_rate       125973 non-null  float64\n",
      " 35  dst_host_same_src_port_rate  125973 non-null  float64\n",
      " 36  dst_host_srv_diff_host_rate  125973 non-null  float64\n",
      " 37  dst_host_serror_rate         125973 non-null  float64\n",
      " 38  dst_host_srv_serror_rate     125973 non-null  float64\n",
      " 39  dst_host_rerror_rate         125973 non-null  float64\n",
      " 40  dst_host_srv_rerror_rate     125973 non-null  float64\n",
      " 41  class                        125973 non-null  object \n",
      "dtypes: float64(34), object(8)\n",
      "memory usage: 40.4+ MB\n"
     ]
    }
   ],
   "source": [
    "df.info()"
   ]
  },
  {
   "cell_type": "markdown",
   "id": "c125e7a4-2b5b-4bb9-afea-d3dcea252eab",
   "metadata": {},
   "source": [
    "## 2.- Division del DataSet\n",
    "\n",
    "Se debe separar el DataSet en los diferentes subconjuntos necesarios para realizar los procesos de entrenamiento, validacion y pruebas. sklearn tiene implementada la funcion **split_train_test**."
   ]
  },
  {
   "cell_type": "code",
   "execution_count": 9,
   "id": "fab04f60-93b9-43e3-a03e-8e54d16cca50",
   "metadata": {},
   "outputs": [],
   "source": [
    "# Separar el DataSet de datos, 60% train_set, 40% test_set\n",
    "from sklearn.model_selection import train_test_split\n",
    "\n",
    "train_set, test_set = train_test_split(df, test_size = 0.4, random_state = 42)"
   ]
  },
  {
   "cell_type": "code",
   "execution_count": 10,
   "id": "fe7420f2-82c2-44c5-9be7-81ff96120d5e",
   "metadata": {},
   "outputs": [
    {
     "name": "stdout",
     "output_type": "stream",
     "text": [
      "<class 'pandas.core.frame.DataFrame'>\n",
      "Index: 75583 entries, 98320 to 121958\n",
      "Data columns (total 42 columns):\n",
      " #   Column                       Non-Null Count  Dtype  \n",
      "---  ------                       --------------  -----  \n",
      " 0   duration                     75583 non-null  float64\n",
      " 1   protocol_type                75583 non-null  object \n",
      " 2   service                      75583 non-null  object \n",
      " 3   flag                         75583 non-null  object \n",
      " 4   src_bytes                    75583 non-null  float64\n",
      " 5   dst_bytes                    75583 non-null  float64\n",
      " 6   land                         75583 non-null  object \n",
      " 7   wrong_fragment               75583 non-null  float64\n",
      " 8   urgent                       75583 non-null  float64\n",
      " 9   hot                          75583 non-null  float64\n",
      " 10  num_failed_logins            75583 non-null  float64\n",
      " 11  logged_in                    75583 non-null  object \n",
      " 12  num_compromised              75583 non-null  float64\n",
      " 13  root_shell                   75583 non-null  float64\n",
      " 14  su_attempted                 75583 non-null  float64\n",
      " 15  num_root                     75583 non-null  float64\n",
      " 16  num_file_creations           75583 non-null  float64\n",
      " 17  num_shells                   75583 non-null  float64\n",
      " 18  num_access_files             75583 non-null  float64\n",
      " 19  num_outbound_cmds            75583 non-null  float64\n",
      " 20  is_host_login                75583 non-null  object \n",
      " 21  is_guest_login               75583 non-null  object \n",
      " 22  count                        75583 non-null  float64\n",
      " 23  srv_count                    75583 non-null  float64\n",
      " 24  serror_rate                  75583 non-null  float64\n",
      " 25  srv_serror_rate              75583 non-null  float64\n",
      " 26  rerror_rate                  75583 non-null  float64\n",
      " 27  srv_rerror_rate              75583 non-null  float64\n",
      " 28  same_srv_rate                75583 non-null  float64\n",
      " 29  diff_srv_rate                75583 non-null  float64\n",
      " 30  srv_diff_host_rate           75583 non-null  float64\n",
      " 31  dst_host_count               75583 non-null  float64\n",
      " 32  dst_host_srv_count           75583 non-null  float64\n",
      " 33  dst_host_same_srv_rate       75583 non-null  float64\n",
      " 34  dst_host_diff_srv_rate       75583 non-null  float64\n",
      " 35  dst_host_same_src_port_rate  75583 non-null  float64\n",
      " 36  dst_host_srv_diff_host_rate  75583 non-null  float64\n",
      " 37  dst_host_serror_rate         75583 non-null  float64\n",
      " 38  dst_host_srv_serror_rate     75583 non-null  float64\n",
      " 39  dst_host_rerror_rate         75583 non-null  float64\n",
      " 40  dst_host_srv_rerror_rate     75583 non-null  float64\n",
      " 41  class                        75583 non-null  object \n",
      "dtypes: float64(34), object(8)\n",
      "memory usage: 24.8+ MB\n"
     ]
    }
   ],
   "source": [
    "train_set.info()"
   ]
  },
  {
   "cell_type": "code",
   "execution_count": 11,
   "id": "753101c4-8487-4a28-bd46-44fd51d2cb85",
   "metadata": {},
   "outputs": [
    {
     "name": "stdout",
     "output_type": "stream",
     "text": [
      "<class 'pandas.core.frame.DataFrame'>\n",
      "Index: 50390 entries, 378 to 89600\n",
      "Data columns (total 42 columns):\n",
      " #   Column                       Non-Null Count  Dtype  \n",
      "---  ------                       --------------  -----  \n",
      " 0   duration                     50390 non-null  float64\n",
      " 1   protocol_type                50390 non-null  object \n",
      " 2   service                      50390 non-null  object \n",
      " 3   flag                         50390 non-null  object \n",
      " 4   src_bytes                    50390 non-null  float64\n",
      " 5   dst_bytes                    50390 non-null  float64\n",
      " 6   land                         50390 non-null  object \n",
      " 7   wrong_fragment               50390 non-null  float64\n",
      " 8   urgent                       50390 non-null  float64\n",
      " 9   hot                          50390 non-null  float64\n",
      " 10  num_failed_logins            50390 non-null  float64\n",
      " 11  logged_in                    50390 non-null  object \n",
      " 12  num_compromised              50390 non-null  float64\n",
      " 13  root_shell                   50390 non-null  float64\n",
      " 14  su_attempted                 50390 non-null  float64\n",
      " 15  num_root                     50390 non-null  float64\n",
      " 16  num_file_creations           50390 non-null  float64\n",
      " 17  num_shells                   50390 non-null  float64\n",
      " 18  num_access_files             50390 non-null  float64\n",
      " 19  num_outbound_cmds            50390 non-null  float64\n",
      " 20  is_host_login                50390 non-null  object \n",
      " 21  is_guest_login               50390 non-null  object \n",
      " 22  count                        50390 non-null  float64\n",
      " 23  srv_count                    50390 non-null  float64\n",
      " 24  serror_rate                  50390 non-null  float64\n",
      " 25  srv_serror_rate              50390 non-null  float64\n",
      " 26  rerror_rate                  50390 non-null  float64\n",
      " 27  srv_rerror_rate              50390 non-null  float64\n",
      " 28  same_srv_rate                50390 non-null  float64\n",
      " 29  diff_srv_rate                50390 non-null  float64\n",
      " 30  srv_diff_host_rate           50390 non-null  float64\n",
      " 31  dst_host_count               50390 non-null  float64\n",
      " 32  dst_host_srv_count           50390 non-null  float64\n",
      " 33  dst_host_same_srv_rate       50390 non-null  float64\n",
      " 34  dst_host_diff_srv_rate       50390 non-null  float64\n",
      " 35  dst_host_same_src_port_rate  50390 non-null  float64\n",
      " 36  dst_host_srv_diff_host_rate  50390 non-null  float64\n",
      " 37  dst_host_serror_rate         50390 non-null  float64\n",
      " 38  dst_host_srv_serror_rate     50390 non-null  float64\n",
      " 39  dst_host_rerror_rate         50390 non-null  float64\n",
      " 40  dst_host_srv_rerror_rate     50390 non-null  float64\n",
      " 41  class                        50390 non-null  object \n",
      "dtypes: float64(34), object(8)\n",
      "memory usage: 16.5+ MB\n"
     ]
    }
   ],
   "source": [
    "test_set.info()"
   ]
  },
  {
   "cell_type": "code",
   "execution_count": 12,
   "id": "1ad46dc2-4dbf-4d50-97bf-e19ac9328b9e",
   "metadata": {},
   "outputs": [],
   "source": [
    "# Separar el DataSet de pruebas 50% para validation_set y 50% para test_set\n",
    "val_set, test_set = train_test_split(test_set, test_size= 0.5, random_state = 42)"
   ]
  },
  {
   "cell_type": "code",
   "execution_count": 13,
   "id": "0741e0af-dc54-4f3e-9a91-3a395b141ed0",
   "metadata": {},
   "outputs": [
    {
     "name": "stdout",
     "output_type": "stream",
     "text": [
      "Longitud del Training_set:  75583\n",
      "Longitud de Validation_set:  25195\n",
      "Longitud de Test_set:  25195\n"
     ]
    }
   ],
   "source": [
    "print(\"Longitud del Training_set: \", len(train_set))\n",
    "print(\"Longitud de Validation_set: \",len(val_set))\n",
    "print(\"Longitud de Test_set: \", len(test_set))"
   ]
  },
  {
   "cell_type": "markdown",
   "id": "cc4b29ae-2496-452a-b596-3f9934c6264a",
   "metadata": {},
   "source": [
    "## 3.- Particionado aleatorio y Stratified Sampling\n",
    "\n",
    "Sklearn implementa la funcion **train_test_split**, sin embargo, esta funcion por defecto realiza un particionado del DataSet aleatorio para cada vez que se ejecuta el script. Aun añadiendo una semilla fija para la generacion aleatoria cada vez que se cargue de nuevo el DataSet se generaran nuevos subconjuntos, esto puede ocasionar que despues de muchos intentos, el algoritmo \"vea o conozca\" todo el DataSet.\n",
    "\n",
    "Para solucionar este stopper, Sklearn ha implementado **Shuffle** en la funcion **train_test_split**."
   ]
  },
  {
   "cell_type": "code",
   "execution_count": 15,
   "id": "73f7b47b-1152-4a79-b310-0473277d608e",
   "metadata": {},
   "outputs": [],
   "source": [
    "# Si shuffle = false, el DataSet no mezclara antes el particionado.\n",
    "train_set, test_set = train_test_split(df, test_size = 0.40, random_state = 42, shuffle = False)"
   ]
  },
  {
   "cell_type": "markdown",
   "id": "ac75a567-05b8-46ca-b29f-e0ae8aca232f",
   "metadata": {},
   "source": [
    "Estos metodos de division del DataSet estan bien, si se tiene un DataSet muy grande, pero si no se tiene, se corre el riesgo de introducir **sampling bias**.\n",
    "\n",
    "Para evitar esto, se utiliza un metodo de sampling que se llama **Stratified sampling**. El objetivo que no quede ninguna caracteristica del DataSet sin representacion en ninguno de los subconjuntos de datos para una o mas caracteristicas en particular.\n",
    "\n",
    "Sklearn introduce el parametro **stratify** en la funcion **train_test_split** para controlar este comportamiento en particular.\n",
    "\n",
    "This stratified parameter makes a split so that the proportional of values in the sample producer will be the same as the proportion of make sure that your random split has 25% of 0´s and 75% of 1's."
   ]
  },
  {
   "cell_type": "code",
   "execution_count": 17,
   "id": "3334f6a8-2756-4b9b-861e-1c236e4802a1",
   "metadata": {},
   "outputs": [],
   "source": [
    "train_set, test_set = train_test_split(df, test_size = 0.40, random_state = 42, stratify = df[\"protocol_type\"])"
   ]
  },
  {
   "cell_type": "markdown",
   "id": "d8928f80-f180-42ca-8eb6-32664504dfaa",
   "metadata": {},
   "source": [
    "## 4.- Generacion de una funcion de particionado."
   ]
  },
  {
   "cell_type": "code",
   "execution_count": 19,
   "id": "f868f89f-76e9-49e7-ac93-928de38afc2c",
   "metadata": {},
   "outputs": [],
   "source": [
    "# Construccion de una funcion que realice el particionado completo\n",
    "def train_val_test_split(df, rsate = 42, shuffle = True, stratify = None):\n",
    "    strat = df[stratify] if stratify else None\n",
    "    train_set, test_set = train_test_split(\n",
    "        df, test_size = 0.4, random_state = rsate, shuffle = shuffle, stratify = strat  \n",
    "    )\n",
    "    strat = test_set[stratify] if stratify else None\n",
    "    val_set, test_set = train_test_split(\n",
    "        test_set, test_size = 0.5, random_state = rsate, shuffle = shuffle, stratify = strat\n",
    "    )\n",
    "    return (train_set, val_set, test_set)"
   ]
  },
  {
   "cell_type": "code",
   "execution_count": 20,
   "id": "728a1bfc-d286-4c25-89c0-fa9325777497",
   "metadata": {},
   "outputs": [
    {
     "name": "stdout",
     "output_type": "stream",
     "text": [
      "Longitud del DataSet:  125973\n",
      "Longitud del Training_set:  75583\n",
      "Longitud de Validation_set:  25195\n",
      "Longitud de Test_set:  25195\n"
     ]
    }
   ],
   "source": [
    "print(\"Longitud del DataSet: \", len(df))\n",
    "train_set, eval_set, test_set = train_val_test_split(df, stratify = 'protocol_type')\n",
    "print(\"Longitud del Training_set: \", len(train_set))\n",
    "print(\"Longitud de Validation_set: \",len(eval_set))\n",
    "print(\"Longitud de Test_set: \", len(test_set))"
   ]
  },
  {
   "cell_type": "code",
   "execution_count": 21,
   "id": "ab64a9fc-9e32-4e2a-b1fb-248dfdb81e21",
   "metadata": {},
   "outputs": [
    {
     "data": {
      "text/plain": [
       "<Axes: >"
      ]
     },
     "execution_count": 21,
     "metadata": {},
     "output_type": "execute_result"
    },
    {
     "data": {
      "image/png": "[encoded data removed]",
      "text/plain": [
       "<Figure size 640x480 with 1 Axes>"
      ]
     },
     "metadata": {},
     "output_type": "display_data"
    }
   ],
   "source": [
    "# Comprobar de que stratify mantiene la proporcion de las caracteristicas de los conjuntos\n",
    "%matplotlib inline\n",
    "import matplotlib.pyplot as plt\n",
    "\n",
    "df[\"protocol_type\"].hist()"
   ]
  },
  {
   "cell_type": "code",
   "execution_count": 22,
   "id": "4ceb1a1b-3f8c-4247-b0b4-5525350c4d6e",
   "metadata": {},
   "outputs": [
    {
     "data": {
      "text/plain": [
       "<Axes: >"
      ]
     },
     "execution_count": 22,
     "metadata": {},
     "output_type": "execute_result"
    },
    {
     "data": {
      "image/png": "[encoded data removed]",
      "text/plain": [
       "<Figure size 640x480 with 1 Axes>"
      ]
     },
     "metadata": {},
     "output_type": "display_data"
    }
   ],
   "source": [
    "train_set[\"protocol_type\"].hist()"
   ]
  },
  {
   "cell_type": "code",
   "execution_count": 23,
   "id": "91d11a7e-0e9c-4572-9bc5-229d0ec25383",
   "metadata": {},
   "outputs": [
    {
     "data": {
      "text/plain": [
       "<Axes: >"
      ]
     },
     "execution_count": 23,
     "metadata": {},
     "output_type": "execute_result"
    },
    {
     "data": {
      "image/png": "[encoded data removed]",
      "text/plain": [
       "<Figure size 640x480 with 1 Axes>"
      ]
     },
     "metadata": {},
     "output_type": "display_data"
    }
   ],
   "source": [
    "val_set[\"protocol_type\"].hist()"
   ]
  },
  {
   "cell_type": "code",
   "execution_count": 24,
   "id": "f2a04735-8983-4b39-affe-bafc9b4e4f39",
   "metadata": {},
   "outputs": [
    {
     "data": {
      "text/plain": [
       "<Axes: >"
      ]
     },
     "execution_count": 24,
     "metadata": {},
     "output_type": "execute_result"
    },
    {
     "data": {
      "image/png": "[encoded data removed]",
      "text/plain": [
       "<Figure size 640x480 with 1 Axes>"
      ]
     },
     "metadata": {},
     "output_type": "display_data"
    }
   ],
   "source": [
    "test_set[\"protocol_type\"].hist()"
   ]
  },
  {
   "cell_type": "code",
   "execution_count": null,
   "id": "168bcd9f-4da8-4c29-bb23-100a4f9981b3",
   "metadata": {},
   "outputs": [],
   "source": []
  }
 ],
 "metadata": {
  "kernelspec": {
   "display_name": "Python 3 (ipykernel)",
   "language": "python",
   "name": "python3"
  },
  "language_info": {
   "codemirror_mode": {
    "name": "ipython",
    "version": 3
   },
   "file_extension": ".py",
   "mimetype": "text/x-python",
   "name": "python",
   "nbconvert_exporter": "python",
   "pygments_lexer": "ipython3",
   "version": "3.9.20"
  }
 },
 "nbformat": 4,
 "nbformat_minor": 5
}

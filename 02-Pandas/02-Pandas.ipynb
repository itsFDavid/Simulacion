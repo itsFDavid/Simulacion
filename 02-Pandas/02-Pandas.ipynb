{
 "cells": [
  {
   "cell_type": "markdown",
   "id": "bcfefe8c-12b0-4ce5-bac0-a91fbe149a08",
   "metadata": {},
   "source": [
    "# Introduccion a Pandas\n",
    "[Pandas](https://pandas.pydata.org/about/index.html) es una biblioteca que proporciona estructuras de datos y herramientas de anailis de datosn de alto rendimiento y faciles de usar.\n",
    "* La estrucutra de datos pricipal es el DataFrame, que puede considerarse como una tabla 2D en memoria (como una hoja de calculo, con nombres de columna y etiquetas de fila).\n",
    "* Muchas funciones disponibles en Excel, estan disponibles mediante programacion como crear tablas dinamicas, calcular columnas basadas en otras columnas, trazar graficos, etc.\n",
    "* Proporciona un alto rendimiento para manipular (unir, dividir, modificar, etc.) grandes conjuntos de datos"
   ]
  },
  {
   "cell_type": "markdown",
   "id": "cef86a57-f932-4de0-bb32-064b6198e3b3",
   "metadata": {},
   "source": [
    "## Import"
   ]
  },
  {
   "cell_type": "code",
   "execution_count": 3,
   "id": "bf8334cb-8e19-4393-8e47-3eb4dcface8f",
   "metadata": {},
   "outputs": [],
   "source": [
    "import pandas as pd"
   ]
  },
  {
   "cell_type": "markdown",
   "id": "bc4c626a-5e34-47a8-b067-51b0e94c531a",
   "metadata": {},
   "source": [
    "### Estructuras de Datos de Pandas\n",
    "La biblioteca de Pandas, de manera genérica, contiene las siguientes estructuras de datos:\n",
    "* **Series:** Array de una dimensión\n",
    "* **DataFrame:** Corresponde a una tabla de 2 dimensiones\n",
    "* **Panel:** Similar a un diccionario de DataFrames"
   ]
  },
  {
   "cell_type": "markdown",
   "id": "942d1d30-34ed-4494-af5a-dde881d0ce69",
   "metadata": {},
   "source": [
    "### Creacion de objeto Series"
   ]
  },
  {
   "cell_type": "code",
   "execution_count": 6,
   "id": "f57ab477-1ce4-43b5-ab31-3def0d49096a",
   "metadata": {},
   "outputs": [
    {
     "name": "stdout",
     "output_type": "stream",
     "text": [
      "0     2\n",
      "1     4\n",
      "2     6\n",
      "3     8\n",
      "4    10\n",
      "dtype: int64\n"
     ]
    }
   ],
   "source": [
    "s = pd.Series([2, 4, 6, 8, 10])\n",
    "print(s)"
   ]
  },
  {
   "cell_type": "code",
   "execution_count": 7,
   "id": "1cdd2efe-8f4b-42f9-b809-e7b880b19d1f",
   "metadata": {},
   "outputs": [
    {
     "name": "stdout",
     "output_type": "stream",
     "text": [
      "Gabo       170\n",
      "Lucero     160\n",
      "Braulio    180\n",
      "Jessica    161\n",
      "dtype: int64\n"
     ]
    }
   ],
   "source": [
    "# Creacion de un objeto Series inicializando con un diccionario de Python \n",
    "Altura =  {\n",
    "    \"Gabo\": 170,\n",
    "    \"Lucero\": 160,\n",
    "    \"Braulio\": 180,\n",
    "    \"Jessica\": 161\n",
    "} # <-- Este es un diccionario de python\n",
    "s = pd.Series(Altura)\n",
    "print(s)"
   ]
  },
  {
   "cell_type": "code",
   "execution_count": 8,
   "id": "32fa66ee-01aa-4914-a796-cf5ef118c846",
   "metadata": {},
   "outputs": [
    {
     "name": "stdout",
     "output_type": "stream",
     "text": [
      "Braulio    180\n",
      "Gabo       170\n",
      "dtype: int64\n"
     ]
    }
   ],
   "source": [
    "# Crear un Objeto Series e inicializarlo con algunos de los elementos de un diccionario de python\n",
    "Altura = {\n",
    "     \"Gabo\": 170,\n",
    "    \"Lucero\": 160,\n",
    "    \"Braulio\": 180,\n",
    "    \"Jessica\": 161\n",
    "}\n",
    "\n",
    "s = pd.Series(Altura, index = [\"Braulio\", \"Gabo\"])\n",
    "print(s)"
   ]
  },
  {
   "cell_type": "code",
   "execution_count": 9,
   "id": "510bead8-1723-4b34-b3dd-a9a858e3eb5c",
   "metadata": {},
   "outputs": [
    {
     "name": "stdout",
     "output_type": "stream",
     "text": [
      "Test1    34\n",
      "Test2    34\n",
      "Test3    34\n",
      "dtype: int64\n"
     ]
    }
   ],
   "source": [
    "# Creacion de un Objeto Series e inicializarlo con un escalar.\n",
    "s = pd.Series(34, [\"Test1\", \"Test2\", \"Test3\"])\n",
    "print(s)"
   ]
  },
  {
   "cell_type": "markdown",
   "id": "1f0aac54-3b47-4af6-a9c6-3808ef4159f4",
   "metadata": {},
   "source": [
    "## Acceso a los elementos de un objeto Series\n",
    "Cada elemento en un objeto Series tiene un identificador unico que se denomina **index label**."
   ]
  },
  {
   "cell_type": "code",
   "execution_count": 11,
   "id": "008a5026-77bd-47f2-b71a-3d1c91de523d",
   "metadata": {},
   "outputs": [
    {
     "name": "stdout",
     "output_type": "stream",
     "text": [
      "Num1    2\n",
      "Num2    4\n",
      "Num3    6\n",
      "Num4    8\n",
      "dtype: int64\n"
     ]
    }
   ],
   "source": [
    "# Crear un objeto Series\n",
    "s = pd.Series([2, 4, 6, 8], index = [\"Num1\", \"Num2\", \"Num3\", \"Num4\"])\n",
    "print(s)"
   ]
  },
  {
   "cell_type": "code",
   "execution_count": 12,
   "id": "1b4d4845-4118-498c-8a5a-17d83c8ea74d",
   "metadata": {},
   "outputs": [
    {
     "data": {
      "text/plain": [
       "np.int64(6)"
      ]
     },
     "execution_count": 12,
     "metadata": {},
     "output_type": "execute_result"
    }
   ],
   "source": [
    "# Acceder al tercer elemento del objeto\n",
    "s[\"Num3\"]"
   ]
  },
  {
   "cell_type": "code",
   "execution_count": 13,
   "id": "81c67414-fdc1-4780-94f4-7fe0fa11a3b4",
   "metadata": {},
   "outputs": [
    {
     "name": "stderr",
     "output_type": "stream",
     "text": [
      "/var/folders/hz/wt361b2n07lddh2hq8l8sy_40000gn/T/ipykernel_51079/2188709470.py:2: FutureWarning: Series.__getitem__ treating keys as positions is deprecated. In a future version, integer keys will always be treated as labels (consistent with DataFrame behavior). To access a value by position, use `ser.iloc[pos]`\n",
      "  s[2]\n"
     ]
    },
    {
     "data": {
      "text/plain": [
       "np.int64(6)"
      ]
     },
     "execution_count": 13,
     "metadata": {},
     "output_type": "execute_result"
    }
   ],
   "source": [
    "# Tambein se puede acceder al elemento por posicion.\n",
    "s[2]"
   ]
  },
  {
   "cell_type": "code",
   "execution_count": 14,
   "id": "49026c23-4033-435f-96b6-e423e3a3383f",
   "metadata": {},
   "outputs": [
    {
     "data": {
      "text/plain": [
       "np.int64(6)"
      ]
     },
     "execution_count": 14,
     "metadata": {},
     "output_type": "execute_result"
    }
   ],
   "source": [
    "# loc es la forma estandar de acceder a un elemento de un objeto Series por atributo\n",
    "s.loc[\"Num3\"]"
   ]
  },
  {
   "cell_type": "code",
   "execution_count": 15,
   "id": "b755fa3b-9a5d-40ba-add8-c48574ae2742",
   "metadata": {},
   "outputs": [
    {
     "data": {
      "text/plain": [
       "np.int64(6)"
      ]
     },
     "execution_count": 15,
     "metadata": {},
     "output_type": "execute_result"
    }
   ],
   "source": [
    "# iloc es la forma estandar de acceder a un elemento de un objeto Series por posicion.\n",
    "s.iloc[2]"
   ]
  },
  {
   "cell_type": "code",
   "execution_count": 16,
   "id": "042cfe78-c92b-4695-996c-182b6c9234d4",
   "metadata": {},
   "outputs": [
    {
     "data": {
      "text/plain": [
       "Num3    6\n",
       "Num4    8\n",
       "dtype: int64"
      ]
     },
     "execution_count": 16,
     "metadata": {},
     "output_type": "execute_result"
    }
   ],
   "source": [
    "# Accediendo al segundo y tercer elemento por posicion.\n",
    "s.iloc[2:4]"
   ]
  },
  {
   "cell_type": "markdown",
   "id": "8379a190-3cf1-4eda-bd6b-ab964caeac07",
   "metadata": {},
   "source": [
    "## Operaciones aritmeticas con Objetos Series"
   ]
  },
  {
   "cell_type": "code",
   "execution_count": 18,
   "id": "39913376-65cb-46bf-9861-969d3699a9b0",
   "metadata": {},
   "outputs": [
    {
     "name": "stdout",
     "output_type": "stream",
     "text": [
      "0     2\n",
      "1     4\n",
      "2     6\n",
      "3     8\n",
      "4    10\n",
      "dtype: int64\n"
     ]
    }
   ],
   "source": [
    "# Creacion de un objeto Series.\n",
    "s = pd.Series([2, 4, 6, 8, 10])\n",
    "print(s)"
   ]
  },
  {
   "cell_type": "code",
   "execution_count": 19,
   "id": "115efb7a-a2a9-4a4c-8409-adaf71033b8c",
   "metadata": {},
   "outputs": [
    {
     "data": {
      "text/plain": [
       "np.int64(30)"
      ]
     },
     "execution_count": 19,
     "metadata": {},
     "output_type": "execute_result"
    }
   ],
   "source": [
    "# Los objetos Series son similares y compatibles con los arrays de Numpy\n",
    "import numpy as np\n",
    "# ufunc de numpy para sumar los elementos de un array.\n",
    "np.sum(s)"
   ]
  },
  {
   "cell_type": "code",
   "execution_count": 54,
   "id": "380cc1b1-b8a5-4d27-bc85-386d83d758d4",
   "metadata": {},
   "outputs": [
    {
     "data": {
      "text/plain": [
       "0     4\n",
       "1     8\n",
       "2    12\n",
       "3    16\n",
       "4    20\n",
       "dtype: int64"
      ]
     },
     "execution_count": 54,
     "metadata": {},
     "output_type": "execute_result"
    }
   ],
   "source": [
    "# El resto de las operaciones aritmeticas de Numpy sobre Arrays tambien son posibles.\n",
    "# NOTA: para mas informacion al respecto ir a la introduccion de Numpy ó a su documentacion.\n",
    "s * 2"
   ]
  },
  {
   "cell_type": "markdown",
   "id": "5a81a381-2b58-4c2d-bfe0-b66c4a6f70a4",
   "metadata": {},
   "source": [
    "## Representacion Grafica de un Objeto Series"
   ]
  },
  {
   "cell_type": "code",
   "execution_count": 58,
   "id": "985e555f-fb8c-4c09-9f15-f362d4efc758",
   "metadata": {},
   "outputs": [
    {
     "name": "stdout",
     "output_type": "stream",
     "text": [
      "0     4.4\n",
      "1     5.1\n",
      "2     6.1\n",
      "3     6.2\n",
      "4     6.1\n",
      "5     6.1\n",
      "6     5.7\n",
      "7     5.2\n",
      "8     4.7\n",
      "9     4.1\n",
      "10    3.9\n",
      "Name: Temperaturas, dtype: float64\n"
     ]
    }
   ],
   "source": [
    "Temperaturas = [4.4, 5.1, 6.1, 6.2, 6.1, 6.1, 5.7, 5.2, 4.7, 4.1, 3.9] #<-- Estan dados en grados centigrados \n",
    "s = pd.Series(Temperaturas, name = \"Temperaturas\")\n",
    "print(s)"
   ]
  },
  {
   "cell_type": "code",
   "execution_count": 60,
   "id": "03a0d6c1-4734-4bfc-bd3a-1302a50b13e0",
   "metadata": {},
   "outputs": [
    {
     "data": {
      "image/png": "[encoded data removed]",
      "text/plain": [
       "<Figure size 640x480 with 1 Axes>"
      ]
     },
     "metadata": {},
     "output_type": "display_data"
    }
   ],
   "source": [
    "# Representacion grafica\n",
    "%matplotlib inline\n",
    "import matplotlib.pyplot as plt\n",
    "s.plot()\n",
    "plt.show()"
   ]
  },
  {
   "cell_type": "markdown",
   "id": "108db168-c390-46ee-857a-0c7e314aa247",
   "metadata": {},
   "source": [
    "## Creacion de un Objeto DataFrame"
   ]
  },
  {
   "cell_type": "code",
   "execution_count": 25,
   "id": "975e709a-cc03-415d-a9c1-40bdfd41071d",
   "metadata": {},
   "outputs": [
    {
     "data": {
      "text/html": [
       "<div>\n",
       "<style scoped>\n",
       "    .dataframe tbody tr th:only-of-type {\n",
       "        vertical-align: middle;\n",
       "    }\n",
       "\n",
       "    .dataframe tbody tr th {\n",
       "        vertical-align: top;\n",
       "    }\n",
       "\n",
       "    .dataframe thead th {\n",
       "        text-align: right;\n",
       "    }\n",
       "</style>\n",
       "<table border=\"1\" class=\"dataframe\">\n",
       "  <thead>\n",
       "    <tr style=\"text-align: right;\">\n",
       "      <th></th>\n",
       "      <th>Peso</th>\n",
       "      <th>Altura</th>\n",
       "      <th>Mascotas</th>\n",
       "    </tr>\n",
       "  </thead>\n",
       "  <tbody>\n",
       "    <tr>\n",
       "      <th>Braulio</th>\n",
       "      <td>70</td>\n",
       "      <td>180</td>\n",
       "      <td>7.0</td>\n",
       "    </tr>\n",
       "    <tr>\n",
       "      <th>Gabo</th>\n",
       "      <td>70</td>\n",
       "      <td>175</td>\n",
       "      <td>4.0</td>\n",
       "    </tr>\n",
       "    <tr>\n",
       "      <th>Jessica</th>\n",
       "      <td>60</td>\n",
       "      <td>161</td>\n",
       "      <td>NaN</td>\n",
       "    </tr>\n",
       "    <tr>\n",
       "      <th>Lucero</th>\n",
       "      <td>68</td>\n",
       "      <td>160</td>\n",
       "      <td>NaN</td>\n",
       "    </tr>\n",
       "  </tbody>\n",
       "</table>\n",
       "</div>"
      ],
      "text/plain": [
       "         Peso  Altura  Mascotas\n",
       "Braulio    70     180       7.0\n",
       "Gabo       70     175       4.0\n",
       "Jessica    60     161       NaN\n",
       "Lucero     68     160       NaN"
      ]
     },
     "execution_count": 25,
     "metadata": {},
     "output_type": "execute_result"
    }
   ],
   "source": [
    "# Creacion de un DataFrame inicializandolo con un diccionario de objeto Series\n",
    "Personas = {\n",
    "    \"Peso\": pd.Series([70, 68, 60, 70], [\"Gabo\", \"Lucero\", \"Jessica\", \"Braulio\"]),\n",
    "    \"Altura\": pd.Series({\n",
    "                    \"Gabo\": 175,\n",
    "                    \"Lucero\": 160,\n",
    "                    \"Braulio\": 180,\n",
    "                    \"Jessica\": 161\n",
    "                }),\n",
    "    \"Mascotas\": pd.Series([4, 7], [\"Gabo\", \"Braulio\"])\n",
    "}\n",
    "df = pd.DataFrame(Personas)\n",
    "df"
   ]
  },
  {
   "cell_type": "markdown",
   "id": "66b15d2a-1c90-490c-9491-45f5fb2b94bd",
   "metadata": {},
   "source": [
    "Puede forzarce el DataFrame a que presente unas columnas determinadas y en orden orden determinado"
   ]
  },
  {
   "cell_type": "code",
   "execution_count": 48,
   "id": "d256e1dd-70c7-4266-87a5-bd2ca8adfcc7",
   "metadata": {},
   "outputs": [
    {
     "data": {
      "text/html": [
       "<div>\n",
       "<style scoped>\n",
       "    .dataframe tbody tr th:only-of-type {\n",
       "        vertical-align: middle;\n",
       "    }\n",
       "\n",
       "    .dataframe tbody tr th {\n",
       "        vertical-align: top;\n",
       "    }\n",
       "\n",
       "    .dataframe thead th {\n",
       "        text-align: right;\n",
       "    }\n",
       "</style>\n",
       "<table border=\"1\" class=\"dataframe\">\n",
       "  <thead>\n",
       "    <tr style=\"text-align: right;\">\n",
       "      <th></th>\n",
       "      <th>Altura</th>\n",
       "      <th>Peso</th>\n",
       "    </tr>\n",
       "  </thead>\n",
       "  <tbody>\n",
       "    <tr>\n",
       "      <th>Gabo</th>\n",
       "      <td>175</td>\n",
       "      <td>70</td>\n",
       "    </tr>\n",
       "    <tr>\n",
       "      <th>Braulio</th>\n",
       "      <td>180</td>\n",
       "      <td>70</td>\n",
       "    </tr>\n",
       "    <tr>\n",
       "      <th>Lucero</th>\n",
       "      <td>160</td>\n",
       "      <td>68</td>\n",
       "    </tr>\n",
       "  </tbody>\n",
       "</table>\n",
       "</div>"
      ],
      "text/plain": [
       "         Altura  Peso\n",
       "Gabo        175    70\n",
       "Braulio     180    70\n",
       "Lucero      160    68"
      ]
     },
     "execution_count": 48,
     "metadata": {},
     "output_type": "execute_result"
    }
   ],
   "source": [
    "Personas = {\n",
    "    \"Peso\": pd.Series([70, 68, 60, 70], [\"Gabo\", \"Lucero\", \"Jessica\", \"Braulio\"]),\n",
    "    \"Altura\": pd.Series({\n",
    "                    \"Gabo\": 175,\n",
    "                    \"Lucero\": 160,\n",
    "                    \"Braulio\": 180,\n",
    "                    \"Jessica\": 161\n",
    "                }),\n",
    "    \"Mascotas\": pd.Series([4, 7], [\"Gabo\", \"Braulio\"])\n",
    "}\n",
    "df = pd.DataFrame(\n",
    "    Personas, \n",
    "    columns = [\"Altura\", \"Peso\"],\n",
    "    index = [\"Gabo\", \"Braulio\", \"Lucero\"]\n",
    ")\n",
    "df"
   ]
  },
  {
   "cell_type": "code",
   "execution_count": 62,
   "id": "1e874206-af40-4b54-bcdc-a77563797999",
   "metadata": {},
   "outputs": [
    {
     "data": {
      "text/html": [
       "<div>\n",
       "<style scoped>\n",
       "    .dataframe tbody tr th:only-of-type {\n",
       "        vertical-align: middle;\n",
       "    }\n",
       "\n",
       "    .dataframe tbody tr th {\n",
       "        vertical-align: top;\n",
       "    }\n",
       "\n",
       "    .dataframe thead th {\n",
       "        text-align: right;\n",
       "    }\n",
       "</style>\n",
       "<table border=\"1\" class=\"dataframe\">\n",
       "  <thead>\n",
       "    <tr style=\"text-align: right;\">\n",
       "      <th></th>\n",
       "      <th>Altura</th>\n",
       "      <th>Mascotas</th>\n",
       "      <th>Peso</th>\n",
       "    </tr>\n",
       "  </thead>\n",
       "  <tbody>\n",
       "    <tr>\n",
       "      <th>Gabo</th>\n",
       "      <td>167</td>\n",
       "      <td>2</td>\n",
       "      <td>70</td>\n",
       "    </tr>\n",
       "    <tr>\n",
       "      <th>Braulio</th>\n",
       "      <td>175</td>\n",
       "      <td>4</td>\n",
       "      <td>70</td>\n",
       "    </tr>\n",
       "    <tr>\n",
       "      <th>Paco</th>\n",
       "      <td>160</td>\n",
       "      <td>2</td>\n",
       "      <td>68</td>\n",
       "    </tr>\n",
       "  </tbody>\n",
       "</table>\n",
       "</div>"
      ],
      "text/plain": [
       "         Altura  Mascotas  Peso\n",
       "Gabo        167         2    70\n",
       "Braulio     175         4    70\n",
       "Paco        160         2    68"
      ]
     },
     "execution_count": 62,
     "metadata": {},
     "output_type": "execute_result"
    }
   ],
   "source": [
    "# Creacionn de un DataFrame e inicializarlo con una lista de listas de Python\n",
    "# NOTA: Dedebn inidicarse los indices y columnas por separado\n",
    "valores = [\n",
    "    [167, 2, 70],\n",
    "    [175, 4, 70],\n",
    "    [160, 2, 68]\n",
    "]\n",
    "df = pd.DataFrame(\n",
    "    valores,\n",
    "    columns = [\"Altura\", \"Mascotas\", \"Peso\"],\n",
    "    index = [\"Gabo\", \"Braulio\", \"Paco\"]\n",
    ")\n",
    "df"
   ]
  },
  {
   "cell_type": "code",
   "execution_count": null,
   "id": "dc3de4ee-c90d-47fc-99b9-2ef5dda115c5",
   "metadata": {},
   "outputs": [],
   "source": []
  }
 ],
 "metadata": {
  "kernelspec": {
   "display_name": "Python 3 (ipykernel)",
   "language": "python",
   "name": "python3"
  },
  "language_info": {
   "codemirror_mode": {
    "name": "ipython",
    "version": 3
   },
   "file_extension": ".py",
   "mimetype": "text/x-python",
   "name": "python",
   "nbconvert_exporter": "python",
   "pygments_lexer": "ipython3",
   "version": "3.9.19"
  }
 },
 "nbformat": 4,
 "nbformat_minor": 5
}

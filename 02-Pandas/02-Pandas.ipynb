{
 "cells": [
  {
   "cell_type": "markdown",
   "id": "bcfefe8c-12b0-4ce5-bac0-a91fbe149a08",
   "metadata": {},
   "source": [
    "# Introduccion a Pandas\n",
    "[Pandas](https://pandas.pydata.org/about/index.html) es una biblioteca que proporciona estructuras de datos y herramientas de anailis de datosn de alto rendimiento y faciles de usar.\n",
    "* La estrucutra de datos pricipal es el DataFrame, que puede considerarse como una tabla 2D en memoria (como una hoja de calculo, con nombres de columna y etiquetas de fila).\n",
    "* Muchas funciones disponibles en Excel, estan disponibles mediante programacion como crear tablas dinamicas, calcular columnas basadas en otras columnas, trazar graficos, etc.\n",
    "* Proporciona un alto rendimiento para manipular (unir, dividir, modificar, etc.) grandes conjuntos de datos"
   ]
  },
  {
   "cell_type": "markdown",
   "id": "cef86a57-f932-4de0-bb32-064b6198e3b3",
   "metadata": {},
   "source": [
    "## Import"
   ]
  },
  {
   "cell_type": "code",
   "execution_count": 4,
   "id": "bf8334cb-8e19-4393-8e47-3eb4dcface8f",
   "metadata": {},
   "outputs": [],
   "source": [
    "import pandas as pd"
   ]
  },
  {
   "cell_type": "markdown",
   "id": "bc4c626a-5e34-47a8-b067-51b0e94c531a",
   "metadata": {},
   "source": [
    "### Estructuras de Datos de Pandas\n",
    "La biblioteca de Pandas, de manera genérica, contiene las siguientes estructuras de datos:\n",
    "* **Series:** Array de una dimensión\n",
    "* **DataFrame:** Corresponde a una tabla de 2 dimensiones\n",
    "* **Panel:** Similar a un diccionario de DataFrames"
   ]
  },
  {
   "cell_type": "markdown",
   "id": "942d1d30-34ed-4494-af5a-dde881d0ce69",
   "metadata": {},
   "source": [
    "### Creacion de objeto Series"
   ]
  },
  {
   "cell_type": "code",
   "execution_count": 13,
   "id": "f57ab477-1ce4-43b5-ab31-3def0d49096a",
   "metadata": {},
   "outputs": [
    {
     "name": "stdout",
     "output_type": "stream",
     "text": [
      "0     2\n",
      "1     4\n",
      "2     6\n",
      "3     8\n",
      "4    10\n",
      "dtype: int64\n"
     ]
    }
   ],
   "source": [
    "s = pd.Series([2, 4, 6, 8, 10])\n",
    "print(s)"
   ]
  },
  {
   "cell_type": "code",
   "execution_count": 22,
   "id": "1cdd2efe-8f4b-42f9-b809-e7b880b19d1f",
   "metadata": {},
   "outputs": [
    {
     "name": "stdout",
     "output_type": "stream",
     "text": [
      "Gabo       170\n",
      "Lucero     160\n",
      "Braulio    180\n",
      "Jessica    161\n",
      "dtype: int64\n"
     ]
    }
   ],
   "source": [
    "# Creacion de un objeto Series inicializando con un diccionario de Python \n",
    "Altura =  {\n",
    "    \"Gabo\": 170,\n",
    "    \"Lucero\": 160,\n",
    "    \"Braulio\": 180,\n",
    "    \"Jessica\": 161\n",
    "} # <-- Este es un diccionario de python\n",
    "s = pd.Series(Altura)\n",
    "print(s)"
   ]
  },
  {
   "cell_type": "code",
   "execution_count": 30,
   "id": "32fa66ee-01aa-4914-a796-cf5ef118c846",
   "metadata": {},
   "outputs": [
    {
     "name": "stdout",
     "output_type": "stream",
     "text": [
      "Braulio    180\n",
      "Gabo       170\n",
      "dtype: int64\n"
     ]
    }
   ],
   "source": [
    "# Crear un Objeto Series e inicializarlo con algunos \n",
    "# de los elementos de un diccionario de python\n",
    "Altura = {\n",
    "     \"Gabo\": 170,\n",
    "    \"Lucero\": 160,\n",
    "    \"Braulio\": 180,\n",
    "    \"Jessica\": 161\n",
    "}\n",
    "\n",
    "s = pd.Series(Altura, index = [\"Braulio\", \"Gabo\"])\n",
    "print(s)"
   ]
  },
  {
   "cell_type": "code",
   "execution_count": 32,
   "id": "510bead8-1723-4b34-b3dd-a9a858e3eb5c",
   "metadata": {},
   "outputs": [
    {
     "name": "stdout",
     "output_type": "stream",
     "text": [
      "Test1    34\n",
      "Test2    34\n",
      "Test3    34\n",
      "dtype: int64\n"
     ]
    }
   ],
   "source": [
    "# Creacion de un Objeto Series e inicializarlo con un escalar.\n",
    "s = pd.Series(34, [\"Test1\", \"Test2\", \"Test3\"])\n",
    "print(s)"
   ]
  }
 ],
 "metadata": {
  "kernelspec": {
   "display_name": "Python 3 (ipykernel)",
   "language": "python",
   "name": "python3"
  },
  "language_info": {
   "codemirror_mode": {
    "name": "ipython",
    "version": 3
   },
   "file_extension": ".py",
   "mimetype": "text/x-python",
   "name": "python",
   "nbconvert_exporter": "python",
   "pygments_lexer": "ipython3",
   "version": "3.9.19"
  }
 },
 "nbformat": 4,
 "nbformat_minor": 5
}

{
 "cells": [
  {
   "cell_type": "markdown",
   "id": "bcfefe8c-12b0-4ce5-bac0-a91fbe149a08",
   "metadata": {},
   "source": [
    "# Introduccion a Pandas\n",
    "[Pandas](https://pandas.pydata.org/about/index.html) es una biblioteca que proporciona estructuras de datos y herramientas de anailis de datosn de alto rendimiento y faciles de usar.\n",
    "* La estrucutra de datos pricipal es el DataFrame, que puede considerarse como una tabla 2D en memoria (como una hoja de calculo, con nombres de columna y etiquetas de fila).\n",
    "* Muchas funciones disponibles en Excel, estan disponibles mediante programacion como crear tablas dinamicas, calcular columnas basadas en otras columnas, trazar graficos, etc.\n",
    "* Proporciona un alto rendimiento para manipular (unir, dividir, modificar, etc.) grandes conjuntos de datos"
   ]
  },
  {
   "cell_type": "markdown",
   "id": "cef86a57-f932-4de0-bb32-064b6198e3b3",
   "metadata": {},
   "source": [
    "## Import"
   ]
  },
  {
   "cell_type": "code",
   "execution_count": 4,
   "id": "bf8334cb-8e19-4393-8e47-3eb4dcface8f",
   "metadata": {},
   "outputs": [],
   "source": [
    "import pandas as pd"
   ]
  },
  {
   "cell_type": "markdown",
   "id": "bc4c626a-5e34-47a8-b067-51b0e94c531a",
   "metadata": {},
   "source": [
    "### Estructuras de Datos de Pandas\n",
    "La biblioteca de Pandas, de manera genérica, contiene las siguientes estructuras de datos:\n",
    "* **Series:** Array de una dimensión\n",
    "* **DataFrame:** Corresponde a una tabla de 2 dimensiones\n",
    "* **Panel:** Similar a un diccionario de DataFrames"
   ]
  },
  {
   "cell_type": "markdown",
   "id": "942d1d30-34ed-4494-af5a-dde881d0ce69",
   "metadata": {},
   "source": [
    "### Creacion de objeto Series"
   ]
  },
  {
   "cell_type": "code",
   "execution_count": 13,
   "id": "f57ab477-1ce4-43b5-ab31-3def0d49096a",
   "metadata": {},
   "outputs": [
    {
     "name": "stdout",
     "output_type": "stream",
     "text": [
      "0     2\n",
      "1     4\n",
      "2     6\n",
      "3     8\n",
      "4    10\n",
      "dtype: int64\n"
     ]
    }
   ],
   "source": [
    "s = pd.Series([2, 4, 6, 8, 10])\n",
    "print(s)"
   ]
  },
  {
   "cell_type": "code",
   "execution_count": 22,
   "id": "1cdd2efe-8f4b-42f9-b809-e7b880b19d1f",
   "metadata": {},
   "outputs": [
    {
     "name": "stdout",
     "output_type": "stream",
     "text": [
      "Gabo       170\n",
      "Lucero     160\n",
      "Braulio    180\n",
      "Jessica    161\n",
      "dtype: int64\n"
     ]
    }
   ],
   "source": [
    "# Creacion de un objeto Series inicializando con un diccionario de Python \n",
    "Altura =  {\n",
    "    \"Gabo\": 170,\n",
    "    \"Lucero\": 160,\n",
    "    \"Braulio\": 180,\n",
    "    \"Jessica\": 161\n",
    "} # <-- Este es un diccionario de python\n",
    "s = pd.Series(Altura)\n",
    "print(s)"
   ]
  },
  {
   "cell_type": "code",
   "execution_count": 30,
   "id": "32fa66ee-01aa-4914-a796-cf5ef118c846",
   "metadata": {},
   "outputs": [
    {
     "name": "stdout",
     "output_type": "stream",
     "text": [
      "Braulio    180\n",
      "Gabo       170\n",
      "dtype: int64\n"
     ]
    }
   ],
   "source": [
    "# Crear un Objeto Series e inicializarlo con algunos de los elementos de un diccionario de python\n",
    "Altura = {\n",
    "     \"Gabo\": 170,\n",
    "    \"Lucero\": 160,\n",
    "    \"Braulio\": 180,\n",
    "    \"Jessica\": 161\n",
    "}\n",
    "\n",
    "s = pd.Series(Altura, index = [\"Braulio\", \"Gabo\"])\n",
    "print(s)"
   ]
  },
  {
   "cell_type": "code",
   "execution_count": 34,
   "id": "510bead8-1723-4b34-b3dd-a9a858e3eb5c",
   "metadata": {},
   "outputs": [
    {
     "name": "stdout",
     "output_type": "stream",
     "text": [
      "Test1    34\n",
      "Test2    34\n",
      "Test3    34\n",
      "dtype: int64\n"
     ]
    }
   ],
   "source": [
    "# Creacion de un Objeto Series e inicializarlo con un escalar.\n",
    "s = pd.Series(34, [\"Test1\", \"Test2\", \"Test3\"])\n",
    "print(s)"
   ]
  },
  {
   "cell_type": "markdown",
   "id": "1f0aac54-3b47-4af6-a9c6-3808ef4159f4",
   "metadata": {},
   "source": [
    "## Acceso a los elementos de un objeto Series\n",
    "Cada elemento en un objeto Series tiene un identificador unico que se denomina **index label**."
   ]
  },
  {
   "cell_type": "code",
   "execution_count": 41,
   "id": "008a5026-77bd-47f2-b71a-3d1c91de523d",
   "metadata": {},
   "outputs": [
    {
     "name": "stdout",
     "output_type": "stream",
     "text": [
      "Num1    2\n",
      "Num2    4\n",
      "Num3    6\n",
      "Num4    8\n",
      "dtype: int64\n"
     ]
    }
   ],
   "source": [
    "# Crear un objeto Series\n",
    "s = pd.Series([2, 4, 6, 8], index = [\"Num1\", \"Num2\", \"Num3\", \"Num4\"])\n",
    "print(s)"
   ]
  },
  {
   "cell_type": "code",
   "execution_count": 43,
   "id": "1b4d4845-4118-498c-8a5a-17d83c8ea74d",
   "metadata": {},
   "outputs": [
    {
     "data": {
      "text/plain": [
       "np.int64(6)"
      ]
     },
     "execution_count": 43,
     "metadata": {},
     "output_type": "execute_result"
    }
   ],
   "source": [
    "# Acceder al tercer elemento del objeto\n",
    "s[\"Num3\"]"
   ]
  },
  {
   "cell_type": "code",
   "execution_count": 49,
   "id": "81c67414-fdc1-4780-94f4-7fe0fa11a3b4",
   "metadata": {},
   "outputs": [
    {
     "name": "stderr",
     "output_type": "stream",
     "text": [
      "/var/folders/hz/wt361b2n07lddh2hq8l8sy_40000gn/T/ipykernel_28575/2188709470.py:2: FutureWarning: Series.__getitem__ treating keys as positions is deprecated. In a future version, integer keys will always be treated as labels (consistent with DataFrame behavior). To access a value by position, use `ser.iloc[pos]`\n",
      "  s[2]\n"
     ]
    },
    {
     "data": {
      "text/plain": [
       "np.int64(6)"
      ]
     },
     "execution_count": 49,
     "metadata": {},
     "output_type": "execute_result"
    }
   ],
   "source": [
    "# Tambein se puede acceder al elemento por posicion.\n",
    "s[2]"
   ]
  },
  {
   "cell_type": "code",
   "execution_count": 51,
   "id": "49026c23-4033-435f-96b6-e423e3a3383f",
   "metadata": {},
   "outputs": [
    {
     "data": {
      "text/plain": [
       "np.int64(6)"
      ]
     },
     "execution_count": 51,
     "metadata": {},
     "output_type": "execute_result"
    }
   ],
   "source": [
    "# loc es la forma estandar de acceder a un elemento de un objeto Series por atributo\n",
    "s.loc[\"Num3\"]"
   ]
  },
  {
   "cell_type": "code",
   "execution_count": 53,
   "id": "b755fa3b-9a5d-40ba-add8-c48574ae2742",
   "metadata": {},
   "outputs": [
    {
     "data": {
      "text/plain": [
       "np.int64(6)"
      ]
     },
     "execution_count": 53,
     "metadata": {},
     "output_type": "execute_result"
    }
   ],
   "source": [
    "# iloc es la forma estandar de acceder a un elemento de un objeto Series por posicion.\n",
    "s.iloc[2]"
   ]
  },
  {
   "cell_type": "code",
   "execution_count": 55,
   "id": "042cfe78-c92b-4695-996c-182b6c9234d4",
   "metadata": {},
   "outputs": [
    {
     "data": {
      "text/plain": [
       "Num3    6\n",
       "Num4    8\n",
       "dtype: int64"
      ]
     },
     "execution_count": 55,
     "metadata": {},
     "output_type": "execute_result"
    }
   ],
   "source": [
    "# Accediendo al segundo y tercer elemento por posicion.\n",
    "s.iloc[2:4]"
   ]
  }
 ],
 "metadata": {
  "kernelspec": {
   "display_name": "Python 3 (ipykernel)",
   "language": "python",
   "name": "python3"
  },
  "language_info": {
   "codemirror_mode": {
    "name": "ipython",
    "version": 3
   },
   "file_extension": ".py",
   "mimetype": "text/x-python",
   "name": "python",
   "nbconvert_exporter": "python",
   "pygments_lexer": "ipython3",
   "version": "3.9.19"
  }
 },
 "nbformat": 4,
 "nbformat_minor": 5
}

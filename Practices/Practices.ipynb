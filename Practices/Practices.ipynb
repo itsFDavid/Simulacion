{
 "cells": [
  {
   "cell_type": "markdown",
   "id": "c20581f4-028d-40a0-a1e6-0e845f082400",
   "metadata": {},
   "source": [
    "# Practices"
   ]
  },
  {
   "cell_type": "markdown",
   "id": "5c3d01ee-0bb4-4412-91f5-b198b818dfb0",
   "metadata": {},
   "source": [
    "Estos son ejercicios para practicar acerca de:\n",
    "- Numpy\n",
    "- Pandas\n",
    "- Matplotlib\n",
    "- Regresion Lineal\n",
    "- Regresion Logistica"
   ]
  },
  {
   "cell_type": "markdown",
   "id": "fcee3e1f-fa0f-4f10-86d2-20798146b1d9",
   "metadata": {},
   "source": [
    "## Numpy\n",
    "1. Crea un array NumPy de números enteros del 0 al 20 y obtén los elementos que sean múltiplos de 3."
   ]
  },
  {
   "cell_type": "code",
   "execution_count": 4,
   "id": "f24e72ab-3c9c-4576-8589-a1bc25126364",
   "metadata": {},
   "outputs": [
    {
     "name": "stdout",
     "output_type": "stream",
     "text": [
      "[ 0  3  6  9 12 15 18]\n"
     ]
    }
   ],
   "source": [
    "import numpy as np\n",
    "arr = np.arange(21)\n",
    "multiples_of_3 = arr[arr % 3 == 0]\n",
    "print(multiples_of_3)"
   ]
  },
  {
   "cell_type": "markdown",
   "id": "81bc1e29-0dd1-4396-b877-68ccf64924ef",
   "metadata": {},
   "source": [
    "2. Genera una matriz aleatoria de 5x5 con valores entre 0 y 1."
   ]
  },
  {
   "cell_type": "code",
   "execution_count": 6,
   "id": "f654f93d-6e7d-47e4-a888-050d9b8e500d",
   "metadata": {},
   "outputs": [
    {
     "name": "stdout",
     "output_type": "stream",
     "text": [
      "[[0.99677606 0.94967411 0.29498698 0.53560025 0.29880091]\n",
      " [0.68282684 0.91972116 0.85973252 0.84469664 0.09824357]\n",
      " [0.09441503 0.94748938 0.10264532 0.41511769 0.51359449]\n",
      " [0.6904277  0.8165424  0.45035354 0.25604119 0.61878893]\n",
      " [0.58247043 0.91793917 0.17719194 0.06612357 0.65104303]]\n"
     ]
    }
   ],
   "source": [
    "random_matrix = np.random.rand(5, 5)\n",
    "print(random_matrix)"
   ]
  },
  {
   "cell_type": "markdown",
   "id": "eccea800-f8f3-4fab-a6b2-518f62471673",
   "metadata": {},
   "source": [
    "3. Crea un array NumPy de 10 elementos y cambia el signo de los números impares."
   ]
  },
  {
   "cell_type": "code",
   "execution_count": 8,
   "id": "e4c89ff0-efa2-4d4f-88c1-89b18c23edd8",
   "metadata": {},
   "outputs": [
    {
     "name": "stdout",
     "output_type": "stream",
     "text": [
      "[ 0 -1  2 -3  4 -5  6 -7  8 -9]\n"
     ]
    }
   ],
   "source": [
    "a = np.arange(10)\n",
    "a[a % 2 == 1] = -a[a % 2 == 1]\n",
    "print(a)"
   ]
  },
  {
   "cell_type": "markdown",
   "id": "8f30bf86-6cf5-46e5-8846-725f9259b55b",
   "metadata": {},
   "source": [
    "4. Dado un array 1D, invierte su orden usando slicing."
   ]
  },
  {
   "cell_type": "code",
   "execution_count": 10,
   "id": "f973e738-f7a9-4d7b-8b1b-7723c0e248c4",
   "metadata": {},
   "outputs": [
    {
     "name": "stdout",
     "output_type": "stream",
     "text": [
      "[9 8 7 6 5 4 3 2 1 0]\n"
     ]
    }
   ],
   "source": [
    "a = np.arange(10)\n",
    "a= a[::-1]\n",
    "print(a)"
   ]
  },
  {
   "cell_type": "markdown",
   "id": "f5ae9838-7cba-495d-a5c0-85aeca989884",
   "metadata": {},
   "source": [
    "5. Multiplica dos matrices de 3x3 usando NumPy."
   ]
  },
  {
   "cell_type": "code",
   "execution_count": 12,
   "id": "0fd79bae-f72e-4998-9383-cbe5e4e70b89",
   "metadata": {},
   "outputs": [
    {
     "name": "stdout",
     "output_type": "stream",
     "text": [
      "[[8 8 8]\n",
      " [8 8 8]\n",
      " [8 8 8]]\n"
     ]
    }
   ],
   "source": [
    "matriz1 = np.full((3, 3), 2)\n",
    "matriz2 = np.full((3,3), 4)\n",
    "print(matriz1 * matriz2)"
   ]
  },
  {
   "cell_type": "markdown",
   "id": "514bd5d7-fb4c-4bc3-ac65-79f4939e6ff4",
   "metadata": {},
   "source": [
    "6. Crea una matriz identidad de 6x6."
   ]
  },
  {
   "cell_type": "code",
   "execution_count": 14,
   "id": "fb068a43-3081-4f00-9f26-15f4c470aca5",
   "metadata": {},
   "outputs": [
    {
     "name": "stdout",
     "output_type": "stream",
     "text": [
      "[[1. 0. 0. 0. 0. 0.]\n",
      " [0. 1. 0. 0. 0. 0.]\n",
      " [0. 0. 1. 0. 0. 0.]\n",
      " [0. 0. 0. 1. 0. 0.]\n",
      " [0. 0. 0. 0. 1. 0.]\n",
      " [0. 0. 0. 0. 0. 1.]]\n"
     ]
    }
   ],
   "source": [
    "matriz_identidad = np.eye(6)\n",
    "print(matriz_identidad)"
   ]
  },
  {
   "cell_type": "markdown",
   "id": "4c2eceb7-6d4e-48a8-8392-736078f3839a",
   "metadata": {},
   "source": [
    "7. Crea un array con 100 números aleatorios y calcula la media, la mediana y la desviación estándar."
   ]
  },
  {
   "cell_type": "code",
   "execution_count": 16,
   "id": "a494c549-e22d-45df-b2f5-23ffeccdaaf0",
   "metadata": {},
   "outputs": [
    {
     "name": "stdout",
     "output_type": "stream",
     "text": [
      "Media:  0.5008129573155348\n",
      "Mediana:  0.49146235716418923\n",
      "Desviacion estandar:  0.30886337198749797\n"
     ]
    }
   ],
   "source": [
    "a = np.random.rand(100)\n",
    "print(\"Media: \", a.mean())\n",
    "print(\"Mediana: \", np.median(a))\n",
    "print(\"Desviacion estandar: \", a.std())"
   ]
  },
  {
   "cell_type": "markdown",
   "id": "27b3bd1e-de5b-4794-8249-9ed9b4b0aeb5",
   "metadata": {},
   "source": [
    "8. Convierte un array NumPy de 1D a 2D (matriz de 3x3) utilizando `reshape()`."
   ]
  },
  {
   "cell_type": "code",
   "execution_count": 18,
   "id": "a99bcf26-4834-434b-a382-2292b7936d6d",
   "metadata": {},
   "outputs": [
    {
     "data": {
      "text/plain": [
       "array([[0, 1, 2],\n",
       "       [3, 4, 5],\n",
       "       [6, 7, 8]])"
      ]
     },
     "execution_count": 18,
     "metadata": {},
     "output_type": "execute_result"
    }
   ],
   "source": [
    "a = np.arange(9)\n",
    "matriz = a.reshape(3,3)\n",
    "matriz"
   ]
  },
  {
   "cell_type": "code",
   "execution_count": 19,
   "id": "5a5a08f8-ab07-4ee8-b76f-a613ea5208c8",
   "metadata": {},
   "outputs": [
    {
     "data": {
      "text/plain": [
       "array([[-4.03922099,  9.96323645, -7.61003355,  2.4808965 ],\n",
       "       [ 2.60248847, -6.17682364,  4.13648049, -0.22392859],\n",
       "       [ 1.4787242 , -0.37810825, -0.34189609, -1.18709803],\n",
       "       [ 0.62869372, -2.90027916,  3.93189438, -0.91410948]])"
      ]
     },
     "execution_count": 19,
     "metadata": {},
     "output_type": "execute_result"
    }
   ],
   "source": [
    "matriz = np.random.rand(4, 4)\n",
    "matriz_inv = np.linalg.inv(matriz)\n",
    "matriz_inv"
   ]
  },
  {
   "cell_type": "markdown",
   "id": "0843eaa2-934f-4de1-ab4b-0716ed9717ed",
   "metadata": {},
   "source": [
    "10. Implementa la función de costo para una regresión lineal con NumPy."
   ]
  },
  {
   "cell_type": "code",
   "execution_count": 21,
   "id": "31ddf59a-abe1-4b3f-a067-5078db59d5b9",
   "metadata": {},
   "outputs": [
    {
     "name": "stdout",
     "output_type": "stream",
     "text": [
      "0.6666666666666666\n"
     ]
    },
    {
     "data": {
      "text/plain": [
       "(array([[1, 3],\n",
       "        [1, 2],\n",
       "        [1, 3]]),\n",
       " array([1, 2, 3]),\n",
       " array([0, 1]))"
      ]
     },
     "execution_count": 21,
     "metadata": {},
     "output_type": "execute_result"
    }
   ],
   "source": [
    "def costo_funcion(X, y, teta):\n",
    "    m = len(y)\n",
    "    predicciones = X.dot(teta)\n",
    "    costo = (1/(2*m)) * np.sum(np.square(predicciones - y))\n",
    "    return costo\n",
    "\n",
    "X = np.array([[1, 3], [1, 2], [1, 3]])\n",
    "y = np.array([1, 2, 3])\n",
    "teta = np.array([0, 1])\n",
    "costo = costo_funcion(X, y, teta)\n",
    "print(costo)\n",
    "X, y, teta"
   ]
  },
  {
   "cell_type": "code",
   "execution_count": null,
   "id": "f2329c81-6202-472d-b3a4-1e7a0f2b71e2",
   "metadata": {},
   "outputs": [],
   "source": []
  }
 ],
 "metadata": {
  "kernelspec": {
   "display_name": "Python 3 (ipykernel)",
   "language": "python",
   "name": "python3"
  },
  "language_info": {
   "codemirror_mode": {
    "name": "ipython",
    "version": 3
   },
   "file_extension": ".py",
   "mimetype": "text/x-python",
   "name": "python",
   "nbconvert_exporter": "python",
   "pygments_lexer": "ipython3",
   "version": "3.9.19"
  }
 },
 "nbformat": 4,
 "nbformat_minor": 5
}

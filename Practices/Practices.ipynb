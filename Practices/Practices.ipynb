{
 "cells": [
  {
   "cell_type": "markdown",
   "id": "c20581f4-028d-40a0-a1e6-0e845f082400",
   "metadata": {},
   "source": [
    "# Practices"
   ]
  },
  {
   "cell_type": "markdown",
   "id": "5c3d01ee-0bb4-4412-91f5-b198b818dfb0",
   "metadata": {},
   "source": [
    "Estos son ejercicios para practicar acerca de:\n",
    "- Numpy\n",
    "- Pandas\n",
    "- Matplotlib\n",
    "- Regresion Lineal\n",
    "- Regresion Logistica"
   ]
  },
  {
   "cell_type": "markdown",
   "id": "fcee3e1f-fa0f-4f10-86d2-20798146b1d9",
   "metadata": {},
   "source": [
    "## Numpy"
   ]
  },
  {
   "cell_type": "markdown",
   "id": "f4011361-2be9-49ba-b468-436969cb3d1d",
   "metadata": {},
   "source": [
    "1. Crea un array NumPy de números enteros del 0 al 20 y obtén los elementos que sean múltiplos de 3."
   ]
  },
  {
   "cell_type": "code",
   "execution_count": 5,
   "id": "f24e72ab-3c9c-4576-8589-a1bc25126364",
   "metadata": {},
   "outputs": [
    {
     "name": "stdout",
     "output_type": "stream",
     "text": [
      "[ 0  3  6  9 12 15 18]\n"
     ]
    }
   ],
   "source": [
    "import numpy as np\n",
    "arr = np.arange(21)\n",
    "multiples_of_3 = arr[arr % 3 == 0]\n",
    "print(multiples_of_3)"
   ]
  },
  {
   "cell_type": "markdown",
   "id": "81bc1e29-0dd1-4396-b877-68ccf64924ef",
   "metadata": {},
   "source": [
    "2. Genera una matriz aleatoria de 5x5 con valores entre 0 y 1."
   ]
  },
  {
   "cell_type": "code",
   "execution_count": 7,
   "id": "f654f93d-6e7d-47e4-a888-050d9b8e500d",
   "metadata": {},
   "outputs": [
    {
     "name": "stdout",
     "output_type": "stream",
     "text": [
      "[[0.94456229 0.11514925 0.96917291 0.87714922 0.69857918]\n",
      " [0.81866412 0.49341277 0.48995913 0.91260412 0.25275362]\n",
      " [0.57849735 0.76243236 0.30400709 0.30759399 0.50772815]\n",
      " [0.95983429 0.97903252 0.2878621  0.42122685 0.21920196]\n",
      " [0.13412098 0.34487903 0.38675954 0.56023568 0.0830939 ]]\n"
     ]
    }
   ],
   "source": [
    "random_matrix = np.random.rand(5, 5)\n",
    "print(random_matrix)"
   ]
  },
  {
   "cell_type": "markdown",
   "id": "eccea800-f8f3-4fab-a6b2-518f62471673",
   "metadata": {},
   "source": [
    "3. Crea un array NumPy de 10 elementos y cambia el signo de los números impares."
   ]
  },
  {
   "cell_type": "code",
   "execution_count": 9,
   "id": "e4c89ff0-efa2-4d4f-88c1-89b18c23edd8",
   "metadata": {},
   "outputs": [
    {
     "name": "stdout",
     "output_type": "stream",
     "text": [
      "[ 0 -1  2 -3  4 -5  6 -7  8 -9]\n"
     ]
    }
   ],
   "source": [
    "a = np.arange(10)\n",
    "a[a % 2 == 1] = -a[a % 2 == 1]\n",
    "print(a)"
   ]
  },
  {
   "cell_type": "markdown",
   "id": "8f30bf86-6cf5-46e5-8846-725f9259b55b",
   "metadata": {},
   "source": [
    "4. Dado un array 1D, invierte su orden usando slicing."
   ]
  },
  {
   "cell_type": "code",
   "execution_count": 11,
   "id": "f973e738-f7a9-4d7b-8b1b-7723c0e248c4",
   "metadata": {},
   "outputs": [
    {
     "name": "stdout",
     "output_type": "stream",
     "text": [
      "[9 8 7 6 5 4 3 2 1 0]\n"
     ]
    }
   ],
   "source": [
    "a = np.arange(10)\n",
    "a= a[::-1]\n",
    "print(a)"
   ]
  },
  {
   "cell_type": "markdown",
   "id": "f5ae9838-7cba-495d-a5c0-85aeca989884",
   "metadata": {},
   "source": [
    "5. Multiplica dos matrices de 3x3 usando NumPy."
   ]
  },
  {
   "cell_type": "code",
   "execution_count": 13,
   "id": "0fd79bae-f72e-4998-9383-cbe5e4e70b89",
   "metadata": {},
   "outputs": [
    {
     "name": "stdout",
     "output_type": "stream",
     "text": [
      "[[8 8 8]\n",
      " [8 8 8]\n",
      " [8 8 8]]\n"
     ]
    }
   ],
   "source": [
    "matriz1 = np.full((3, 3), 2)\n",
    "matriz2 = np.full((3,3), 4)\n",
    "print(matriz1 * matriz2)"
   ]
  },
  {
   "cell_type": "markdown",
   "id": "514bd5d7-fb4c-4bc3-ac65-79f4939e6ff4",
   "metadata": {},
   "source": [
    "6. Crea una matriz identidad de 6x6."
   ]
  },
  {
   "cell_type": "code",
   "execution_count": 15,
   "id": "fb068a43-3081-4f00-9f26-15f4c470aca5",
   "metadata": {},
   "outputs": [
    {
     "name": "stdout",
     "output_type": "stream",
     "text": [
      "[[1. 0. 0. 0. 0. 0.]\n",
      " [0. 1. 0. 0. 0. 0.]\n",
      " [0. 0. 1. 0. 0. 0.]\n",
      " [0. 0. 0. 1. 0. 0.]\n",
      " [0. 0. 0. 0. 1. 0.]\n",
      " [0. 0. 0. 0. 0. 1.]]\n"
     ]
    }
   ],
   "source": [
    "matriz_identidad = np.eye(6)\n",
    "print(matriz_identidad)"
   ]
  },
  {
   "cell_type": "markdown",
   "id": "4c2eceb7-6d4e-48a8-8392-736078f3839a",
   "metadata": {},
   "source": [
    "7. Crea un array con 100 números aleatorios y calcula la media, la mediana y la desviación estándar."
   ]
  },
  {
   "cell_type": "code",
   "execution_count": 17,
   "id": "a494c549-e22d-45df-b2f5-23ffeccdaaf0",
   "metadata": {},
   "outputs": [
    {
     "name": "stdout",
     "output_type": "stream",
     "text": [
      "Media:  0.46467742454587563\n",
      "Mediana:  0.40966052749460574\n",
      "Desviacion estandar:  0.28704101751976396\n"
     ]
    }
   ],
   "source": [
    "a = np.random.rand(100)\n",
    "print(\"Media: \", a.mean())\n",
    "print(\"Mediana: \", np.median(a))\n",
    "print(\"Desviacion estandar: \", a.std())"
   ]
  },
  {
   "cell_type": "markdown",
   "id": "27b3bd1e-de5b-4794-8249-9ed9b4b0aeb5",
   "metadata": {},
   "source": [
    "8. Convierte un array NumPy de 1D a 2D (matriz de 3x3) utilizando `reshape()`."
   ]
  },
  {
   "cell_type": "code",
   "execution_count": 19,
   "id": "a99bcf26-4834-434b-a382-2292b7936d6d",
   "metadata": {},
   "outputs": [
    {
     "data": {
      "text/plain": [
       "array([[0, 1, 2],\n",
       "       [3, 4, 5],\n",
       "       [6, 7, 8]])"
      ]
     },
     "execution_count": 19,
     "metadata": {},
     "output_type": "execute_result"
    }
   ],
   "source": [
    "a = np.arange(9)\n",
    "matriz = a.reshape(3,3)\n",
    "matriz"
   ]
  },
  {
   "cell_type": "code",
   "execution_count": 20,
   "id": "5a5a08f8-ab07-4ee8-b76f-a613ea5208c8",
   "metadata": {},
   "outputs": [
    {
     "data": {
      "text/plain": [
       "array([[ -8.20461604,   6.12369116,  -1.05434612,   2.80456063],\n",
       "       [ 58.6150375 , -39.01437434,   0.37788686, -15.38575158],\n",
       "       [  5.92798225,  -4.95773251,   1.05267431,  -0.66822716],\n",
       "       [-66.56988508,  45.81466679,   0.10522812,  15.88945224]])"
      ]
     },
     "execution_count": 20,
     "metadata": {},
     "output_type": "execute_result"
    }
   ],
   "source": [
    "matriz = np.random.rand(4, 4)\n",
    "matriz_inv = np.linalg.inv(matriz)\n",
    "matriz_inv"
   ]
  },
  {
   "cell_type": "markdown",
   "id": "0843eaa2-934f-4de1-ab4b-0716ed9717ed",
   "metadata": {},
   "source": [
    "10. Implementa la función de costo para una regresión lineal con NumPy."
   ]
  },
  {
   "cell_type": "code",
   "execution_count": 22,
   "id": "31ddf59a-abe1-4b3f-a067-5078db59d5b9",
   "metadata": {},
   "outputs": [
    {
     "name": "stdout",
     "output_type": "stream",
     "text": [
      "0.6666666666666666\n"
     ]
    },
    {
     "data": {
      "text/plain": [
       "(array([[1, 3],\n",
       "        [1, 2],\n",
       "        [1, 3]]),\n",
       " array([1, 2, 3]),\n",
       " array([0, 1]))"
      ]
     },
     "execution_count": 22,
     "metadata": {},
     "output_type": "execute_result"
    }
   ],
   "source": [
    "def costo_funcion(X, y, teta):\n",
    "    m = len(y)\n",
    "    predicciones = X.dot(teta)\n",
    "    costo = (1/(2*m)) * np.sum(np.square(predicciones - y))\n",
    "    return costo\n",
    "\n",
    "X = np.array([[1, 3], [1, 2], [1, 3]])\n",
    "y = np.array([1, 2, 3])\n",
    "teta = np.array([0, 1])\n",
    "costo = costo_funcion(X, y, teta)\n",
    "print(costo)\n",
    "X, y, teta"
   ]
  },
  {
   "cell_type": "markdown",
   "id": "8ed1615a-5f25-439a-aff5-d7bb7797528b",
   "metadata": {},
   "source": [
    "## Pandas"
   ]
  },
  {
   "cell_type": "markdown",
   "id": "cc903074-2b53-4c96-a93a-48880bc206a7",
   "metadata": {},
   "source": [
    "1. Crea un DataFrame con los nombres de 5 estudiantes y sus calificaciones en 3 materias. Calcula el promedio de cada estudiante."
   ]
  },
  {
   "cell_type": "code",
   "execution_count": 25,
   "id": "d9451daf-51d0-4df6-b2dc-6fb59d57079b",
   "metadata": {},
   "outputs": [],
   "source": [
    "import pandas as pd"
   ]
  },
  {
   "cell_type": "code",
   "execution_count": 26,
   "id": "d21f4591-6b25-4c32-a61b-b6be2c06d312",
   "metadata": {},
   "outputs": [
    {
     "data": {
      "text/html": [
       "<div>\n",
       "<style scoped>\n",
       "    .dataframe tbody tr th:only-of-type {\n",
       "        vertical-align: middle;\n",
       "    }\n",
       "\n",
       "    .dataframe tbody tr th {\n",
       "        vertical-align: top;\n",
       "    }\n",
       "\n",
       "    .dataframe thead th {\n",
       "        text-align: right;\n",
       "    }\n",
       "</style>\n",
       "<table border=\"1\" class=\"dataframe\">\n",
       "  <thead>\n",
       "    <tr style=\"text-align: right;\">\n",
       "      <th></th>\n",
       "      <th>Raul</th>\n",
       "      <th>Jose</th>\n",
       "      <th>Maria</th>\n",
       "      <th>Mario</th>\n",
       "      <th>Ramon</th>\n",
       "      <th>Promedio</th>\n",
       "    </tr>\n",
       "  </thead>\n",
       "  <tbody>\n",
       "    <tr>\n",
       "      <th>Programacion</th>\n",
       "      <td>9.0</td>\n",
       "      <td>7.0</td>\n",
       "      <td>9.4</td>\n",
       "      <td>9.0</td>\n",
       "      <td>8.0</td>\n",
       "      <td>8.48</td>\n",
       "    </tr>\n",
       "    <tr>\n",
       "      <th>Quimica</th>\n",
       "      <td>8.7</td>\n",
       "      <td>9.7</td>\n",
       "      <td>6.7</td>\n",
       "      <td>9.7</td>\n",
       "      <td>8.5</td>\n",
       "      <td>8.66</td>\n",
       "    </tr>\n",
       "    <tr>\n",
       "      <th>Estadistica</th>\n",
       "      <td>7.0</td>\n",
       "      <td>8.0</td>\n",
       "      <td>7.0</td>\n",
       "      <td>10.0</td>\n",
       "      <td>8.0</td>\n",
       "      <td>8.00</td>\n",
       "    </tr>\n",
       "  </tbody>\n",
       "</table>\n",
       "</div>"
      ],
      "text/plain": [
       "              Raul  Jose  Maria  Mario  Ramon  Promedio\n",
       "Programacion   9.0   7.0    9.4    9.0    8.0      8.48\n",
       "Quimica        8.7   9.7    6.7    9.7    8.5      8.66\n",
       "Estadistica    7.0   8.0    7.0   10.0    8.0      8.00"
      ]
     },
     "execution_count": 26,
     "metadata": {},
     "output_type": "execute_result"
    }
   ],
   "source": [
    "estudiantes = {\n",
    "    \"Raul\": pd.Series([9.0, 8.7, 7.0], [\"Programacion\", \"Quimica\", \"Estadistica\"]),\n",
    "    \"Jose\": pd.Series([7.0, 9.7, 8.0], [\"Programacion\", \"Quimica\", \"Estadistica\"]),\n",
    "    \"Maria\": pd.Series([9.4, 6.7, 7.0], [\"Programacion\", \"Quimica\", \"Estadistica\"]),\n",
    "    \"Mario\": pd.Series([9.0, 9.7, 10.0], [\"Programacion\", \"Quimica\", \"Estadistica\"]),\n",
    "    \"Ramon\": pd.Series([8.0, 8.5, 8.0], [\"Programacion\", \"Quimica\", \"Estadistica\"])\n",
    "}\n",
    "df = pd.DataFrame(estudiantes)\n",
    "df[\"Promedio\"] = df[[\"Raul\", \"Jose\", \"Maria\", \"Mario\", \"Ramon\"]].mean(axis=1)\n",
    "df"
   ]
  },
  {
   "cell_type": "markdown",
   "id": "b0f95ea9-52d2-4753-a579-c2d69d90f128",
   "metadata": {},
   "source": [
    "2. Lee un archivo CSV y muestra las 10 primeras filas."
   ]
  },
  {
   "cell_type": "code",
   "execution_count": 28,
   "id": "2c48deda-c157-499c-a785-436bf54ae21c",
   "metadata": {},
   "outputs": [
    {
     "data": {
      "text/html": [
       "<div>\n",
       "<style scoped>\n",
       "    .dataframe tbody tr th:only-of-type {\n",
       "        vertical-align: middle;\n",
       "    }\n",
       "\n",
       "    .dataframe tbody tr th {\n",
       "        vertical-align: top;\n",
       "    }\n",
       "\n",
       "    .dataframe thead th {\n",
       "        text-align: right;\n",
       "    }\n",
       "</style>\n",
       "<table border=\"1\" class=\"dataframe\">\n",
       "  <thead>\n",
       "    <tr style=\"text-align: right;\">\n",
       "      <th></th>\n",
       "      <th>Unnamed: 0</th>\n",
       "      <th>Peso</th>\n",
       "      <th>Altura</th>\n",
       "      <th>Mascotas</th>\n",
       "    </tr>\n",
       "  </thead>\n",
       "  <tbody>\n",
       "    <tr>\n",
       "      <th>0</th>\n",
       "      <td>Anel</td>\n",
       "      <td>60</td>\n",
       "      <td>145</td>\n",
       "      <td>2.0</td>\n",
       "    </tr>\n",
       "    <tr>\n",
       "      <th>1</th>\n",
       "      <td>Chucho</td>\n",
       "      <td>74</td>\n",
       "      <td>170</td>\n",
       "      <td>NaN</td>\n",
       "    </tr>\n",
       "    <tr>\n",
       "      <th>2</th>\n",
       "      <td>Emilio</td>\n",
       "      <td>72</td>\n",
       "      <td>169</td>\n",
       "      <td>NaN</td>\n",
       "    </tr>\n",
       "    <tr>\n",
       "      <th>3</th>\n",
       "      <td>Jocelin</td>\n",
       "      <td>73</td>\n",
       "      <td>170</td>\n",
       "      <td>9.0</td>\n",
       "    </tr>\n",
       "  </tbody>\n",
       "</table>\n",
       "</div>"
      ],
      "text/plain": [
       "  Unnamed: 0  Peso  Altura  Mascotas\n",
       "0       Anel    60     145       2.0\n",
       "1     Chucho    74     170       NaN\n",
       "2     Emilio    72     169       NaN\n",
       "3    Jocelin    73     170       9.0"
      ]
     },
     "execution_count": 28,
     "metadata": {},
     "output_type": "execute_result"
    }
   ],
   "source": [
    "csv = pd.read_csv(\"../02-Pandas/df_personas.csv\")\n",
    "csv.head(10)"
   ]
  },
  {
   "cell_type": "markdown",
   "id": "ef2f76b8-0538-4ae2-8f57-2ca6236f7ca6",
   "metadata": {},
   "source": [
    "3. Dado un DataFrame con información de ventas (producto, cantidad, precio), agrega una columna con el valor total (cantidad x precio)."
   ]
  },
  {
   "cell_type": "code",
   "execution_count": 30,
   "id": "9aa46513-b3b6-412f-ac48-9e900422f55c",
   "metadata": {},
   "outputs": [
    {
     "data": {
      "text/html": [
       "<div>\n",
       "<style scoped>\n",
       "    .dataframe tbody tr th:only-of-type {\n",
       "        vertical-align: middle;\n",
       "    }\n",
       "\n",
       "    .dataframe tbody tr th {\n",
       "        vertical-align: top;\n",
       "    }\n",
       "\n",
       "    .dataframe thead th {\n",
       "        text-align: right;\n",
       "    }\n",
       "</style>\n",
       "<table border=\"1\" class=\"dataframe\">\n",
       "  <thead>\n",
       "    <tr style=\"text-align: right;\">\n",
       "      <th></th>\n",
       "      <th>Producto</th>\n",
       "      <th>Cantidad</th>\n",
       "      <th>Precio</th>\n",
       "      <th>Total</th>\n",
       "    </tr>\n",
       "  </thead>\n",
       "  <tbody>\n",
       "    <tr>\n",
       "      <th>0</th>\n",
       "      <td>A</td>\n",
       "      <td>10</td>\n",
       "      <td>2.5</td>\n",
       "      <td>25.0</td>\n",
       "    </tr>\n",
       "    <tr>\n",
       "      <th>1</th>\n",
       "      <td>B</td>\n",
       "      <td>5</td>\n",
       "      <td>3.0</td>\n",
       "      <td>15.0</td>\n",
       "    </tr>\n",
       "    <tr>\n",
       "      <th>2</th>\n",
       "      <td>C</td>\n",
       "      <td>8</td>\n",
       "      <td>1.2</td>\n",
       "      <td>9.6</td>\n",
       "    </tr>\n",
       "  </tbody>\n",
       "</table>\n",
       "</div>"
      ],
      "text/plain": [
       "  Producto  Cantidad  Precio  Total\n",
       "0        A        10     2.5   25.0\n",
       "1        B         5     3.0   15.0\n",
       "2        C         8     1.2    9.6"
      ]
     },
     "execution_count": 30,
     "metadata": {},
     "output_type": "execute_result"
    }
   ],
   "source": [
    "data = {'Producto': ['A', 'B', 'C'],\n",
    "        'Cantidad': [10, 5, 8],\n",
    "        'Precio': [2.5, 3.0, 1.2]}\n",
    "df = pd.DataFrame(data)\n",
    "df[\"Total\"] = df[\"Cantidad\"] * df[\"Precio\"]\n",
    "df"
   ]
  },
  {
   "cell_type": "markdown",
   "id": "bbc952f0-ccb3-4465-8c27-80eb30f6df45",
   "metadata": {},
   "source": [
    "4. Filtra un DataFrame para mostrar solo las filas en las que el valor de una columna específica sea mayor que 50."
   ]
  },
  {
   "cell_type": "code",
   "execution_count": 32,
   "id": "8ad0e95c-193f-4b74-bff6-59f04bf795d2",
   "metadata": {},
   "outputs": [
    {
     "data": {
      "text/html": [
       "<div>\n",
       "<style scoped>\n",
       "    .dataframe tbody tr th:only-of-type {\n",
       "        vertical-align: middle;\n",
       "    }\n",
       "\n",
       "    .dataframe tbody tr th {\n",
       "        vertical-align: top;\n",
       "    }\n",
       "\n",
       "    .dataframe thead th {\n",
       "        text-align: right;\n",
       "    }\n",
       "</style>\n",
       "<table border=\"1\" class=\"dataframe\">\n",
       "  <thead>\n",
       "    <tr style=\"text-align: right;\">\n",
       "      <th></th>\n",
       "      <th>Valores</th>\n",
       "    </tr>\n",
       "  </thead>\n",
       "  <tbody>\n",
       "    <tr>\n",
       "      <th>1</th>\n",
       "      <td>70</td>\n",
       "    </tr>\n",
       "    <tr>\n",
       "      <th>2</th>\n",
       "      <td>80</td>\n",
       "    </tr>\n",
       "    <tr>\n",
       "      <th>3</th>\n",
       "      <td>85</td>\n",
       "    </tr>\n",
       "    <tr>\n",
       "      <th>4</th>\n",
       "      <td>100</td>\n",
       "    </tr>\n",
       "    <tr>\n",
       "      <th>7</th>\n",
       "      <td>120</td>\n",
       "    </tr>\n",
       "    <tr>\n",
       "      <th>8</th>\n",
       "      <td>200</td>\n",
       "    </tr>\n",
       "    <tr>\n",
       "      <th>9</th>\n",
       "      <td>300</td>\n",
       "    </tr>\n",
       "  </tbody>\n",
       "</table>\n",
       "</div>"
      ],
      "text/plain": [
       "   Valores\n",
       "1       70\n",
       "2       80\n",
       "3       85\n",
       "4      100\n",
       "7      120\n",
       "8      200\n",
       "9      300"
      ]
     },
     "execution_count": 32,
     "metadata": {},
     "output_type": "execute_result"
    }
   ],
   "source": [
    "df = pd.DataFrame([50, 70, 80, 85, 100, 45, 30, 120, 200, 300], columns=[\"Valores\"])\n",
    "df[df[\"Valores\"] > 50]"
   ]
  },
  {
   "cell_type": "markdown",
   "id": "fcfc8ccb-a68e-4bf5-a223-d5b1c865bbbc",
   "metadata": {},
   "source": [
    "5. Agrupa un DataFrame de datos de ventas por categorías y calcula la suma de ventas por cada categoría."
   ]
  },
  {
   "cell_type": "code",
   "execution_count": 34,
   "id": "009834d0-c2e3-4aa2-a634-a32a95935551",
   "metadata": {},
   "outputs": [
    {
     "name": "stdout",
     "output_type": "stream",
     "text": [
      "           Ventas\n",
      "Categoria        \n",
      "A             300\n",
      "B             280\n",
      "C             300\n"
     ]
    }
   ],
   "source": [
    "data = {'Categoria': ['A', 'A', 'B', 'B', 'C'],\n",
    "        'Ventas': [100, 200, 150, 130, 300]}\n",
    "df = pd.DataFrame(data)\n",
    "venta_categoria= df.groupby(\"Categoria\").sum()\n",
    "print(venta_categoria)"
   ]
  },
  {
   "cell_type": "markdown",
   "id": "11f4163b-e48b-497e-9afc-e383e22c6def",
   "metadata": {},
   "source": [
    "6. Crea un DataFrame con fechas de un mes y una columna con valores de temperatura diaria. Usa la función rolling() para calcular la media móvil de 7 días."
   ]
  },
  {
   "cell_type": "code",
   "execution_count": 36,
   "id": "346321b0-af68-4d1a-9d29-8380590317d5",
   "metadata": {},
   "outputs": [
    {
     "data": {
      "text/html": [
       "<div>\n",
       "<style scoped>\n",
       "    .dataframe tbody tr th:only-of-type {\n",
       "        vertical-align: middle;\n",
       "    }\n",
       "\n",
       "    .dataframe tbody tr th {\n",
       "        vertical-align: top;\n",
       "    }\n",
       "\n",
       "    .dataframe thead th {\n",
       "        text-align: right;\n",
       "    }\n",
       "</style>\n",
       "<table border=\"1\" class=\"dataframe\">\n",
       "  <thead>\n",
       "    <tr style=\"text-align: right;\">\n",
       "      <th></th>\n",
       "      <th>fechas</th>\n",
       "      <th>temperaturas</th>\n",
       "      <th>Media_Movil</th>\n",
       "    </tr>\n",
       "  </thead>\n",
       "  <tbody>\n",
       "    <tr>\n",
       "      <th>0</th>\n",
       "      <td>2024-01-01</td>\n",
       "      <td>11</td>\n",
       "      <td>NaN</td>\n",
       "    </tr>\n",
       "    <tr>\n",
       "      <th>1</th>\n",
       "      <td>2024-01-02</td>\n",
       "      <td>9</td>\n",
       "      <td>NaN</td>\n",
       "    </tr>\n",
       "    <tr>\n",
       "      <th>2</th>\n",
       "      <td>2024-01-03</td>\n",
       "      <td>20</td>\n",
       "      <td>NaN</td>\n",
       "    </tr>\n",
       "    <tr>\n",
       "      <th>3</th>\n",
       "      <td>2024-01-04</td>\n",
       "      <td>0</td>\n",
       "      <td>NaN</td>\n",
       "    </tr>\n",
       "    <tr>\n",
       "      <th>4</th>\n",
       "      <td>2024-01-05</td>\n",
       "      <td>0</td>\n",
       "      <td>NaN</td>\n",
       "    </tr>\n",
       "    <tr>\n",
       "      <th>5</th>\n",
       "      <td>2024-01-06</td>\n",
       "      <td>22</td>\n",
       "      <td>NaN</td>\n",
       "    </tr>\n",
       "    <tr>\n",
       "      <th>6</th>\n",
       "      <td>2024-01-07</td>\n",
       "      <td>14</td>\n",
       "      <td>10.857143</td>\n",
       "    </tr>\n",
       "    <tr>\n",
       "      <th>7</th>\n",
       "      <td>2024-01-08</td>\n",
       "      <td>6</td>\n",
       "      <td>10.142857</td>\n",
       "    </tr>\n",
       "    <tr>\n",
       "      <th>8</th>\n",
       "      <td>2024-01-09</td>\n",
       "      <td>9</td>\n",
       "      <td>10.142857</td>\n",
       "    </tr>\n",
       "    <tr>\n",
       "      <th>9</th>\n",
       "      <td>2024-01-10</td>\n",
       "      <td>18</td>\n",
       "      <td>9.857143</td>\n",
       "    </tr>\n",
       "    <tr>\n",
       "      <th>10</th>\n",
       "      <td>2024-01-11</td>\n",
       "      <td>16</td>\n",
       "      <td>12.142857</td>\n",
       "    </tr>\n",
       "    <tr>\n",
       "      <th>11</th>\n",
       "      <td>2024-01-12</td>\n",
       "      <td>17</td>\n",
       "      <td>14.571429</td>\n",
       "    </tr>\n",
       "    <tr>\n",
       "      <th>12</th>\n",
       "      <td>2024-01-13</td>\n",
       "      <td>12</td>\n",
       "      <td>13.142857</td>\n",
       "    </tr>\n",
       "    <tr>\n",
       "      <th>13</th>\n",
       "      <td>2024-01-14</td>\n",
       "      <td>21</td>\n",
       "      <td>14.142857</td>\n",
       "    </tr>\n",
       "    <tr>\n",
       "      <th>14</th>\n",
       "      <td>2024-01-15</td>\n",
       "      <td>17</td>\n",
       "      <td>15.714286</td>\n",
       "    </tr>\n",
       "    <tr>\n",
       "      <th>15</th>\n",
       "      <td>2024-01-16</td>\n",
       "      <td>26</td>\n",
       "      <td>18.142857</td>\n",
       "    </tr>\n",
       "    <tr>\n",
       "      <th>16</th>\n",
       "      <td>2024-01-17</td>\n",
       "      <td>19</td>\n",
       "      <td>18.285714</td>\n",
       "    </tr>\n",
       "    <tr>\n",
       "      <th>17</th>\n",
       "      <td>2024-01-18</td>\n",
       "      <td>12</td>\n",
       "      <td>17.714286</td>\n",
       "    </tr>\n",
       "    <tr>\n",
       "      <th>18</th>\n",
       "      <td>2024-01-19</td>\n",
       "      <td>5</td>\n",
       "      <td>16.000000</td>\n",
       "    </tr>\n",
       "    <tr>\n",
       "      <th>19</th>\n",
       "      <td>2024-01-20</td>\n",
       "      <td>6</td>\n",
       "      <td>15.142857</td>\n",
       "    </tr>\n",
       "    <tr>\n",
       "      <th>20</th>\n",
       "      <td>2024-01-21</td>\n",
       "      <td>7</td>\n",
       "      <td>13.142857</td>\n",
       "    </tr>\n",
       "    <tr>\n",
       "      <th>21</th>\n",
       "      <td>2024-01-22</td>\n",
       "      <td>1</td>\n",
       "      <td>10.857143</td>\n",
       "    </tr>\n",
       "    <tr>\n",
       "      <th>22</th>\n",
       "      <td>2024-01-23</td>\n",
       "      <td>3</td>\n",
       "      <td>7.571429</td>\n",
       "    </tr>\n",
       "    <tr>\n",
       "      <th>23</th>\n",
       "      <td>2024-01-24</td>\n",
       "      <td>11</td>\n",
       "      <td>6.428571</td>\n",
       "    </tr>\n",
       "    <tr>\n",
       "      <th>24</th>\n",
       "      <td>2024-01-25</td>\n",
       "      <td>17</td>\n",
       "      <td>7.142857</td>\n",
       "    </tr>\n",
       "    <tr>\n",
       "      <th>25</th>\n",
       "      <td>2024-01-26</td>\n",
       "      <td>11</td>\n",
       "      <td>8.000000</td>\n",
       "    </tr>\n",
       "    <tr>\n",
       "      <th>26</th>\n",
       "      <td>2024-01-27</td>\n",
       "      <td>13</td>\n",
       "      <td>9.000000</td>\n",
       "    </tr>\n",
       "    <tr>\n",
       "      <th>27</th>\n",
       "      <td>2024-01-28</td>\n",
       "      <td>19</td>\n",
       "      <td>10.714286</td>\n",
       "    </tr>\n",
       "    <tr>\n",
       "      <th>28</th>\n",
       "      <td>2024-01-29</td>\n",
       "      <td>10</td>\n",
       "      <td>12.000000</td>\n",
       "    </tr>\n",
       "    <tr>\n",
       "      <th>29</th>\n",
       "      <td>2024-01-30</td>\n",
       "      <td>17</td>\n",
       "      <td>14.000000</td>\n",
       "    </tr>\n",
       "  </tbody>\n",
       "</table>\n",
       "</div>"
      ],
      "text/plain": [
       "       fechas  temperaturas  Media_Movil\n",
       "0  2024-01-01            11          NaN\n",
       "1  2024-01-02             9          NaN\n",
       "2  2024-01-03            20          NaN\n",
       "3  2024-01-04             0          NaN\n",
       "4  2024-01-05             0          NaN\n",
       "5  2024-01-06            22          NaN\n",
       "6  2024-01-07            14    10.857143\n",
       "7  2024-01-08             6    10.142857\n",
       "8  2024-01-09             9    10.142857\n",
       "9  2024-01-10            18     9.857143\n",
       "10 2024-01-11            16    12.142857\n",
       "11 2024-01-12            17    14.571429\n",
       "12 2024-01-13            12    13.142857\n",
       "13 2024-01-14            21    14.142857\n",
       "14 2024-01-15            17    15.714286\n",
       "15 2024-01-16            26    18.142857\n",
       "16 2024-01-17            19    18.285714\n",
       "17 2024-01-18            12    17.714286\n",
       "18 2024-01-19             5    16.000000\n",
       "19 2024-01-20             6    15.142857\n",
       "20 2024-01-21             7    13.142857\n",
       "21 2024-01-22             1    10.857143\n",
       "22 2024-01-23             3     7.571429\n",
       "23 2024-01-24            11     6.428571\n",
       "24 2024-01-25            17     7.142857\n",
       "25 2024-01-26            11     8.000000\n",
       "26 2024-01-27            13     9.000000\n",
       "27 2024-01-28            19    10.714286\n",
       "28 2024-01-29            10    12.000000\n",
       "29 2024-01-30            17    14.000000"
      ]
     },
     "execution_count": 36,
     "metadata": {},
     "output_type": "execute_result"
    }
   ],
   "source": [
    "dates = pd.date_range('2024-01-01', periods=30)\n",
    "temps = np.random.randint(0, 30, size=30)\n",
    "df = pd.DataFrame({\n",
    "    \"fechas\": dates,\n",
    "    \"temperaturas\": temps\n",
    "})\n",
    "df['Media_Movil'] = df['temperaturas'].rolling(window=7).mean()\n",
    "df"
   ]
  },
  {
   "cell_type": "markdown",
   "id": "0582d23d-2a28-40cf-8cb7-5485a92e5865",
   "metadata": {},
   "source": [
    "7. Carga un dataset con información de pacientes, y filtra a los pacientes que tengan más de 40 años y cuyo IMC esté por encima de 25."
   ]
  },
  {
   "cell_type": "code",
   "execution_count": 41,
   "id": "a487f576-9f0d-4028-9aa0-12d3259046c8",
   "metadata": {},
   "outputs": [],
   "source": [
    "#df = pd.read_csv('patients_data.csv')\n",
    "#filtered_df = df[(df['Edad'] > 40) & (df['IMC'] > 25)]\n",
    "#print(filtered_df)"
   ]
  },
  {
   "cell_type": "markdown",
   "id": "b3a13869-6b11-4916-9cc1-ba83b2bf6ea4",
   "metadata": {},
   "source": [
    "8. Realiza una regresión lineal con un DataFrame de pandas para predecir el valor de una variable continua a partir de otra."
   ]
  },
  {
   "cell_type": "code",
   "execution_count": 43,
   "id": "c84ee2b0-a38f-400e-8cae-b26d5a917834",
   "metadata": {},
   "outputs": [
    {
     "name": "stdout",
     "output_type": "stream",
     "text": [
      "Coeficiente: [[0.6]], Intercepto: [2.2]\n",
      "[[8.2]]\n"
     ]
    },
    {
     "name": "stderr",
     "output_type": "stream",
     "text": [
      "/opt/anaconda3/envs/Simulacion/lib/python3.9/site-packages/sklearn/base.py:493: UserWarning: X does not have valid feature names, but LinearRegression was fitted with feature names\n",
      "  warnings.warn(\n"
     ]
    }
   ],
   "source": [
    "from sklearn.linear_model import LinearRegression\n",
    "import numpy as np\n",
    "df = pd.DataFrame({'X': [1, 2, 3, 4, 5], 'Y': [2, 4, 5, 4, 5]})\n",
    "df\n",
    "X_df = df[[\"X\"]]\n",
    "y_df = df[[\"Y\"]]\n",
    "model = LinearRegression().fit(X_df, y_df)\n",
    "print(f'Coeficiente: {model.coef_}, Intercepto: {model.intercept_}')\n",
    "X_test = np.array([[10]])\n",
    "y_pred = model.predict(X_test)\n",
    "print(y_pred) "
   ]
  },
  {
   "cell_type": "code",
   "execution_count": null,
   "id": "d058bc92-2162-4ab7-ba7d-982574f0a0ab",
   "metadata": {},
   "outputs": [],
   "source": []
  }
 ],
 "metadata": {
  "kernelspec": {
   "display_name": "Python 3 (ipykernel)",
   "language": "python",
   "name": "python3"
  },
  "language_info": {
   "codemirror_mode": {
    "name": "ipython",
    "version": 3
   },
   "file_extension": ".py",
   "mimetype": "text/x-python",
   "name": "python",
   "nbconvert_exporter": "python",
   "pygments_lexer": "ipython3",
   "version": "3.9.19"
  }
 },
 "nbformat": 4,
 "nbformat_minor": 5
}

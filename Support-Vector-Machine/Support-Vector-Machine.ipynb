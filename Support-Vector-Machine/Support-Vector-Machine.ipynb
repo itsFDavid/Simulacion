{
 "cells": [
  {
   "cell_type": "markdown",
   "id": "9b995c02-9ac1-40a7-9f23-8f03b874807d",
   "metadata": {},
   "source": [
    "# Caso Practico: Support Vector Machine (SVM).\n",
    "\n",
    "### DataSet: Deteccion de URLs Maliciosas:\n",
    "\n",
    "The Web has long become a major platform for online criminal activities. URLs are used as the main vehicle in this domain. To counter this issues security community focused its efforts on developing techniques for mostly blacklisting of malicious URLs.\n",
    "\n",
    "While successful in protecting users from known malicious domains, this approach only solves part of the problem. The new malicious URLs that sprang up all over the web in masses commonly get a head start in this race. Besides that, Alexa ranked, trusted websites may convey compromised fraudulent URLs called defacement URL.\n",
    "\n",
    "We explore a lightweight approach to detection and categorization of the malicious URLs according to their attack type and show that lexical analysis is effective and efficient for proactive detection of these URLs. We also study the effect of the obfuscation techniques on malicious URLs to figure out the type of obfuscation technique targeted at specific type of malicious URL. We study mainly five different types of URLs:\n",
    "\n",
    "Benign URLs: Over 35,300 benign URLs were collected from Alexa top websites. The domains have been passed through a Heritrix web crawler to extract the URLs. Around half a million unique URLs are crawled initially and then passed to remove duplicate and domain only URLs. Later the extracted URLs have been checked through Virustotal to filter the benign URLs.\n",
    "\n",
    "Spam URLs: Around 12,000 spam URLs were collected from the publicly available WEBSPAM-UK2007 dataset.\n",
    "\n",
    "Phishing URLs: Around 10,000 phishing URLs were taken from OpenPhish which is a repository of active phishing sites.\n",
    "\n",
    "Malware URLs: More than 11,500 URLs related to malware websites were obtained from DNS-BH which is a project that maintain list of malware sites.\n",
    "\n",
    "Defacement URLs: More than 45,450 URLs belong to Defacement URL category. They are Alexa ranked trusted websites hosting fraudulent or hidden URL that contains both malicious web pages.\n",
    "\n",
    "Obfuscation is used as a common method for masking malicious URLs. An attacker intending to evade static analysis on lexical URL features use obfuscation techniques so that malicious URLs become statistically like the benign ones. The obfuscation techniques on URLs is analyzed for the intent of malicious activity in this research. We analyzed mainly Spam, Phishing and Malware URLs to see what kind of obfuscation techniques applied on the URLs."
   ]
  },
  {
   "cell_type": "markdown",
   "id": "a81eb473-07d9-4f16-b351-930ae177bea8",
   "metadata": {},
   "source": [
    "## Import"
   ]
  },
  {
   "cell_type": "code",
   "execution_count": 3,
   "id": "a013bf51-23f7-464f-81cf-c4c57f12a398",
   "metadata": {},
   "outputs": [],
   "source": [
    "%matplotlib inline\n",
    "import matplotlib.pyplot as plt\n",
    "import pandas as pd\n",
    "from sklearn.model_selection import train_test_split\n",
    "import numpy as np\n",
    "from sklearn.metrics import f1_score\n",
    "from sklearn.preprocessing import StandardScaler, RobustScaler\n",
    "from sklearn.pipeline import Pipeline"
   ]
  },
  {
   "cell_type": "markdown",
   "id": "5424dc9e-db97-4fda-9907-287c27a3b262",
   "metadata": {},
   "source": [
    "## Funciones Auxiliares"
   ]
  },
  {
   "cell_type": "code",
   "execution_count": 5,
   "id": "287a97de-363a-4ad0-a79b-5ee97974abfa",
   "metadata": {},
   "outputs": [],
   "source": [
    "# Construccion de una funcion que realice el particionado completo\n",
    "def train_val_test_split(df, rsate = 42, shuffle = True, stratify = None):\n",
    "    strat = df[stratify] if stratify else None\n",
    "    train_set, test_set = train_test_split(\n",
    "        df, test_size = 0.4, random_state = rsate, shuffle = shuffle, stratify = strat  \n",
    "    )\n",
    "    strat = test_set[stratify] if stratify else None\n",
    "    val_set, test_set = train_test_split(\n",
    "        test_set, test_size = 0.5, random_state = rsate, shuffle = shuffle, stratify = strat\n",
    "    )\n",
    "    return (train_set, val_set, test_set)"
   ]
  },
  {
   "cell_type": "code",
   "execution_count": 6,
   "id": "ee5ad9b3-02e6-479b-ae77-0b8b9535e620",
   "metadata": {},
   "outputs": [],
   "source": [
    "# Representaciom grafica del limite de decision.\n",
    "def plot_svm_decision_boundary(svm_clf, xmin, xmax):\n",
    "    w = svm_clf.coef_[0]\n",
    "    b = svm_clf.intercept_[0]\n",
    "\n",
    "    # At the decision boundary, w0*x0 + w1*x1 + b = 0\n",
    "    # => x1 = -w0/w1 * x0 -b/w1\n",
    "    x0 = np.linspace(xmin, xmax, 200)\n",
    "    decision_boundary = -w[0]/w[1] * x0- b/w[1]\n",
    "    \n",
    "    margin = 1/w[1]\n",
    "    gutter_up = decision_boundary + margin\n",
    "    gutter_down = decision_boundary - margin\n",
    "\n",
    "    svm = svm_clf.support_vectors_\n",
    "    plt.scatter(svm[:, 0], svm[:, 1], s = 180, facecolors = '#FFAAAA')\n",
    "    plt.plot(x0, decision_boundary, \"k-\", linewidth = 2)\n",
    "    plt.plot(x0, gutter_up, \"k--\", linewidth = 2)\n",
    "    plt.plot(x0, gutter_down, \"k--\", linewidth = 2)\n",
    "    "
   ]
  },
  {
   "cell_type": "markdown",
   "id": "953e2a53-e4d1-40ea-87bf-128ca353a566",
   "metadata": {},
   "source": [
    "## 1.- Lectura del DataSet."
   ]
  },
  {
   "cell_type": "code",
   "execution_count": 8,
   "id": "32dbb457-6723-4571-8318-7e518c38d431",
   "metadata": {},
   "outputs": [],
   "source": [
    "df = pd.read_csv(\"../datasetsSVM/Phishing.csv\")"
   ]
  },
  {
   "cell_type": "markdown",
   "id": "b60b3524-5933-4f6c-a234-88d630e35ff8",
   "metadata": {},
   "source": [
    "## 2.- Visualizacion del DataSet"
   ]
  },
  {
   "cell_type": "code",
   "execution_count": 10,
   "id": "62963729-604f-485e-8ab0-34becf82d09b",
   "metadata": {},
   "outputs": [
    {
     "data": {
      "text/html": [
       "<div>\n",
       "<style scoped>\n",
       "    .dataframe tbody tr th:only-of-type {\n",
       "        vertical-align: middle;\n",
       "    }\n",
       "\n",
       "    .dataframe tbody tr th {\n",
       "        vertical-align: top;\n",
       "    }\n",
       "\n",
       "    .dataframe thead th {\n",
       "        text-align: right;\n",
       "    }\n",
       "</style>\n",
       "<table border=\"1\" class=\"dataframe\">\n",
       "  <thead>\n",
       "    <tr style=\"text-align: right;\">\n",
       "      <th></th>\n",
       "      <th>Querylength</th>\n",
       "      <th>domain_token_count</th>\n",
       "      <th>path_token_count</th>\n",
       "      <th>avgdomaintokenlen</th>\n",
       "      <th>longdomaintokenlen</th>\n",
       "      <th>avgpathtokenlen</th>\n",
       "      <th>tld</th>\n",
       "      <th>charcompvowels</th>\n",
       "      <th>charcompace</th>\n",
       "      <th>ldl_url</th>\n",
       "      <th>...</th>\n",
       "      <th>SymbolCount_FileName</th>\n",
       "      <th>SymbolCount_Extension</th>\n",
       "      <th>SymbolCount_Afterpath</th>\n",
       "      <th>Entropy_URL</th>\n",
       "      <th>Entropy_Domain</th>\n",
       "      <th>Entropy_DirectoryName</th>\n",
       "      <th>Entropy_Filename</th>\n",
       "      <th>Entropy_Extension</th>\n",
       "      <th>Entropy_Afterpath</th>\n",
       "      <th>URL_Type_obf_Type</th>\n",
       "    </tr>\n",
       "  </thead>\n",
       "  <tbody>\n",
       "    <tr>\n",
       "      <th>0</th>\n",
       "      <td>0</td>\n",
       "      <td>2</td>\n",
       "      <td>12</td>\n",
       "      <td>5.5</td>\n",
       "      <td>8</td>\n",
       "      <td>4.083334</td>\n",
       "      <td>2</td>\n",
       "      <td>15</td>\n",
       "      <td>7</td>\n",
       "      <td>0</td>\n",
       "      <td>...</td>\n",
       "      <td>-1</td>\n",
       "      <td>-1</td>\n",
       "      <td>-1</td>\n",
       "      <td>0.676804</td>\n",
       "      <td>0.860529</td>\n",
       "      <td>-1.000000</td>\n",
       "      <td>-1.000000</td>\n",
       "      <td>-1.00000</td>\n",
       "      <td>-1.000000</td>\n",
       "      <td>benign</td>\n",
       "    </tr>\n",
       "    <tr>\n",
       "      <th>1</th>\n",
       "      <td>0</td>\n",
       "      <td>3</td>\n",
       "      <td>12</td>\n",
       "      <td>5.0</td>\n",
       "      <td>10</td>\n",
       "      <td>3.583333</td>\n",
       "      <td>3</td>\n",
       "      <td>12</td>\n",
       "      <td>8</td>\n",
       "      <td>2</td>\n",
       "      <td>...</td>\n",
       "      <td>1</td>\n",
       "      <td>0</td>\n",
       "      <td>-1</td>\n",
       "      <td>0.715629</td>\n",
       "      <td>0.776796</td>\n",
       "      <td>0.693127</td>\n",
       "      <td>0.738315</td>\n",
       "      <td>1.00000</td>\n",
       "      <td>-1.000000</td>\n",
       "      <td>benign</td>\n",
       "    </tr>\n",
       "    <tr>\n",
       "      <th>2</th>\n",
       "      <td>2</td>\n",
       "      <td>2</td>\n",
       "      <td>11</td>\n",
       "      <td>4.0</td>\n",
       "      <td>5</td>\n",
       "      <td>4.750000</td>\n",
       "      <td>2</td>\n",
       "      <td>16</td>\n",
       "      <td>11</td>\n",
       "      <td>0</td>\n",
       "      <td>...</td>\n",
       "      <td>2</td>\n",
       "      <td>0</td>\n",
       "      <td>1</td>\n",
       "      <td>0.677701</td>\n",
       "      <td>1.000000</td>\n",
       "      <td>0.677704</td>\n",
       "      <td>0.916667</td>\n",
       "      <td>0.00000</td>\n",
       "      <td>0.898227</td>\n",
       "      <td>benign</td>\n",
       "    </tr>\n",
       "    <tr>\n",
       "      <th>3</th>\n",
       "      <td>0</td>\n",
       "      <td>2</td>\n",
       "      <td>7</td>\n",
       "      <td>4.5</td>\n",
       "      <td>7</td>\n",
       "      <td>5.714286</td>\n",
       "      <td>2</td>\n",
       "      <td>15</td>\n",
       "      <td>10</td>\n",
       "      <td>0</td>\n",
       "      <td>...</td>\n",
       "      <td>0</td>\n",
       "      <td>0</td>\n",
       "      <td>-1</td>\n",
       "      <td>0.696067</td>\n",
       "      <td>0.879588</td>\n",
       "      <td>0.818007</td>\n",
       "      <td>0.753585</td>\n",
       "      <td>0.00000</td>\n",
       "      <td>-1.000000</td>\n",
       "      <td>benign</td>\n",
       "    </tr>\n",
       "    <tr>\n",
       "      <th>4</th>\n",
       "      <td>19</td>\n",
       "      <td>2</td>\n",
       "      <td>10</td>\n",
       "      <td>6.0</td>\n",
       "      <td>9</td>\n",
       "      <td>2.250000</td>\n",
       "      <td>2</td>\n",
       "      <td>9</td>\n",
       "      <td>5</td>\n",
       "      <td>0</td>\n",
       "      <td>...</td>\n",
       "      <td>5</td>\n",
       "      <td>4</td>\n",
       "      <td>3</td>\n",
       "      <td>0.747202</td>\n",
       "      <td>0.833700</td>\n",
       "      <td>0.655459</td>\n",
       "      <td>0.829535</td>\n",
       "      <td>0.83615</td>\n",
       "      <td>0.823008</td>\n",
       "      <td>benign</td>\n",
       "    </tr>\n",
       "    <tr>\n",
       "      <th>5</th>\n",
       "      <td>0</td>\n",
       "      <td>2</td>\n",
       "      <td>10</td>\n",
       "      <td>5.5</td>\n",
       "      <td>9</td>\n",
       "      <td>4.100000</td>\n",
       "      <td>2</td>\n",
       "      <td>15</td>\n",
       "      <td>11</td>\n",
       "      <td>0</td>\n",
       "      <td>...</td>\n",
       "      <td>-1</td>\n",
       "      <td>-1</td>\n",
       "      <td>-1</td>\n",
       "      <td>0.732981</td>\n",
       "      <td>0.860529</td>\n",
       "      <td>-1.000000</td>\n",
       "      <td>-1.000000</td>\n",
       "      <td>-1.00000</td>\n",
       "      <td>-1.000000</td>\n",
       "      <td>benign</td>\n",
       "    </tr>\n",
       "    <tr>\n",
       "      <th>6</th>\n",
       "      <td>0</td>\n",
       "      <td>2</td>\n",
       "      <td>12</td>\n",
       "      <td>4.5</td>\n",
       "      <td>6</td>\n",
       "      <td>5.333334</td>\n",
       "      <td>2</td>\n",
       "      <td>24</td>\n",
       "      <td>9</td>\n",
       "      <td>0</td>\n",
       "      <td>...</td>\n",
       "      <td>0</td>\n",
       "      <td>0</td>\n",
       "      <td>-1</td>\n",
       "      <td>0.692383</td>\n",
       "      <td>0.939794</td>\n",
       "      <td>0.910795</td>\n",
       "      <td>0.673973</td>\n",
       "      <td>0.00000</td>\n",
       "      <td>-1.000000</td>\n",
       "      <td>benign</td>\n",
       "    </tr>\n",
       "    <tr>\n",
       "      <th>7</th>\n",
       "      <td>0</td>\n",
       "      <td>2</td>\n",
       "      <td>11</td>\n",
       "      <td>3.5</td>\n",
       "      <td>4</td>\n",
       "      <td>3.909091</td>\n",
       "      <td>2</td>\n",
       "      <td>15</td>\n",
       "      <td>6</td>\n",
       "      <td>0</td>\n",
       "      <td>...</td>\n",
       "      <td>0</td>\n",
       "      <td>0</td>\n",
       "      <td>-1</td>\n",
       "      <td>0.707365</td>\n",
       "      <td>0.916667</td>\n",
       "      <td>0.916667</td>\n",
       "      <td>0.690332</td>\n",
       "      <td>0.00000</td>\n",
       "      <td>-1.000000</td>\n",
       "      <td>benign</td>\n",
       "    </tr>\n",
       "    <tr>\n",
       "      <th>8</th>\n",
       "      <td>0</td>\n",
       "      <td>2</td>\n",
       "      <td>9</td>\n",
       "      <td>2.5</td>\n",
       "      <td>3</td>\n",
       "      <td>4.555555</td>\n",
       "      <td>2</td>\n",
       "      <td>6</td>\n",
       "      <td>3</td>\n",
       "      <td>0</td>\n",
       "      <td>...</td>\n",
       "      <td>1</td>\n",
       "      <td>0</td>\n",
       "      <td>-1</td>\n",
       "      <td>0.742606</td>\n",
       "      <td>1.000000</td>\n",
       "      <td>0.785719</td>\n",
       "      <td>0.808833</td>\n",
       "      <td>1.00000</td>\n",
       "      <td>-1.000000</td>\n",
       "      <td>benign</td>\n",
       "    </tr>\n",
       "    <tr>\n",
       "      <th>9</th>\n",
       "      <td>0</td>\n",
       "      <td>2</td>\n",
       "      <td>13</td>\n",
       "      <td>4.5</td>\n",
       "      <td>6</td>\n",
       "      <td>5.307692</td>\n",
       "      <td>2</td>\n",
       "      <td>16</td>\n",
       "      <td>9</td>\n",
       "      <td>1</td>\n",
       "      <td>...</td>\n",
       "      <td>-1</td>\n",
       "      <td>-1</td>\n",
       "      <td>-1</td>\n",
       "      <td>0.734633</td>\n",
       "      <td>0.939794</td>\n",
       "      <td>-1.000000</td>\n",
       "      <td>-1.000000</td>\n",
       "      <td>-1.00000</td>\n",
       "      <td>-1.000000</td>\n",
       "      <td>benign</td>\n",
       "    </tr>\n",
       "  </tbody>\n",
       "</table>\n",
       "<p>10 rows × 80 columns</p>\n",
       "</div>"
      ],
      "text/plain": [
       "   Querylength  domain_token_count  path_token_count  avgdomaintokenlen  \\\n",
       "0            0                   2                12                5.5   \n",
       "1            0                   3                12                5.0   \n",
       "2            2                   2                11                4.0   \n",
       "3            0                   2                 7                4.5   \n",
       "4           19                   2                10                6.0   \n",
       "5            0                   2                10                5.5   \n",
       "6            0                   2                12                4.5   \n",
       "7            0                   2                11                3.5   \n",
       "8            0                   2                 9                2.5   \n",
       "9            0                   2                13                4.5   \n",
       "\n",
       "   longdomaintokenlen  avgpathtokenlen  tld  charcompvowels  charcompace  \\\n",
       "0                   8         4.083334    2              15            7   \n",
       "1                  10         3.583333    3              12            8   \n",
       "2                   5         4.750000    2              16           11   \n",
       "3                   7         5.714286    2              15           10   \n",
       "4                   9         2.250000    2               9            5   \n",
       "5                   9         4.100000    2              15           11   \n",
       "6                   6         5.333334    2              24            9   \n",
       "7                   4         3.909091    2              15            6   \n",
       "8                   3         4.555555    2               6            3   \n",
       "9                   6         5.307692    2              16            9   \n",
       "\n",
       "   ldl_url  ...  SymbolCount_FileName  SymbolCount_Extension  \\\n",
       "0        0  ...                    -1                     -1   \n",
       "1        2  ...                     1                      0   \n",
       "2        0  ...                     2                      0   \n",
       "3        0  ...                     0                      0   \n",
       "4        0  ...                     5                      4   \n",
       "5        0  ...                    -1                     -1   \n",
       "6        0  ...                     0                      0   \n",
       "7        0  ...                     0                      0   \n",
       "8        0  ...                     1                      0   \n",
       "9        1  ...                    -1                     -1   \n",
       "\n",
       "   SymbolCount_Afterpath  Entropy_URL  Entropy_Domain  Entropy_DirectoryName  \\\n",
       "0                     -1     0.676804        0.860529              -1.000000   \n",
       "1                     -1     0.715629        0.776796               0.693127   \n",
       "2                      1     0.677701        1.000000               0.677704   \n",
       "3                     -1     0.696067        0.879588               0.818007   \n",
       "4                      3     0.747202        0.833700               0.655459   \n",
       "5                     -1     0.732981        0.860529              -1.000000   \n",
       "6                     -1     0.692383        0.939794               0.910795   \n",
       "7                     -1     0.707365        0.916667               0.916667   \n",
       "8                     -1     0.742606        1.000000               0.785719   \n",
       "9                     -1     0.734633        0.939794              -1.000000   \n",
       "\n",
       "   Entropy_Filename  Entropy_Extension  Entropy_Afterpath  URL_Type_obf_Type  \n",
       "0         -1.000000           -1.00000          -1.000000             benign  \n",
       "1          0.738315            1.00000          -1.000000             benign  \n",
       "2          0.916667            0.00000           0.898227             benign  \n",
       "3          0.753585            0.00000          -1.000000             benign  \n",
       "4          0.829535            0.83615           0.823008             benign  \n",
       "5         -1.000000           -1.00000          -1.000000             benign  \n",
       "6          0.673973            0.00000          -1.000000             benign  \n",
       "7          0.690332            0.00000          -1.000000             benign  \n",
       "8          0.808833            1.00000          -1.000000             benign  \n",
       "9         -1.000000           -1.00000          -1.000000             benign  \n",
       "\n",
       "[10 rows x 80 columns]"
      ]
     },
     "execution_count": 10,
     "metadata": {},
     "output_type": "execute_result"
    }
   ],
   "source": [
    "df.head(10)"
   ]
  },
  {
   "cell_type": "code",
   "execution_count": 11,
   "id": "9751477f-69e9-43cc-847e-5008851e421d",
   "metadata": {},
   "outputs": [
    {
     "data": {
      "text/html": [
       "<div>\n",
       "<style scoped>\n",
       "    .dataframe tbody tr th:only-of-type {\n",
       "        vertical-align: middle;\n",
       "    }\n",
       "\n",
       "    .dataframe tbody tr th {\n",
       "        vertical-align: top;\n",
       "    }\n",
       "\n",
       "    .dataframe thead th {\n",
       "        text-align: right;\n",
       "    }\n",
       "</style>\n",
       "<table border=\"1\" class=\"dataframe\">\n",
       "  <thead>\n",
       "    <tr style=\"text-align: right;\">\n",
       "      <th></th>\n",
       "      <th>Querylength</th>\n",
       "      <th>domain_token_count</th>\n",
       "      <th>path_token_count</th>\n",
       "      <th>avgdomaintokenlen</th>\n",
       "      <th>longdomaintokenlen</th>\n",
       "      <th>avgpathtokenlen</th>\n",
       "      <th>tld</th>\n",
       "      <th>charcompvowels</th>\n",
       "      <th>charcompace</th>\n",
       "      <th>ldl_url</th>\n",
       "      <th>...</th>\n",
       "      <th>SymbolCount_Directoryname</th>\n",
       "      <th>SymbolCount_FileName</th>\n",
       "      <th>SymbolCount_Extension</th>\n",
       "      <th>SymbolCount_Afterpath</th>\n",
       "      <th>Entropy_URL</th>\n",
       "      <th>Entropy_Domain</th>\n",
       "      <th>Entropy_DirectoryName</th>\n",
       "      <th>Entropy_Filename</th>\n",
       "      <th>Entropy_Extension</th>\n",
       "      <th>Entropy_Afterpath</th>\n",
       "    </tr>\n",
       "  </thead>\n",
       "  <tbody>\n",
       "    <tr>\n",
       "      <th>count</th>\n",
       "      <td>15367.000000</td>\n",
       "      <td>15367.000000</td>\n",
       "      <td>15367.000000</td>\n",
       "      <td>15367.000000</td>\n",
       "      <td>15367.000000</td>\n",
       "      <td>15096.000000</td>\n",
       "      <td>15367.000000</td>\n",
       "      <td>15367.000000</td>\n",
       "      <td>15367.000000</td>\n",
       "      <td>15367.000000</td>\n",
       "      <td>...</td>\n",
       "      <td>15367.000000</td>\n",
       "      <td>15367.000000</td>\n",
       "      <td>15367.000000</td>\n",
       "      <td>15367.000000</td>\n",
       "      <td>15367.000000</td>\n",
       "      <td>15367.000000</td>\n",
       "      <td>13541.000000</td>\n",
       "      <td>15177.000000</td>\n",
       "      <td>15364.000000</td>\n",
       "      <td>15364.000000</td>\n",
       "    </tr>\n",
       "    <tr>\n",
       "      <th>mean</th>\n",
       "      <td>3.446021</td>\n",
       "      <td>2.543698</td>\n",
       "      <td>8.477061</td>\n",
       "      <td>5.851956</td>\n",
       "      <td>10.027461</td>\n",
       "      <td>5.289936</td>\n",
       "      <td>2.543698</td>\n",
       "      <td>12.659986</td>\n",
       "      <td>8.398516</td>\n",
       "      <td>1.910913</td>\n",
       "      <td>...</td>\n",
       "      <td>2.120843</td>\n",
       "      <td>1.124618</td>\n",
       "      <td>0.500813</td>\n",
       "      <td>-0.158782</td>\n",
       "      <td>0.721684</td>\n",
       "      <td>0.854232</td>\n",
       "      <td>0.634859</td>\n",
       "      <td>0.682896</td>\n",
       "      <td>0.313617</td>\n",
       "      <td>-0.723793</td>\n",
       "    </tr>\n",
       "    <tr>\n",
       "      <th>std</th>\n",
       "      <td>14.151453</td>\n",
       "      <td>0.944938</td>\n",
       "      <td>4.660250</td>\n",
       "      <td>2.064581</td>\n",
       "      <td>5.281090</td>\n",
       "      <td>3.535097</td>\n",
       "      <td>0.944938</td>\n",
       "      <td>8.562206</td>\n",
       "      <td>6.329007</td>\n",
       "      <td>4.657731</td>\n",
       "      <td>...</td>\n",
       "      <td>2.777307</td>\n",
       "      <td>2.570246</td>\n",
       "      <td>2.261013</td>\n",
       "      <td>2.535939</td>\n",
       "      <td>0.049246</td>\n",
       "      <td>0.072641</td>\n",
       "      <td>0.510992</td>\n",
       "      <td>0.502288</td>\n",
       "      <td>0.576910</td>\n",
       "      <td>0.649785</td>\n",
       "    </tr>\n",
       "    <tr>\n",
       "      <th>min</th>\n",
       "      <td>0.000000</td>\n",
       "      <td>2.000000</td>\n",
       "      <td>0.000000</td>\n",
       "      <td>1.500000</td>\n",
       "      <td>2.000000</td>\n",
       "      <td>0.000000</td>\n",
       "      <td>2.000000</td>\n",
       "      <td>0.000000</td>\n",
       "      <td>0.000000</td>\n",
       "      <td>0.000000</td>\n",
       "      <td>...</td>\n",
       "      <td>-1.000000</td>\n",
       "      <td>-1.000000</td>\n",
       "      <td>-1.000000</td>\n",
       "      <td>-1.000000</td>\n",
       "      <td>0.419560</td>\n",
       "      <td>0.561913</td>\n",
       "      <td>-1.000000</td>\n",
       "      <td>-1.000000</td>\n",
       "      <td>-1.000000</td>\n",
       "      <td>-1.000000</td>\n",
       "    </tr>\n",
       "    <tr>\n",
       "      <th>25%</th>\n",
       "      <td>0.000000</td>\n",
       "      <td>2.000000</td>\n",
       "      <td>5.000000</td>\n",
       "      <td>4.500000</td>\n",
       "      <td>7.000000</td>\n",
       "      <td>3.800000</td>\n",
       "      <td>2.000000</td>\n",
       "      <td>6.000000</td>\n",
       "      <td>4.000000</td>\n",
       "      <td>0.000000</td>\n",
       "      <td>...</td>\n",
       "      <td>1.000000</td>\n",
       "      <td>0.000000</td>\n",
       "      <td>0.000000</td>\n",
       "      <td>-1.000000</td>\n",
       "      <td>0.687215</td>\n",
       "      <td>0.798231</td>\n",
       "      <td>0.709532</td>\n",
       "      <td>0.707165</td>\n",
       "      <td>0.000000</td>\n",
       "      <td>-1.000000</td>\n",
       "    </tr>\n",
       "    <tr>\n",
       "      <th>50%</th>\n",
       "      <td>0.000000</td>\n",
       "      <td>2.000000</td>\n",
       "      <td>8.000000</td>\n",
       "      <td>5.500000</td>\n",
       "      <td>9.000000</td>\n",
       "      <td>4.500000</td>\n",
       "      <td>2.000000</td>\n",
       "      <td>11.000000</td>\n",
       "      <td>7.000000</td>\n",
       "      <td>0.000000</td>\n",
       "      <td>...</td>\n",
       "      <td>2.000000</td>\n",
       "      <td>0.000000</td>\n",
       "      <td>0.000000</td>\n",
       "      <td>-1.000000</td>\n",
       "      <td>0.723217</td>\n",
       "      <td>0.859793</td>\n",
       "      <td>0.785949</td>\n",
       "      <td>0.814038</td>\n",
       "      <td>0.000000</td>\n",
       "      <td>-1.000000</td>\n",
       "    </tr>\n",
       "    <tr>\n",
       "      <th>75%</th>\n",
       "      <td>0.000000</td>\n",
       "      <td>3.000000</td>\n",
       "      <td>11.000000</td>\n",
       "      <td>6.666666</td>\n",
       "      <td>12.000000</td>\n",
       "      <td>5.571429</td>\n",
       "      <td>3.000000</td>\n",
       "      <td>17.000000</td>\n",
       "      <td>11.000000</td>\n",
       "      <td>1.000000</td>\n",
       "      <td>...</td>\n",
       "      <td>3.000000</td>\n",
       "      <td>1.000000</td>\n",
       "      <td>0.000000</td>\n",
       "      <td>-1.000000</td>\n",
       "      <td>0.757949</td>\n",
       "      <td>0.916667</td>\n",
       "      <td>0.859582</td>\n",
       "      <td>0.916667</td>\n",
       "      <td>1.000000</td>\n",
       "      <td>-1.000000</td>\n",
       "    </tr>\n",
       "    <tr>\n",
       "      <th>max</th>\n",
       "      <td>173.000000</td>\n",
       "      <td>19.000000</td>\n",
       "      <td>68.000000</td>\n",
       "      <td>29.500000</td>\n",
       "      <td>63.000000</td>\n",
       "      <td>105.000000</td>\n",
       "      <td>19.000000</td>\n",
       "      <td>94.000000</td>\n",
       "      <td>62.000000</td>\n",
       "      <td>58.000000</td>\n",
       "      <td>...</td>\n",
       "      <td>24.000000</td>\n",
       "      <td>31.000000</td>\n",
       "      <td>30.000000</td>\n",
       "      <td>29.000000</td>\n",
       "      <td>0.869701</td>\n",
       "      <td>1.000000</td>\n",
       "      <td>0.962479</td>\n",
       "      <td>1.000000</td>\n",
       "      <td>1.000000</td>\n",
       "      <td>1.000000</td>\n",
       "    </tr>\n",
       "  </tbody>\n",
       "</table>\n",
       "<p>8 rows × 79 columns</p>\n",
       "</div>"
      ],
      "text/plain": [
       "        Querylength  domain_token_count  path_token_count  avgdomaintokenlen  \\\n",
       "count  15367.000000        15367.000000      15367.000000       15367.000000   \n",
       "mean       3.446021            2.543698          8.477061           5.851956   \n",
       "std       14.151453            0.944938          4.660250           2.064581   \n",
       "min        0.000000            2.000000          0.000000           1.500000   \n",
       "25%        0.000000            2.000000          5.000000           4.500000   \n",
       "50%        0.000000            2.000000          8.000000           5.500000   \n",
       "75%        0.000000            3.000000         11.000000           6.666666   \n",
       "max      173.000000           19.000000         68.000000          29.500000   \n",
       "\n",
       "       longdomaintokenlen  avgpathtokenlen           tld  charcompvowels  \\\n",
       "count        15367.000000     15096.000000  15367.000000    15367.000000   \n",
       "mean            10.027461         5.289936      2.543698       12.659986   \n",
       "std              5.281090         3.535097      0.944938        8.562206   \n",
       "min              2.000000         0.000000      2.000000        0.000000   \n",
       "25%              7.000000         3.800000      2.000000        6.000000   \n",
       "50%              9.000000         4.500000      2.000000       11.000000   \n",
       "75%             12.000000         5.571429      3.000000       17.000000   \n",
       "max             63.000000       105.000000     19.000000       94.000000   \n",
       "\n",
       "        charcompace       ldl_url  ...  SymbolCount_Directoryname  \\\n",
       "count  15367.000000  15367.000000  ...               15367.000000   \n",
       "mean       8.398516      1.910913  ...                   2.120843   \n",
       "std        6.329007      4.657731  ...                   2.777307   \n",
       "min        0.000000      0.000000  ...                  -1.000000   \n",
       "25%        4.000000      0.000000  ...                   1.000000   \n",
       "50%        7.000000      0.000000  ...                   2.000000   \n",
       "75%       11.000000      1.000000  ...                   3.000000   \n",
       "max       62.000000     58.000000  ...                  24.000000   \n",
       "\n",
       "       SymbolCount_FileName  SymbolCount_Extension  SymbolCount_Afterpath  \\\n",
       "count          15367.000000           15367.000000           15367.000000   \n",
       "mean               1.124618               0.500813              -0.158782   \n",
       "std                2.570246               2.261013               2.535939   \n",
       "min               -1.000000              -1.000000              -1.000000   \n",
       "25%                0.000000               0.000000              -1.000000   \n",
       "50%                0.000000               0.000000              -1.000000   \n",
       "75%                1.000000               0.000000              -1.000000   \n",
       "max               31.000000              30.000000              29.000000   \n",
       "\n",
       "        Entropy_URL  Entropy_Domain  Entropy_DirectoryName  Entropy_Filename  \\\n",
       "count  15367.000000    15367.000000           13541.000000      15177.000000   \n",
       "mean       0.721684        0.854232               0.634859          0.682896   \n",
       "std        0.049246        0.072641               0.510992          0.502288   \n",
       "min        0.419560        0.561913              -1.000000         -1.000000   \n",
       "25%        0.687215        0.798231               0.709532          0.707165   \n",
       "50%        0.723217        0.859793               0.785949          0.814038   \n",
       "75%        0.757949        0.916667               0.859582          0.916667   \n",
       "max        0.869701        1.000000               0.962479          1.000000   \n",
       "\n",
       "       Entropy_Extension  Entropy_Afterpath  \n",
       "count       15364.000000       15364.000000  \n",
       "mean            0.313617          -0.723793  \n",
       "std             0.576910           0.649785  \n",
       "min            -1.000000          -1.000000  \n",
       "25%             0.000000          -1.000000  \n",
       "50%             0.000000          -1.000000  \n",
       "75%             1.000000          -1.000000  \n",
       "max             1.000000           1.000000  \n",
       "\n",
       "[8 rows x 79 columns]"
      ]
     },
     "execution_count": 11,
     "metadata": {},
     "output_type": "execute_result"
    }
   ],
   "source": [
    "df.describe()"
   ]
  },
  {
   "cell_type": "code",
   "execution_count": 12,
   "id": "cfeeb603-2f11-4697-b6fb-e7006dfe0761",
   "metadata": {},
   "outputs": [
    {
     "name": "stdout",
     "output_type": "stream",
     "text": [
      "<class 'pandas.core.frame.DataFrame'>\n",
      "RangeIndex: 15367 entries, 0 to 15366\n",
      "Data columns (total 80 columns):\n",
      " #   Column                           Non-Null Count  Dtype  \n",
      "---  ------                           --------------  -----  \n",
      " 0   Querylength                      15367 non-null  int64  \n",
      " 1   domain_token_count               15367 non-null  int64  \n",
      " 2   path_token_count                 15367 non-null  int64  \n",
      " 3   avgdomaintokenlen                15367 non-null  float64\n",
      " 4   longdomaintokenlen               15367 non-null  int64  \n",
      " 5   avgpathtokenlen                  15096 non-null  float64\n",
      " 6   tld                              15367 non-null  int64  \n",
      " 7   charcompvowels                   15367 non-null  int64  \n",
      " 8   charcompace                      15367 non-null  int64  \n",
      " 9   ldl_url                          15367 non-null  int64  \n",
      " 10  ldl_domain                       15367 non-null  int64  \n",
      " 11  ldl_path                         15367 non-null  int64  \n",
      " 12  ldl_filename                     15367 non-null  int64  \n",
      " 13  ldl_getArg                       15367 non-null  int64  \n",
      " 14  dld_url                          15367 non-null  int64  \n",
      " 15  dld_domain                       15367 non-null  int64  \n",
      " 16  dld_path                         15367 non-null  int64  \n",
      " 17  dld_filename                     15367 non-null  int64  \n",
      " 18  dld_getArg                       15367 non-null  int64  \n",
      " 19  urlLen                           15367 non-null  int64  \n",
      " 20  domainlength                     15367 non-null  int64  \n",
      " 21  pathLength                       15367 non-null  int64  \n",
      " 22  subDirLen                        15367 non-null  int64  \n",
      " 23  fileNameLen                      15367 non-null  int64  \n",
      " 24  this.fileExtLen                  15367 non-null  int64  \n",
      " 25  ArgLen                           15367 non-null  int64  \n",
      " 26  pathurlRatio                     15367 non-null  float64\n",
      " 27  ArgUrlRatio                      15367 non-null  float64\n",
      " 28  argDomanRatio                    15367 non-null  float64\n",
      " 29  domainUrlRatio                   15367 non-null  float64\n",
      " 30  pathDomainRatio                  15367 non-null  float64\n",
      " 31  argPathRatio                     15367 non-null  float64\n",
      " 32  executable                       15367 non-null  int64  \n",
      " 33  isPortEighty                     15367 non-null  int64  \n",
      " 34  NumberofDotsinURL                15367 non-null  int64  \n",
      " 35  ISIpAddressInDomainName          15367 non-null  int64  \n",
      " 36  CharacterContinuityRate          15367 non-null  float64\n",
      " 37  LongestVariableValue             15367 non-null  int64  \n",
      " 38  URL_DigitCount                   15367 non-null  int64  \n",
      " 39  host_DigitCount                  15367 non-null  int64  \n",
      " 40  Directory_DigitCount             15367 non-null  int64  \n",
      " 41  File_name_DigitCount             15367 non-null  int64  \n",
      " 42  Extension_DigitCount             15367 non-null  int64  \n",
      " 43  Query_DigitCount                 15367 non-null  int64  \n",
      " 44  URL_Letter_Count                 15367 non-null  int64  \n",
      " 45  host_letter_count                15367 non-null  int64  \n",
      " 46  Directory_LetterCount            15367 non-null  int64  \n",
      " 47  Filename_LetterCount             15367 non-null  int64  \n",
      " 48  Extension_LetterCount            15367 non-null  int64  \n",
      " 49  Query_LetterCount                15367 non-null  int64  \n",
      " 50  LongestPathTokenLength           15367 non-null  int64  \n",
      " 51  Domain_LongestWordLength         15367 non-null  int64  \n",
      " 52  Path_LongestWordLength           15367 non-null  int64  \n",
      " 53  sub-Directory_LongestWordLength  15367 non-null  int64  \n",
      " 54  Arguments_LongestWordLength      15367 non-null  int64  \n",
      " 55  URL_sensitiveWord                15367 non-null  int64  \n",
      " 56  URLQueries_variable              15367 non-null  int64  \n",
      " 57  spcharUrl                        15367 non-null  int64  \n",
      " 58  delimeter_Domain                 15367 non-null  int64  \n",
      " 59  delimeter_path                   15367 non-null  int64  \n",
      " 60  delimeter_Count                  15367 non-null  int64  \n",
      " 61  NumberRate_URL                   15367 non-null  float64\n",
      " 62  NumberRate_Domain                15367 non-null  float64\n",
      " 63  NumberRate_DirectoryName         15358 non-null  float64\n",
      " 64  NumberRate_FileName              15358 non-null  float64\n",
      " 65  NumberRate_Extension             8012 non-null   float64\n",
      " 66  NumberRate_AfterPath             15364 non-null  float64\n",
      " 67  SymbolCount_URL                  15367 non-null  int64  \n",
      " 68  SymbolCount_Domain               15367 non-null  int64  \n",
      " 69  SymbolCount_Directoryname        15367 non-null  int64  \n",
      " 70  SymbolCount_FileName             15367 non-null  int64  \n",
      " 71  SymbolCount_Extension            15367 non-null  int64  \n",
      " 72  SymbolCount_Afterpath            15367 non-null  int64  \n",
      " 73  Entropy_URL                      15367 non-null  float64\n",
      " 74  Entropy_Domain                   15367 non-null  float64\n",
      " 75  Entropy_DirectoryName            13541 non-null  float64\n",
      " 76  Entropy_Filename                 15177 non-null  float64\n",
      " 77  Entropy_Extension                15364 non-null  float64\n",
      " 78  Entropy_Afterpath                15364 non-null  float64\n",
      " 79  URL_Type_obf_Type                15367 non-null  object \n",
      "dtypes: float64(21), int64(58), object(1)\n",
      "memory usage: 9.4+ MB\n"
     ]
    }
   ],
   "source": [
    "df.info()"
   ]
  },
  {
   "cell_type": "code",
   "execution_count": 13,
   "id": "f2bcd272-770a-44c6-81fb-92b38e860f7c",
   "metadata": {},
   "outputs": [
    {
     "data": {
      "text/plain": [
       "URL_Type_obf_Type\n",
       "benign      7781\n",
       "phishing    7586\n",
       "Name: count, dtype: int64"
      ]
     },
     "execution_count": 13,
     "metadata": {},
     "output_type": "execute_result"
    }
   ],
   "source": [
    "df[\"URL_Type_obf_Type\"].value_counts()"
   ]
  },
  {
   "cell_type": "code",
   "execution_count": 14,
   "id": "72e63487-d121-4d2d-b153-2e6ce3754ae4",
   "metadata": {},
   "outputs": [
    {
     "data": {
      "text/plain": [
       "avgpathtokenlen             True\n",
       "NumberRate_DirectoryName    True\n",
       "NumberRate_FileName         True\n",
       "NumberRate_Extension        True\n",
       "NumberRate_AfterPath        True\n",
       "Entropy_DirectoryName       True\n",
       "Entropy_Filename            True\n",
       "Entropy_Extension           True\n",
       "Entropy_Afterpath           True\n",
       "dtype: bool"
      ]
     },
     "execution_count": 14,
     "metadata": {},
     "output_type": "execute_result"
    }
   ],
   "source": [
    "is_null = df.isna().any()\n",
    "is_null[is_null]"
   ]
  },
  {
   "cell_type": "code",
   "execution_count": 15,
   "id": "99a6d6b2-63bf-4b13-bf14-ffa6c2b9391d",
   "metadata": {},
   "outputs": [
    {
     "data": {
      "text/plain": [
       "argPathRatio    True\n",
       "dtype: bool"
      ]
     },
     "execution_count": 15,
     "metadata": {},
     "output_type": "execute_result"
    }
   ],
   "source": [
    "# Comprobar si existen valores infinitos.\n",
    "is_inf = df.isin([np.inf, -np.inf]).any()\n",
    "is_inf[is_inf]"
   ]
  },
  {
   "cell_type": "code",
   "execution_count": 16,
   "id": "09e3044d-db84-44e9-9feb-c7d308ee06d8",
   "metadata": {},
   "outputs": [
    {
     "data": {
      "image/png": "[encoded data removed]",
      "text/plain": [
       "<Figure size 1200x600 with 1 Axes>"
      ]
     },
     "metadata": {},
     "output_type": "display_data"
    }
   ],
   "source": [
    "# Representacion grafica de dos caracteristicas.\n",
    "plt.figure(figsize = (12,6))\n",
    "plt.scatter(\n",
    "    df[\"domainUrlRatio\"][df[\"URL_Type_obf_Type\"] == \"phishing\"],\n",
    "    df[\"domainlength\"][df[\"URL_Type_obf_Type\"] == \"phishing\"],\n",
    "    c = \"r\", marker = \".\")\n",
    "\n",
    "plt.scatter(\n",
    "    df[\"domainUrlRatio\"][df[\"URL_Type_obf_Type\"] == \"benign\"],\n",
    "    df[\"domainlength\"][df[\"URL_Type_obf_Type\"] == \"benign\"],\n",
    "    c = \"g\", marker = \"x\")\n",
    "\n",
    "plt.ylabel(\"domainUrlRatio\", fontsize = 13)\n",
    "plt.xlabel(\"domainlength\", fontsize = 13)\n",
    "plt.show()"
   ]
  },
  {
   "cell_type": "markdown",
   "id": "ebe8774a-8f2a-46a1-85c9-2c48d920d439",
   "metadata": {},
   "source": [
    "## 3.- Division de los Datos"
   ]
  },
  {
   "cell_type": "code",
   "execution_count": 18,
   "id": "9410787c-0399-41bc-80c9-101a1019aad2",
   "metadata": {},
   "outputs": [],
   "source": [
    "train_set, val_set, test_set = train_val_test_split(df)"
   ]
  },
  {
   "cell_type": "code",
   "execution_count": 19,
   "id": "b9e8c0a7-0b5e-41fd-bbb1-ea53c858e1b0",
   "metadata": {},
   "outputs": [],
   "source": [
    "X_train = train_set.drop(\"URL_Type_obf_Type\", axis = 1)\n",
    "y_train = train_set[\"URL_Type_obf_Type\"].copy()\n",
    "\n",
    "X_val = val_set.drop(\"URL_Type_obf_Type\", axis = 1)\n",
    "y_val = val_set[\"URL_Type_obf_Type\"].copy()\n",
    "\n",
    "X_test = test_set.drop(\"URL_Type_obf_Type\", axis = 1)\n",
    "y_test = test_set[\"URL_Type_obf_Type\"].copy()"
   ]
  },
  {
   "cell_type": "markdown",
   "id": "b01a6a39-7d94-4f33-8597-25e76cc4550d",
   "metadata": {},
   "source": [
    "## 4.- Preparacion del DataSet"
   ]
  },
  {
   "cell_type": "code",
   "execution_count": 21,
   "id": "cbfe3e17-9fea-4c05-b479-a6ff3c860e90",
   "metadata": {},
   "outputs": [],
   "source": [
    "# Eliminar los atributos que contengan valores infinitos\n",
    "X_train = X_train.drop(\"argPathRatio\", axis = 1)\n",
    "X_val = X_val.drop(\"argPathRatio\", axis = 1)\n",
    "X_test = X_test.drop(\"argPathRatio\", axis = 1)"
   ]
  },
  {
   "cell_type": "code",
   "execution_count": 22,
   "id": "ac0b2e00-187d-4247-b234-6448aa3617c9",
   "metadata": {},
   "outputs": [],
   "source": [
    "# Rellenar los valores nulos con la mediana\n",
    "from sklearn.impute import SimpleImputer\n",
    "\n",
    "imputer = SimpleImputer(strategy=\"median\")"
   ]
  },
  {
   "cell_type": "code",
   "execution_count": 23,
   "id": "b5796c24-f0e3-4819-8412-7410d95e1495",
   "metadata": {},
   "outputs": [],
   "source": [
    "X_train_prep = imputer.fit_transform(X_train)\n",
    "X_val_prep = imputer.fit_transform(X_val)\n",
    "X_test_prep = imputer.fit_transform(X_test)"
   ]
  },
  {
   "cell_type": "code",
   "execution_count": 24,
   "id": "db703391-d0d5-4dfc-8878-e1c79e461ac6",
   "metadata": {},
   "outputs": [],
   "source": [
    "# Transformar el DataFrame de Pandas\n",
    "X_train_prep = pd.DataFrame(X_train_prep, columns = X_train.columns, index = X_train.index)\n",
    "X_val_prep = pd.DataFrame(X_val_prep, columns = X_val.columns, index = X_val.index)\n",
    "X_test_prep = pd.DataFrame(X_test_prep, columns = X_test.columns, index = X_test.index)"
   ]
  },
  {
   "cell_type": "code",
   "execution_count": 25,
   "id": "27bc001e-0df1-4b97-9462-041f20f70fa7",
   "metadata": {},
   "outputs": [
    {
     "data": {
      "text/html": [
       "<div>\n",
       "<style scoped>\n",
       "    .dataframe tbody tr th:only-of-type {\n",
       "        vertical-align: middle;\n",
       "    }\n",
       "\n",
       "    .dataframe tbody tr th {\n",
       "        vertical-align: top;\n",
       "    }\n",
       "\n",
       "    .dataframe thead th {\n",
       "        text-align: right;\n",
       "    }\n",
       "</style>\n",
       "<table border=\"1\" class=\"dataframe\">\n",
       "  <thead>\n",
       "    <tr style=\"text-align: right;\">\n",
       "      <th></th>\n",
       "      <th>Querylength</th>\n",
       "      <th>domain_token_count</th>\n",
       "      <th>path_token_count</th>\n",
       "      <th>avgdomaintokenlen</th>\n",
       "      <th>longdomaintokenlen</th>\n",
       "      <th>avgpathtokenlen</th>\n",
       "      <th>tld</th>\n",
       "      <th>charcompvowels</th>\n",
       "      <th>charcompace</th>\n",
       "      <th>ldl_url</th>\n",
       "      <th>...</th>\n",
       "      <th>SymbolCount_Directoryname</th>\n",
       "      <th>SymbolCount_FileName</th>\n",
       "      <th>SymbolCount_Extension</th>\n",
       "      <th>SymbolCount_Afterpath</th>\n",
       "      <th>Entropy_URL</th>\n",
       "      <th>Entropy_Domain</th>\n",
       "      <th>Entropy_DirectoryName</th>\n",
       "      <th>Entropy_Filename</th>\n",
       "      <th>Entropy_Extension</th>\n",
       "      <th>Entropy_Afterpath</th>\n",
       "    </tr>\n",
       "  </thead>\n",
       "  <tbody>\n",
       "    <tr>\n",
       "      <th>2134</th>\n",
       "      <td>0.0</td>\n",
       "      <td>2.0</td>\n",
       "      <td>6.0</td>\n",
       "      <td>2.000000</td>\n",
       "      <td>2.0</td>\n",
       "      <td>8.666667</td>\n",
       "      <td>2.0</td>\n",
       "      <td>17.0</td>\n",
       "      <td>10.0</td>\n",
       "      <td>0.0</td>\n",
       "      <td>...</td>\n",
       "      <td>2.0</td>\n",
       "      <td>0.0</td>\n",
       "      <td>0.0</td>\n",
       "      <td>-1.0</td>\n",
       "      <td>0.681183</td>\n",
       "      <td>0.827729</td>\n",
       "      <td>0.702637</td>\n",
       "      <td>0.849605</td>\n",
       "      <td>0.000000</td>\n",
       "      <td>-1.000000</td>\n",
       "    </tr>\n",
       "    <tr>\n",
       "      <th>9178</th>\n",
       "      <td>0.0</td>\n",
       "      <td>4.0</td>\n",
       "      <td>18.0</td>\n",
       "      <td>3.250000</td>\n",
       "      <td>5.0</td>\n",
       "      <td>1.000000</td>\n",
       "      <td>4.0</td>\n",
       "      <td>18.0</td>\n",
       "      <td>13.0</td>\n",
       "      <td>2.0</td>\n",
       "      <td>...</td>\n",
       "      <td>12.0</td>\n",
       "      <td>3.0</td>\n",
       "      <td>0.0</td>\n",
       "      <td>4.0</td>\n",
       "      <td>0.695232</td>\n",
       "      <td>0.820160</td>\n",
       "      <td>0.682849</td>\n",
       "      <td>0.875578</td>\n",
       "      <td>0.000000</td>\n",
       "      <td>0.778747</td>\n",
       "    </tr>\n",
       "    <tr>\n",
       "      <th>13622</th>\n",
       "      <td>0.0</td>\n",
       "      <td>3.0</td>\n",
       "      <td>3.0</td>\n",
       "      <td>6.666666</td>\n",
       "      <td>14.0</td>\n",
       "      <td>4.000000</td>\n",
       "      <td>3.0</td>\n",
       "      <td>1.0</td>\n",
       "      <td>1.0</td>\n",
       "      <td>1.0</td>\n",
       "      <td>...</td>\n",
       "      <td>1.0</td>\n",
       "      <td>0.0</td>\n",
       "      <td>0.0</td>\n",
       "      <td>-1.0</td>\n",
       "      <td>0.836006</td>\n",
       "      <td>0.869991</td>\n",
       "      <td>0.879588</td>\n",
       "      <td>1.000000</td>\n",
       "      <td>0.000000</td>\n",
       "      <td>-1.000000</td>\n",
       "    </tr>\n",
       "    <tr>\n",
       "      <th>15182</th>\n",
       "      <td>0.0</td>\n",
       "      <td>3.0</td>\n",
       "      <td>5.0</td>\n",
       "      <td>3.333333</td>\n",
       "      <td>4.0</td>\n",
       "      <td>3.000000</td>\n",
       "      <td>3.0</td>\n",
       "      <td>5.0</td>\n",
       "      <td>2.0</td>\n",
       "      <td>0.0</td>\n",
       "      <td>...</td>\n",
       "      <td>2.0</td>\n",
       "      <td>1.0</td>\n",
       "      <td>0.0</td>\n",
       "      <td>-1.0</td>\n",
       "      <td>0.731804</td>\n",
       "      <td>0.796490</td>\n",
       "      <td>0.796658</td>\n",
       "      <td>1.000000</td>\n",
       "      <td>1.000000</td>\n",
       "      <td>-1.000000</td>\n",
       "    </tr>\n",
       "    <tr>\n",
       "      <th>8013</th>\n",
       "      <td>74.0</td>\n",
       "      <td>2.0</td>\n",
       "      <td>13.0</td>\n",
       "      <td>9.500000</td>\n",
       "      <td>17.0</td>\n",
       "      <td>7.875000</td>\n",
       "      <td>2.0</td>\n",
       "      <td>21.0</td>\n",
       "      <td>29.0</td>\n",
       "      <td>26.0</td>\n",
       "      <td>...</td>\n",
       "      <td>4.0</td>\n",
       "      <td>5.0</td>\n",
       "      <td>4.0</td>\n",
       "      <td>3.0</td>\n",
       "      <td>0.653371</td>\n",
       "      <td>0.820569</td>\n",
       "      <td>0.758055</td>\n",
       "      <td>0.714969</td>\n",
       "      <td>0.712215</td>\n",
       "      <td>0.708031</td>\n",
       "    </tr>\n",
       "    <tr>\n",
       "      <th>12408</th>\n",
       "      <td>0.0</td>\n",
       "      <td>3.0</td>\n",
       "      <td>4.0</td>\n",
       "      <td>8.333333</td>\n",
       "      <td>19.0</td>\n",
       "      <td>3.750000</td>\n",
       "      <td>3.0</td>\n",
       "      <td>5.0</td>\n",
       "      <td>1.0</td>\n",
       "      <td>0.0</td>\n",
       "      <td>...</td>\n",
       "      <td>2.0</td>\n",
       "      <td>0.0</td>\n",
       "      <td>0.0</td>\n",
       "      <td>-1.0</td>\n",
       "      <td>0.726479</td>\n",
       "      <td>0.789538</td>\n",
       "      <td>0.800705</td>\n",
       "      <td>1.000000</td>\n",
       "      <td>0.000000</td>\n",
       "      <td>-1.000000</td>\n",
       "    </tr>\n",
       "    <tr>\n",
       "      <th>509</th>\n",
       "      <td>20.0</td>\n",
       "      <td>2.0</td>\n",
       "      <td>13.0</td>\n",
       "      <td>4.500000</td>\n",
       "      <td>6.0</td>\n",
       "      <td>3.000000</td>\n",
       "      <td>2.0</td>\n",
       "      <td>24.0</td>\n",
       "      <td>17.0</td>\n",
       "      <td>0.0</td>\n",
       "      <td>...</td>\n",
       "      <td>1.0</td>\n",
       "      <td>14.0</td>\n",
       "      <td>13.0</td>\n",
       "      <td>12.0</td>\n",
       "      <td>0.678515</td>\n",
       "      <td>0.796658</td>\n",
       "      <td>0.871049</td>\n",
       "      <td>0.695112</td>\n",
       "      <td>0.701662</td>\n",
       "      <td>0.698106</td>\n",
       "    </tr>\n",
       "    <tr>\n",
       "      <th>10714</th>\n",
       "      <td>0.0</td>\n",
       "      <td>3.0</td>\n",
       "      <td>8.0</td>\n",
       "      <td>6.666666</td>\n",
       "      <td>14.0</td>\n",
       "      <td>4.250000</td>\n",
       "      <td>3.0</td>\n",
       "      <td>11.0</td>\n",
       "      <td>5.0</td>\n",
       "      <td>0.0</td>\n",
       "      <td>...</td>\n",
       "      <td>4.0</td>\n",
       "      <td>0.0</td>\n",
       "      <td>0.0</td>\n",
       "      <td>-1.0</td>\n",
       "      <td>0.745348</td>\n",
       "      <td>0.869991</td>\n",
       "      <td>0.788921</td>\n",
       "      <td>1.000000</td>\n",
       "      <td>0.000000</td>\n",
       "      <td>-1.000000</td>\n",
       "    </tr>\n",
       "    <tr>\n",
       "      <th>3986</th>\n",
       "      <td>0.0</td>\n",
       "      <td>2.0</td>\n",
       "      <td>6.0</td>\n",
       "      <td>6.500000</td>\n",
       "      <td>10.0</td>\n",
       "      <td>4.500000</td>\n",
       "      <td>2.0</td>\n",
       "      <td>7.0</td>\n",
       "      <td>7.0</td>\n",
       "      <td>0.0</td>\n",
       "      <td>...</td>\n",
       "      <td>2.0</td>\n",
       "      <td>0.0</td>\n",
       "      <td>0.0</td>\n",
       "      <td>-1.0</td>\n",
       "      <td>0.760843</td>\n",
       "      <td>0.798231</td>\n",
       "      <td>0.822491</td>\n",
       "      <td>0.796670</td>\n",
       "      <td>0.000000</td>\n",
       "      <td>-1.000000</td>\n",
       "    </tr>\n",
       "    <tr>\n",
       "      <th>748</th>\n",
       "      <td>0.0</td>\n",
       "      <td>2.0</td>\n",
       "      <td>8.0</td>\n",
       "      <td>4.000000</td>\n",
       "      <td>5.0</td>\n",
       "      <td>5.750000</td>\n",
       "      <td>2.0</td>\n",
       "      <td>14.0</td>\n",
       "      <td>14.0</td>\n",
       "      <td>1.0</td>\n",
       "      <td>...</td>\n",
       "      <td>2.0</td>\n",
       "      <td>0.0</td>\n",
       "      <td>0.0</td>\n",
       "      <td>-1.0</td>\n",
       "      <td>0.709062</td>\n",
       "      <td>0.929897</td>\n",
       "      <td>0.884735</td>\n",
       "      <td>0.674994</td>\n",
       "      <td>0.000000</td>\n",
       "      <td>-1.000000</td>\n",
       "    </tr>\n",
       "  </tbody>\n",
       "</table>\n",
       "<p>10 rows × 78 columns</p>\n",
       "</div>"
      ],
      "text/plain": [
       "       Querylength  domain_token_count  path_token_count  avgdomaintokenlen  \\\n",
       "2134           0.0                 2.0               6.0           2.000000   \n",
       "9178           0.0                 4.0              18.0           3.250000   \n",
       "13622          0.0                 3.0               3.0           6.666666   \n",
       "15182          0.0                 3.0               5.0           3.333333   \n",
       "8013          74.0                 2.0              13.0           9.500000   \n",
       "12408          0.0                 3.0               4.0           8.333333   \n",
       "509           20.0                 2.0              13.0           4.500000   \n",
       "10714          0.0                 3.0               8.0           6.666666   \n",
       "3986           0.0                 2.0               6.0           6.500000   \n",
       "748            0.0                 2.0               8.0           4.000000   \n",
       "\n",
       "       longdomaintokenlen  avgpathtokenlen  tld  charcompvowels  charcompace  \\\n",
       "2134                  2.0         8.666667  2.0            17.0         10.0   \n",
       "9178                  5.0         1.000000  4.0            18.0         13.0   \n",
       "13622                14.0         4.000000  3.0             1.0          1.0   \n",
       "15182                 4.0         3.000000  3.0             5.0          2.0   \n",
       "8013                 17.0         7.875000  2.0            21.0         29.0   \n",
       "12408                19.0         3.750000  3.0             5.0          1.0   \n",
       "509                   6.0         3.000000  2.0            24.0         17.0   \n",
       "10714                14.0         4.250000  3.0            11.0          5.0   \n",
       "3986                 10.0         4.500000  2.0             7.0          7.0   \n",
       "748                   5.0         5.750000  2.0            14.0         14.0   \n",
       "\n",
       "       ldl_url  ...  SymbolCount_Directoryname  SymbolCount_FileName  \\\n",
       "2134       0.0  ...                        2.0                   0.0   \n",
       "9178       2.0  ...                       12.0                   3.0   \n",
       "13622      1.0  ...                        1.0                   0.0   \n",
       "15182      0.0  ...                        2.0                   1.0   \n",
       "8013      26.0  ...                        4.0                   5.0   \n",
       "12408      0.0  ...                        2.0                   0.0   \n",
       "509        0.0  ...                        1.0                  14.0   \n",
       "10714      0.0  ...                        4.0                   0.0   \n",
       "3986       0.0  ...                        2.0                   0.0   \n",
       "748        1.0  ...                        2.0                   0.0   \n",
       "\n",
       "       SymbolCount_Extension  SymbolCount_Afterpath  Entropy_URL  \\\n",
       "2134                     0.0                   -1.0     0.681183   \n",
       "9178                     0.0                    4.0     0.695232   \n",
       "13622                    0.0                   -1.0     0.836006   \n",
       "15182                    0.0                   -1.0     0.731804   \n",
       "8013                     4.0                    3.0     0.653371   \n",
       "12408                    0.0                   -1.0     0.726479   \n",
       "509                     13.0                   12.0     0.678515   \n",
       "10714                    0.0                   -1.0     0.745348   \n",
       "3986                     0.0                   -1.0     0.760843   \n",
       "748                      0.0                   -1.0     0.709062   \n",
       "\n",
       "       Entropy_Domain  Entropy_DirectoryName  Entropy_Filename  \\\n",
       "2134         0.827729               0.702637          0.849605   \n",
       "9178         0.820160               0.682849          0.875578   \n",
       "13622        0.869991               0.879588          1.000000   \n",
       "15182        0.796490               0.796658          1.000000   \n",
       "8013         0.820569               0.758055          0.714969   \n",
       "12408        0.789538               0.800705          1.000000   \n",
       "509          0.796658               0.871049          0.695112   \n",
       "10714        0.869991               0.788921          1.000000   \n",
       "3986         0.798231               0.822491          0.796670   \n",
       "748          0.929897               0.884735          0.674994   \n",
       "\n",
       "       Entropy_Extension  Entropy_Afterpath  \n",
       "2134            0.000000          -1.000000  \n",
       "9178            0.000000           0.778747  \n",
       "13622           0.000000          -1.000000  \n",
       "15182           1.000000          -1.000000  \n",
       "8013            0.712215           0.708031  \n",
       "12408           0.000000          -1.000000  \n",
       "509             0.701662           0.698106  \n",
       "10714           0.000000          -1.000000  \n",
       "3986            0.000000          -1.000000  \n",
       "748             0.000000          -1.000000  \n",
       "\n",
       "[10 rows x 78 columns]"
      ]
     },
     "execution_count": 25,
     "metadata": {},
     "output_type": "execute_result"
    }
   ],
   "source": [
    "X_train_prep.head(10)"
   ]
  },
  {
   "cell_type": "code",
   "execution_count": 26,
   "id": "f2040d5a-4509-464e-a211-8986b0f3e4f1",
   "metadata": {},
   "outputs": [
    {
     "data": {
      "text/plain": [
       "Series([], dtype: bool)"
      ]
     },
     "execution_count": 26,
     "metadata": {},
     "output_type": "execute_result"
    }
   ],
   "source": [
    "# Comprobar si existe valores nulos en el DataSet de entreamiento.\n",
    "is_null = X_train_prep.isna().any()\n",
    "is_null[is_null]"
   ]
  },
  {
   "cell_type": "markdown",
   "id": "b9a7c862-0ff3-4a04-a1db-ca5473f3a573",
   "metadata": {},
   "source": [
    "## 5.- SVM: Kernel Lineal\n",
    "\n",
    "### 5.1 DataSet Reducido"
   ]
  },
  {
   "cell_type": "markdown",
   "id": "709b4be8-5622-4225-8f5d-67e2f70c19ae",
   "metadata": {},
   "source": [
    "###### Entrenamiento del algoritmo de un DataSet Reducido"
   ]
  },
  {
   "cell_type": "code",
   "execution_count": 29,
   "id": "94c02837-d78e-4680-8373-94c3ccea6bf9",
   "metadata": {},
   "outputs": [],
   "source": [
    "# Reducir el DataSet para representarlo graficamente\n",
    "X_train_reduced = X_train_prep[[\"domainUrlRatio\", \"domainlength\"].copy()]\n",
    "X_val_reduced = X_val_prep[[\"domainUrlRatio\", \"domainlength\"].copy()]"
   ]
  },
  {
   "cell_type": "code",
   "execution_count": 30,
   "id": "75acbdb6-dfb7-49a1-bf8d-1d2ad1ed6c21",
   "metadata": {},
   "outputs": [
    {
     "data": {
      "text/html": [
       "<div>\n",
       "<style scoped>\n",
       "    .dataframe tbody tr th:only-of-type {\n",
       "        vertical-align: middle;\n",
       "    }\n",
       "\n",
       "    .dataframe tbody tr th {\n",
       "        vertical-align: top;\n",
       "    }\n",
       "\n",
       "    .dataframe thead th {\n",
       "        text-align: right;\n",
       "    }\n",
       "</style>\n",
       "<table border=\"1\" class=\"dataframe\">\n",
       "  <thead>\n",
       "    <tr style=\"text-align: right;\">\n",
       "      <th></th>\n",
       "      <th>domainUrlRatio</th>\n",
       "      <th>domainlength</th>\n",
       "    </tr>\n",
       "  </thead>\n",
       "  <tbody>\n",
       "    <tr>\n",
       "      <th>2134</th>\n",
       "      <td>0.072464</td>\n",
       "      <td>5.0</td>\n",
       "    </tr>\n",
       "    <tr>\n",
       "      <th>9178</th>\n",
       "      <td>0.166667</td>\n",
       "      <td>16.0</td>\n",
       "    </tr>\n",
       "    <tr>\n",
       "      <th>13622</th>\n",
       "      <td>0.511628</td>\n",
       "      <td>22.0</td>\n",
       "    </tr>\n",
       "    <tr>\n",
       "      <th>15182</th>\n",
       "      <td>0.315789</td>\n",
       "      <td>12.0</td>\n",
       "    </tr>\n",
       "    <tr>\n",
       "      <th>8013</th>\n",
       "      <td>0.107527</td>\n",
       "      <td>20.0</td>\n",
       "    </tr>\n",
       "    <tr>\n",
       "      <th>...</th>\n",
       "      <td>...</td>\n",
       "      <td>...</td>\n",
       "    </tr>\n",
       "    <tr>\n",
       "      <th>5191</th>\n",
       "      <td>0.116667</td>\n",
       "      <td>14.0</td>\n",
       "    </tr>\n",
       "    <tr>\n",
       "      <th>13418</th>\n",
       "      <td>0.477273</td>\n",
       "      <td>21.0</td>\n",
       "    </tr>\n",
       "    <tr>\n",
       "      <th>5390</th>\n",
       "      <td>0.157895</td>\n",
       "      <td>9.0</td>\n",
       "    </tr>\n",
       "    <tr>\n",
       "      <th>860</th>\n",
       "      <td>0.072917</td>\n",
       "      <td>7.0</td>\n",
       "    </tr>\n",
       "    <tr>\n",
       "      <th>7270</th>\n",
       "      <td>0.207547</td>\n",
       "      <td>11.0</td>\n",
       "    </tr>\n",
       "  </tbody>\n",
       "</table>\n",
       "<p>9220 rows × 2 columns</p>\n",
       "</div>"
      ],
      "text/plain": [
       "       domainUrlRatio  domainlength\n",
       "2134         0.072464           5.0\n",
       "9178         0.166667          16.0\n",
       "13622        0.511628          22.0\n",
       "15182        0.315789          12.0\n",
       "8013         0.107527          20.0\n",
       "...               ...           ...\n",
       "5191         0.116667          14.0\n",
       "13418        0.477273          21.0\n",
       "5390         0.157895           9.0\n",
       "860          0.072917           7.0\n",
       "7270         0.207547          11.0\n",
       "\n",
       "[9220 rows x 2 columns]"
      ]
     },
     "execution_count": 30,
     "metadata": {},
     "output_type": "execute_result"
    }
   ],
   "source": [
    "X_train_reduced"
   ]
  },
  {
   "cell_type": "code",
   "execution_count": 31,
   "id": "0fa0d92e-08b2-40c7-aaf1-16ba30dd58dd",
   "metadata": {},
   "outputs": [
    {
     "data": {
      "text/html": [
       "<style>#sk-container-id-1 {color: black;}#sk-container-id-1 pre{padding: 0;}#sk-container-id-1 div.sk-toggleable {background-color: white;}#sk-container-id-1 label.sk-toggleable__label {cursor: pointer;display: block;width: 100%;margin-bottom: 0;padding: 0.3em;box-sizing: border-box;text-align: center;}#sk-container-id-1 label.sk-toggleable__label-arrow:before {content: \"▸\";float: left;margin-right: 0.25em;color: #696969;}#sk-container-id-1 label.sk-toggleable__label-arrow:hover:before {color: black;}#sk-container-id-1 div.sk-estimator:hover label.sk-toggleable__label-arrow:before {color: black;}#sk-container-id-1 div.sk-toggleable__content {max-height: 0;max-width: 0;overflow: hidden;text-align: left;background-color: #f0f8ff;}#sk-container-id-1 div.sk-toggleable__content pre {margin: 0.2em;color: black;border-radius: 0.25em;background-color: #f0f8ff;}#sk-container-id-1 input.sk-toggleable__control:checked~div.sk-toggleable__content {max-height: 200px;max-width: 100%;overflow: auto;}#sk-container-id-1 input.sk-toggleable__control:checked~label.sk-toggleable__label-arrow:before {content: \"▾\";}#sk-container-id-1 div.sk-estimator input.sk-toggleable__control:checked~label.sk-toggleable__label {background-color: #d4ebff;}#sk-container-id-1 div.sk-label input.sk-toggleable__control:checked~label.sk-toggleable__label {background-color: #d4ebff;}#sk-container-id-1 input.sk-hidden--visually {border: 0;clip: rect(1px 1px 1px 1px);clip: rect(1px, 1px, 1px, 1px);height: 1px;margin: -1px;overflow: hidden;padding: 0;position: absolute;width: 1px;}#sk-container-id-1 div.sk-estimator {font-family: monospace;background-color: #f0f8ff;border: 1px dotted black;border-radius: 0.25em;box-sizing: border-box;margin-bottom: 0.5em;}#sk-container-id-1 div.sk-estimator:hover {background-color: #d4ebff;}#sk-container-id-1 div.sk-parallel-item::after {content: \"\";width: 100%;border-bottom: 1px solid gray;flex-grow: 1;}#sk-container-id-1 div.sk-label:hover label.sk-toggleable__label {background-color: #d4ebff;}#sk-container-id-1 div.sk-serial::before {content: \"\";position: absolute;border-left: 1px solid gray;box-sizing: border-box;top: 0;bottom: 0;left: 50%;z-index: 0;}#sk-container-id-1 div.sk-serial {display: flex;flex-direction: column;align-items: center;background-color: white;padding-right: 0.2em;padding-left: 0.2em;position: relative;}#sk-container-id-1 div.sk-item {position: relative;z-index: 1;}#sk-container-id-1 div.sk-parallel {display: flex;align-items: stretch;justify-content: center;background-color: white;position: relative;}#sk-container-id-1 div.sk-item::before, #sk-container-id-1 div.sk-parallel-item::before {content: \"\";position: absolute;border-left: 1px solid gray;box-sizing: border-box;top: 0;bottom: 0;left: 50%;z-index: -1;}#sk-container-id-1 div.sk-parallel-item {display: flex;flex-direction: column;z-index: 1;position: relative;background-color: white;}#sk-container-id-1 div.sk-parallel-item:first-child::after {align-self: flex-end;width: 50%;}#sk-container-id-1 div.sk-parallel-item:last-child::after {align-self: flex-start;width: 50%;}#sk-container-id-1 div.sk-parallel-item:only-child::after {width: 0;}#sk-container-id-1 div.sk-dashed-wrapped {border: 1px dashed gray;margin: 0 0.4em 0.5em 0.4em;box-sizing: border-box;padding-bottom: 0.4em;background-color: white;}#sk-container-id-1 div.sk-label label {font-family: monospace;font-weight: bold;display: inline-block;line-height: 1.2em;}#sk-container-id-1 div.sk-label-container {text-align: center;}#sk-container-id-1 div.sk-container {/* jupyter's `normalize.less` sets `[hidden] { display: none; }` but bootstrap.min.css set `[hidden] { display: none !important; }` so we also need the `!important` here to be able to override the default hidden behavior on the sphinx rendered scikit-learn.org. See: https://github.com/scikit-learn/scikit-learn/issues/21755 */display: inline-block !important;position: relative;}#sk-container-id-1 div.sk-text-repr-fallback {display: none;}</style><div id=\"sk-container-id-1\" class=\"sk-top-container\"><div class=\"sk-text-repr-fallback\"><pre>SVC(C=50, kernel=&#x27;linear&#x27;)</pre><b>In a Jupyter environment, please rerun this cell to show the HTML representation or trust the notebook. <br />On GitHub, the HTML representation is unable to render, please try loading this page with nbviewer.org.</b></div><div class=\"sk-container\" hidden><div class=\"sk-item\"><div class=\"sk-estimator sk-toggleable\"><input class=\"sk-toggleable__control sk-hidden--visually\" id=\"sk-estimator-id-1\" type=\"checkbox\" checked><label for=\"sk-estimator-id-1\" class=\"sk-toggleable__label sk-toggleable__label-arrow\">SVC</label><div class=\"sk-toggleable__content\"><pre>SVC(C=50, kernel=&#x27;linear&#x27;)</pre></div></div></div></div></div>"
      ],
      "text/plain": [
       "SVC(C=50, kernel='linear')"
      ]
     },
     "execution_count": 31,
     "metadata": {},
     "output_type": "execute_result"
    }
   ],
   "source": [
    "from sklearn.svm import SVC\n",
    "\n",
    "# SVM Large Margin Classification\n",
    "\n",
    "svm_clf = SVC(kernel = \"linear\", C = 50)\n",
    "svm_clf.fit(X_train_reduced, y_train)"
   ]
  },
  {
   "cell_type": "markdown",
   "id": "eab2a12d-15c8-4098-9606-e0183828de8d",
   "metadata": {},
   "source": [
    "###### Representacion del limite de decision"
   ]
  },
  {
   "cell_type": "code",
   "execution_count": 33,
   "id": "93793bfc-b3bd-4c3f-bc43-e7f3a7b827e8",
   "metadata": {},
   "outputs": [],
   "source": [
    "def plot_svc_decision_boundary(svm_clf, xmin, xmax):\n",
    "    w = svm_clf.coef_[0]\n",
    "    b = svm_clf.intercept_[0]\n",
    "\n",
    "    x0 = np.linspace(xmin, xmax, 200)\n",
    "    decision_boundary = -w[0]/w[1] *x0 -b/w[1]\n",
    "\n",
    "    margin = 1/w[1]\n",
    "    gutter_up = decision_boundary + margin\n",
    "    gutter_down = decision_boundary - margin\n",
    "\n",
    "    svs = svm_clf.support_vectors_\n",
    "    plt.scatter(svs[:, 0], svs[:, 1], s = 180, facecolors = '#FFAAAA')\n",
    "    plt.plot(x0, decision_boundary, \"k-\", linewidth = 2)\n",
    "    plt.plot(x0, gutter_up, \"k--\", linewidth = 2)\n",
    "    plt.plot(x0, gutter_down, \"k--\", linewidth = 2)"
   ]
  },
  {
   "cell_type": "code",
   "execution_count": 34,
   "id": "8ace8a64-91a2-4eca-aec2-92059ff3a15c",
   "metadata": {},
   "outputs": [
    {
     "data": {
      "image/png": "[encoded data removed]",
      "text/plain": [
       "<Figure size 1200x600 with 1 Axes>"
      ]
     },
     "metadata": {},
     "output_type": "display_data"
    }
   ],
   "source": [
    "# Representacion grafica de dos caracteristicas.\n",
    "plt.figure(figsize = (12,6))\n",
    "plt.plot(\n",
    "    X_train_reduced.values[:, 0][y_train == 'phishing'],\n",
    "    X_train_reduced.values[:, 1][y_train == 'phishing'], \"g^\")\n",
    "plt.plot(\n",
    "    X_train_reduced.values[:, 0][y_train == 'benign'],\n",
    "    X_train_reduced.values[:, 1][y_train == 'benign'], \"bs\")\n",
    "\n",
    "plot_svc_decision_boundary(svm_clf, 0, 1)\n",
    "\n",
    "plt.title(\"$C = {}$\".format(svm_clf.C), fontsize = 18)\n",
    "plt.axis([0, 1, -100, 200])\n",
    "\n",
    "\n",
    "plt.ylabel(\"domainUrlRatio\", fontsize = 13)\n",
    "plt.xlabel(\"domainlength\", fontsize = 13)\n",
    "plt.show()"
   ]
  },
  {
   "cell_type": "markdown",
   "id": "28fb503a-640d-420c-b73d-b935e5d8fc1a",
   "metadata": {},
   "source": [
    "##### Predecir un DataSet reducido"
   ]
  },
  {
   "cell_type": "code",
   "execution_count": 36,
   "id": "acaa22da-3b31-475c-b070-5c882eeee4cb",
   "metadata": {},
   "outputs": [],
   "source": [
    "y_pred = svm_clf.predict(X_val_reduced)"
   ]
  },
  {
   "cell_type": "code",
   "execution_count": 37,
   "id": "6b11acd8-e36a-41fe-bbaa-1932551aab6c",
   "metadata": {},
   "outputs": [
    {
     "name": "stdout",
     "output_type": "stream",
     "text": [
      "F1 Score:  0.8142614601018675\n"
     ]
    }
   ],
   "source": [
    "print(\"F1 Score: \", f1_score(y_pred, y_val, pos_label = 'phishing'))"
   ]
  },
  {
   "cell_type": "markdown",
   "id": "912deee7-fc1e-48fa-a360-6103178f55b6",
   "metadata": {},
   "source": [
    "Como se vera adelante, para determinados kernels es muy importante escalar el conjunto de datos. En este caso, para el kernel lineal, no es tan relevante, aunque es posible que proporcione mejores resultados."
   ]
  },
  {
   "cell_type": "code",
   "execution_count": 39,
   "id": "1a67b36a-d2c4-4036-9c10-eef8705cf52f",
   "metadata": {},
   "outputs": [
    {
     "data": {
      "text/html": [
       "<style>#sk-container-id-2 {color: black;}#sk-container-id-2 pre{padding: 0;}#sk-container-id-2 div.sk-toggleable {background-color: white;}#sk-container-id-2 label.sk-toggleable__label {cursor: pointer;display: block;width: 100%;margin-bottom: 0;padding: 0.3em;box-sizing: border-box;text-align: center;}#sk-container-id-2 label.sk-toggleable__label-arrow:before {content: \"▸\";float: left;margin-right: 0.25em;color: #696969;}#sk-container-id-2 label.sk-toggleable__label-arrow:hover:before {color: black;}#sk-container-id-2 div.sk-estimator:hover label.sk-toggleable__label-arrow:before {color: black;}#sk-container-id-2 div.sk-toggleable__content {max-height: 0;max-width: 0;overflow: hidden;text-align: left;background-color: #f0f8ff;}#sk-container-id-2 div.sk-toggleable__content pre {margin: 0.2em;color: black;border-radius: 0.25em;background-color: #f0f8ff;}#sk-container-id-2 input.sk-toggleable__control:checked~div.sk-toggleable__content {max-height: 200px;max-width: 100%;overflow: auto;}#sk-container-id-2 input.sk-toggleable__control:checked~label.sk-toggleable__label-arrow:before {content: \"▾\";}#sk-container-id-2 div.sk-estimator input.sk-toggleable__control:checked~label.sk-toggleable__label {background-color: #d4ebff;}#sk-container-id-2 div.sk-label input.sk-toggleable__control:checked~label.sk-toggleable__label {background-color: #d4ebff;}#sk-container-id-2 input.sk-hidden--visually {border: 0;clip: rect(1px 1px 1px 1px);clip: rect(1px, 1px, 1px, 1px);height: 1px;margin: -1px;overflow: hidden;padding: 0;position: absolute;width: 1px;}#sk-container-id-2 div.sk-estimator {font-family: monospace;background-color: #f0f8ff;border: 1px dotted black;border-radius: 0.25em;box-sizing: border-box;margin-bottom: 0.5em;}#sk-container-id-2 div.sk-estimator:hover {background-color: #d4ebff;}#sk-container-id-2 div.sk-parallel-item::after {content: \"\";width: 100%;border-bottom: 1px solid gray;flex-grow: 1;}#sk-container-id-2 div.sk-label:hover label.sk-toggleable__label {background-color: #d4ebff;}#sk-container-id-2 div.sk-serial::before {content: \"\";position: absolute;border-left: 1px solid gray;box-sizing: border-box;top: 0;bottom: 0;left: 50%;z-index: 0;}#sk-container-id-2 div.sk-serial {display: flex;flex-direction: column;align-items: center;background-color: white;padding-right: 0.2em;padding-left: 0.2em;position: relative;}#sk-container-id-2 div.sk-item {position: relative;z-index: 1;}#sk-container-id-2 div.sk-parallel {display: flex;align-items: stretch;justify-content: center;background-color: white;position: relative;}#sk-container-id-2 div.sk-item::before, #sk-container-id-2 div.sk-parallel-item::before {content: \"\";position: absolute;border-left: 1px solid gray;box-sizing: border-box;top: 0;bottom: 0;left: 50%;z-index: -1;}#sk-container-id-2 div.sk-parallel-item {display: flex;flex-direction: column;z-index: 1;position: relative;background-color: white;}#sk-container-id-2 div.sk-parallel-item:first-child::after {align-self: flex-end;width: 50%;}#sk-container-id-2 div.sk-parallel-item:last-child::after {align-self: flex-start;width: 50%;}#sk-container-id-2 div.sk-parallel-item:only-child::after {width: 0;}#sk-container-id-2 div.sk-dashed-wrapped {border: 1px dashed gray;margin: 0 0.4em 0.5em 0.4em;box-sizing: border-box;padding-bottom: 0.4em;background-color: white;}#sk-container-id-2 div.sk-label label {font-family: monospace;font-weight: bold;display: inline-block;line-height: 1.2em;}#sk-container-id-2 div.sk-label-container {text-align: center;}#sk-container-id-2 div.sk-container {/* jupyter's `normalize.less` sets `[hidden] { display: none; }` but bootstrap.min.css set `[hidden] { display: none !important; }` so we also need the `!important` here to be able to override the default hidden behavior on the sphinx rendered scikit-learn.org. See: https://github.com/scikit-learn/scikit-learn/issues/21755 */display: inline-block !important;position: relative;}#sk-container-id-2 div.sk-text-repr-fallback {display: none;}</style><div id=\"sk-container-id-2\" class=\"sk-top-container\"><div class=\"sk-text-repr-fallback\"><pre>Pipeline(steps=[(&#x27;scaler&#x27;, RobustScaler()),\n",
       "                (&#x27;linear_svc&#x27;, SVC(C=50, kernel=&#x27;linear&#x27;))])</pre><b>In a Jupyter environment, please rerun this cell to show the HTML representation or trust the notebook. <br />On GitHub, the HTML representation is unable to render, please try loading this page with nbviewer.org.</b></div><div class=\"sk-container\" hidden><div class=\"sk-item sk-dashed-wrapped\"><div class=\"sk-label-container\"><div class=\"sk-label sk-toggleable\"><input class=\"sk-toggleable__control sk-hidden--visually\" id=\"sk-estimator-id-2\" type=\"checkbox\" ><label for=\"sk-estimator-id-2\" class=\"sk-toggleable__label sk-toggleable__label-arrow\">Pipeline</label><div class=\"sk-toggleable__content\"><pre>Pipeline(steps=[(&#x27;scaler&#x27;, RobustScaler()),\n",
       "                (&#x27;linear_svc&#x27;, SVC(C=50, kernel=&#x27;linear&#x27;))])</pre></div></div></div><div class=\"sk-serial\"><div class=\"sk-item\"><div class=\"sk-estimator sk-toggleable\"><input class=\"sk-toggleable__control sk-hidden--visually\" id=\"sk-estimator-id-3\" type=\"checkbox\" ><label for=\"sk-estimator-id-3\" class=\"sk-toggleable__label sk-toggleable__label-arrow\">RobustScaler</label><div class=\"sk-toggleable__content\"><pre>RobustScaler()</pre></div></div></div><div class=\"sk-item\"><div class=\"sk-estimator sk-toggleable\"><input class=\"sk-toggleable__control sk-hidden--visually\" id=\"sk-estimator-id-4\" type=\"checkbox\" ><label for=\"sk-estimator-id-4\" class=\"sk-toggleable__label sk-toggleable__label-arrow\">SVC</label><div class=\"sk-toggleable__content\"><pre>SVC(C=50, kernel=&#x27;linear&#x27;)</pre></div></div></div></div></div></div></div>"
      ],
      "text/plain": [
       "Pipeline(steps=[('scaler', RobustScaler()),\n",
       "                ('linear_svc', SVC(C=50, kernel='linear'))])"
      ]
     },
     "execution_count": 39,
     "metadata": {},
     "output_type": "execute_result"
    }
   ],
   "source": [
    "svm_clf_sc = Pipeline([\n",
    "    (\"scaler\", RobustScaler()),\n",
    "    (\"linear_svc\", SVC(kernel= \"linear\", C=50))\n",
    "])\n",
    "svm_clf_sc.fit(X_train_reduced, y_train)"
   ]
  },
  {
   "cell_type": "code",
   "execution_count": 40,
   "id": "3d3cefb5-7971-49f4-85ad-589576523270",
   "metadata": {},
   "outputs": [],
   "source": [
    "y_pred = svm_clf_sc.predict(X_val_reduced)"
   ]
  },
  {
   "cell_type": "code",
   "execution_count": 41,
   "id": "9061cb45-16b0-47ae-aa49-5934020e3d63",
   "metadata": {},
   "outputs": [
    {
     "name": "stdout",
     "output_type": "stream",
     "text": [
      "F1 Score:  0.8141592920353983\n"
     ]
    }
   ],
   "source": [
    "print(\"F1 Score: \", f1_score(y_pred, y_val, pos_label = 'phishing'))"
   ]
  },
  {
   "cell_type": "markdown",
   "id": "2af8c0b2-5fa0-4d5f-a800-25fe12b3aabf",
   "metadata": {},
   "source": [
    "## 5.2 DataSet Completo"
   ]
  },
  {
   "cell_type": "code",
   "execution_count": 43,
   "id": "17efebe2-fbea-42a2-9879-de908f8b6133",
   "metadata": {},
   "outputs": [
    {
     "data": {
      "text/html": [
       "<style>#sk-container-id-3 {color: black;}#sk-container-id-3 pre{padding: 0;}#sk-container-id-3 div.sk-toggleable {background-color: white;}#sk-container-id-3 label.sk-toggleable__label {cursor: pointer;display: block;width: 100%;margin-bottom: 0;padding: 0.3em;box-sizing: border-box;text-align: center;}#sk-container-id-3 label.sk-toggleable__label-arrow:before {content: \"▸\";float: left;margin-right: 0.25em;color: #696969;}#sk-container-id-3 label.sk-toggleable__label-arrow:hover:before {color: black;}#sk-container-id-3 div.sk-estimator:hover label.sk-toggleable__label-arrow:before {color: black;}#sk-container-id-3 div.sk-toggleable__content {max-height: 0;max-width: 0;overflow: hidden;text-align: left;background-color: #f0f8ff;}#sk-container-id-3 div.sk-toggleable__content pre {margin: 0.2em;color: black;border-radius: 0.25em;background-color: #f0f8ff;}#sk-container-id-3 input.sk-toggleable__control:checked~div.sk-toggleable__content {max-height: 200px;max-width: 100%;overflow: auto;}#sk-container-id-3 input.sk-toggleable__control:checked~label.sk-toggleable__label-arrow:before {content: \"▾\";}#sk-container-id-3 div.sk-estimator input.sk-toggleable__control:checked~label.sk-toggleable__label {background-color: #d4ebff;}#sk-container-id-3 div.sk-label input.sk-toggleable__control:checked~label.sk-toggleable__label {background-color: #d4ebff;}#sk-container-id-3 input.sk-hidden--visually {border: 0;clip: rect(1px 1px 1px 1px);clip: rect(1px, 1px, 1px, 1px);height: 1px;margin: -1px;overflow: hidden;padding: 0;position: absolute;width: 1px;}#sk-container-id-3 div.sk-estimator {font-family: monospace;background-color: #f0f8ff;border: 1px dotted black;border-radius: 0.25em;box-sizing: border-box;margin-bottom: 0.5em;}#sk-container-id-3 div.sk-estimator:hover {background-color: #d4ebff;}#sk-container-id-3 div.sk-parallel-item::after {content: \"\";width: 100%;border-bottom: 1px solid gray;flex-grow: 1;}#sk-container-id-3 div.sk-label:hover label.sk-toggleable__label {background-color: #d4ebff;}#sk-container-id-3 div.sk-serial::before {content: \"\";position: absolute;border-left: 1px solid gray;box-sizing: border-box;top: 0;bottom: 0;left: 50%;z-index: 0;}#sk-container-id-3 div.sk-serial {display: flex;flex-direction: column;align-items: center;background-color: white;padding-right: 0.2em;padding-left: 0.2em;position: relative;}#sk-container-id-3 div.sk-item {position: relative;z-index: 1;}#sk-container-id-3 div.sk-parallel {display: flex;align-items: stretch;justify-content: center;background-color: white;position: relative;}#sk-container-id-3 div.sk-item::before, #sk-container-id-3 div.sk-parallel-item::before {content: \"\";position: absolute;border-left: 1px solid gray;box-sizing: border-box;top: 0;bottom: 0;left: 50%;z-index: -1;}#sk-container-id-3 div.sk-parallel-item {display: flex;flex-direction: column;z-index: 1;position: relative;background-color: white;}#sk-container-id-3 div.sk-parallel-item:first-child::after {align-self: flex-end;width: 50%;}#sk-container-id-3 div.sk-parallel-item:last-child::after {align-self: flex-start;width: 50%;}#sk-container-id-3 div.sk-parallel-item:only-child::after {width: 0;}#sk-container-id-3 div.sk-dashed-wrapped {border: 1px dashed gray;margin: 0 0.4em 0.5em 0.4em;box-sizing: border-box;padding-bottom: 0.4em;background-color: white;}#sk-container-id-3 div.sk-label label {font-family: monospace;font-weight: bold;display: inline-block;line-height: 1.2em;}#sk-container-id-3 div.sk-label-container {text-align: center;}#sk-container-id-3 div.sk-container {/* jupyter's `normalize.less` sets `[hidden] { display: none; }` but bootstrap.min.css set `[hidden] { display: none !important; }` so we also need the `!important` here to be able to override the default hidden behavior on the sphinx rendered scikit-learn.org. See: https://github.com/scikit-learn/scikit-learn/issues/21755 */display: inline-block !important;position: relative;}#sk-container-id-3 div.sk-text-repr-fallback {display: none;}</style><div id=\"sk-container-id-3\" class=\"sk-top-container\"><div class=\"sk-text-repr-fallback\"><pre>SVC(C=1, kernel=&#x27;linear&#x27;)</pre><b>In a Jupyter environment, please rerun this cell to show the HTML representation or trust the notebook. <br />On GitHub, the HTML representation is unable to render, please try loading this page with nbviewer.org.</b></div><div class=\"sk-container\" hidden><div class=\"sk-item\"><div class=\"sk-estimator sk-toggleable\"><input class=\"sk-toggleable__control sk-hidden--visually\" id=\"sk-estimator-id-5\" type=\"checkbox\" checked><label for=\"sk-estimator-id-5\" class=\"sk-toggleable__label sk-toggleable__label-arrow\">SVC</label><div class=\"sk-toggleable__content\"><pre>SVC(C=1, kernel=&#x27;linear&#x27;)</pre></div></div></div></div></div>"
      ],
      "text/plain": [
       "SVC(C=1, kernel='linear')"
      ]
     },
     "execution_count": 43,
     "metadata": {},
     "output_type": "execute_result"
    }
   ],
   "source": [
    "# Entrenamiento con todo el DataSet\n",
    "from sklearn.svm import SVC\n",
    "\n",
    "\n",
    "svm_clf = SVC(kernel = \"linear\", C=1)\n",
    "svm_clf.fit(X_train_prep, y_train)"
   ]
  },
  {
   "cell_type": "code",
   "execution_count": 44,
   "id": "f1c22780-4b3b-4a23-b153-89f89fbea92a",
   "metadata": {},
   "outputs": [
    {
     "name": "stdout",
     "output_type": "stream",
     "text": [
      "F1 Score:  0.9611330698287219\n"
     ]
    }
   ],
   "source": [
    "y_pred = svm_clf.predict(X_val_prep)\n",
    "print(\"F1 Score: \", f1_score(y_pred, y_val, pos_label = 'phishing'))"
   ]
  },
  {
   "cell_type": "markdown",
   "id": "2ec94481-d6f4-4257-835b-ba1f62394a43",
   "metadata": {},
   "source": [
    "## 6.- SVM: Kernel (I)\n",
    "\n",
    "### Polynomial Kernel (I)\n",
    "\n",
    "##### Entrenamiento del algoritmo de un Dataset Reducido"
   ]
  },
  {
   "cell_type": "code",
   "execution_count": 46,
   "id": "17b37f25-8ca1-4ac7-96f7-f4493fb110ec",
   "metadata": {},
   "outputs": [],
   "source": [
    "# Para representar el limite de decision, se tiene que pasar la variable objetivo a numerica\n",
    "\n",
    "y_train_num = y_train.factorize()[0]\n",
    "y_val_num = y_val.factorize()[0]"
   ]
  },
  {
   "cell_type": "code",
   "execution_count": 47,
   "id": "4d41e3bf-a801-4c80-ad1a-59cae6649f3a",
   "metadata": {},
   "outputs": [],
   "source": [
    "from sklearn.datasets import make_moons\n",
    "from sklearn.svm import LinearSVC\n",
    "from sklearn.preprocessing import PolynomialFeatures"
   ]
  },
  {
   "cell_type": "code",
   "execution_count": 48,
   "id": "d5e29f82-2ff9-4311-aa42-e9a2882c8475",
   "metadata": {},
   "outputs": [
    {
     "name": "stderr",
     "output_type": "stream",
     "text": [
      "/opt/anaconda3/envs/Simulacion/lib/python3.9/site-packages/sklearn/svm/_classes.py:32: FutureWarning: The default value of `dual` will change from `True` to `'auto'` in 1.5. Set the value of `dual` explicitly to suppress the warning.\n",
      "  warnings.warn(\n"
     ]
    },
    {
     "data": {
      "text/html": [
       "<style>#sk-container-id-4 {color: black;}#sk-container-id-4 pre{padding: 0;}#sk-container-id-4 div.sk-toggleable {background-color: white;}#sk-container-id-4 label.sk-toggleable__label {cursor: pointer;display: block;width: 100%;margin-bottom: 0;padding: 0.3em;box-sizing: border-box;text-align: center;}#sk-container-id-4 label.sk-toggleable__label-arrow:before {content: \"▸\";float: left;margin-right: 0.25em;color: #696969;}#sk-container-id-4 label.sk-toggleable__label-arrow:hover:before {color: black;}#sk-container-id-4 div.sk-estimator:hover label.sk-toggleable__label-arrow:before {color: black;}#sk-container-id-4 div.sk-toggleable__content {max-height: 0;max-width: 0;overflow: hidden;text-align: left;background-color: #f0f8ff;}#sk-container-id-4 div.sk-toggleable__content pre {margin: 0.2em;color: black;border-radius: 0.25em;background-color: #f0f8ff;}#sk-container-id-4 input.sk-toggleable__control:checked~div.sk-toggleable__content {max-height: 200px;max-width: 100%;overflow: auto;}#sk-container-id-4 input.sk-toggleable__control:checked~label.sk-toggleable__label-arrow:before {content: \"▾\";}#sk-container-id-4 div.sk-estimator input.sk-toggleable__control:checked~label.sk-toggleable__label {background-color: #d4ebff;}#sk-container-id-4 div.sk-label input.sk-toggleable__control:checked~label.sk-toggleable__label {background-color: #d4ebff;}#sk-container-id-4 input.sk-hidden--visually {border: 0;clip: rect(1px 1px 1px 1px);clip: rect(1px, 1px, 1px, 1px);height: 1px;margin: -1px;overflow: hidden;padding: 0;position: absolute;width: 1px;}#sk-container-id-4 div.sk-estimator {font-family: monospace;background-color: #f0f8ff;border: 1px dotted black;border-radius: 0.25em;box-sizing: border-box;margin-bottom: 0.5em;}#sk-container-id-4 div.sk-estimator:hover {background-color: #d4ebff;}#sk-container-id-4 div.sk-parallel-item::after {content: \"\";width: 100%;border-bottom: 1px solid gray;flex-grow: 1;}#sk-container-id-4 div.sk-label:hover label.sk-toggleable__label {background-color: #d4ebff;}#sk-container-id-4 div.sk-serial::before {content: \"\";position: absolute;border-left: 1px solid gray;box-sizing: border-box;top: 0;bottom: 0;left: 50%;z-index: 0;}#sk-container-id-4 div.sk-serial {display: flex;flex-direction: column;align-items: center;background-color: white;padding-right: 0.2em;padding-left: 0.2em;position: relative;}#sk-container-id-4 div.sk-item {position: relative;z-index: 1;}#sk-container-id-4 div.sk-parallel {display: flex;align-items: stretch;justify-content: center;background-color: white;position: relative;}#sk-container-id-4 div.sk-item::before, #sk-container-id-4 div.sk-parallel-item::before {content: \"\";position: absolute;border-left: 1px solid gray;box-sizing: border-box;top: 0;bottom: 0;left: 50%;z-index: -1;}#sk-container-id-4 div.sk-parallel-item {display: flex;flex-direction: column;z-index: 1;position: relative;background-color: white;}#sk-container-id-4 div.sk-parallel-item:first-child::after {align-self: flex-end;width: 50%;}#sk-container-id-4 div.sk-parallel-item:last-child::after {align-self: flex-start;width: 50%;}#sk-container-id-4 div.sk-parallel-item:only-child::after {width: 0;}#sk-container-id-4 div.sk-dashed-wrapped {border: 1px dashed gray;margin: 0 0.4em 0.5em 0.4em;box-sizing: border-box;padding-bottom: 0.4em;background-color: white;}#sk-container-id-4 div.sk-label label {font-family: monospace;font-weight: bold;display: inline-block;line-height: 1.2em;}#sk-container-id-4 div.sk-label-container {text-align: center;}#sk-container-id-4 div.sk-container {/* jupyter's `normalize.less` sets `[hidden] { display: none; }` but bootstrap.min.css set `[hidden] { display: none !important; }` so we also need the `!important` here to be able to override the default hidden behavior on the sphinx rendered scikit-learn.org. See: https://github.com/scikit-learn/scikit-learn/issues/21755 */display: inline-block !important;position: relative;}#sk-container-id-4 div.sk-text-repr-fallback {display: none;}</style><div id=\"sk-container-id-4\" class=\"sk-top-container\"><div class=\"sk-text-repr-fallback\"><pre>Pipeline(steps=[(&#x27;poly_features&#x27;, PolynomialFeatures(degree=3)),\n",
       "                (&#x27;scaler&#x27;, StandardScaler()),\n",
       "                (&#x27;svm_clf&#x27;,\n",
       "                 LinearSVC(C=20, loss=&#x27;hinge&#x27;, max_iter=100000,\n",
       "                           random_state=42))])</pre><b>In a Jupyter environment, please rerun this cell to show the HTML representation or trust the notebook. <br />On GitHub, the HTML representation is unable to render, please try loading this page with nbviewer.org.</b></div><div class=\"sk-container\" hidden><div class=\"sk-item sk-dashed-wrapped\"><div class=\"sk-label-container\"><div class=\"sk-label sk-toggleable\"><input class=\"sk-toggleable__control sk-hidden--visually\" id=\"sk-estimator-id-6\" type=\"checkbox\" ><label for=\"sk-estimator-id-6\" class=\"sk-toggleable__label sk-toggleable__label-arrow\">Pipeline</label><div class=\"sk-toggleable__content\"><pre>Pipeline(steps=[(&#x27;poly_features&#x27;, PolynomialFeatures(degree=3)),\n",
       "                (&#x27;scaler&#x27;, StandardScaler()),\n",
       "                (&#x27;svm_clf&#x27;,\n",
       "                 LinearSVC(C=20, loss=&#x27;hinge&#x27;, max_iter=100000,\n",
       "                           random_state=42))])</pre></div></div></div><div class=\"sk-serial\"><div class=\"sk-item\"><div class=\"sk-estimator sk-toggleable\"><input class=\"sk-toggleable__control sk-hidden--visually\" id=\"sk-estimator-id-7\" type=\"checkbox\" ><label for=\"sk-estimator-id-7\" class=\"sk-toggleable__label sk-toggleable__label-arrow\">PolynomialFeatures</label><div class=\"sk-toggleable__content\"><pre>PolynomialFeatures(degree=3)</pre></div></div></div><div class=\"sk-item\"><div class=\"sk-estimator sk-toggleable\"><input class=\"sk-toggleable__control sk-hidden--visually\" id=\"sk-estimator-id-8\" type=\"checkbox\" ><label for=\"sk-estimator-id-8\" class=\"sk-toggleable__label sk-toggleable__label-arrow\">StandardScaler</label><div class=\"sk-toggleable__content\"><pre>StandardScaler()</pre></div></div></div><div class=\"sk-item\"><div class=\"sk-estimator sk-toggleable\"><input class=\"sk-toggleable__control sk-hidden--visually\" id=\"sk-estimator-id-9\" type=\"checkbox\" ><label for=\"sk-estimator-id-9\" class=\"sk-toggleable__label sk-toggleable__label-arrow\">LinearSVC</label><div class=\"sk-toggleable__content\"><pre>LinearSVC(C=20, loss=&#x27;hinge&#x27;, max_iter=100000, random_state=42)</pre></div></div></div></div></div></div></div>"
      ],
      "text/plain": [
       "Pipeline(steps=[('poly_features', PolynomialFeatures(degree=3)),\n",
       "                ('scaler', StandardScaler()),\n",
       "                ('svm_clf',\n",
       "                 LinearSVC(C=20, loss='hinge', max_iter=100000,\n",
       "                           random_state=42))])"
      ]
     },
     "execution_count": 48,
     "metadata": {},
     "output_type": "execute_result"
    }
   ],
   "source": [
    "polynomial_svm_clf = Pipeline([\n",
    "    (\"poly_features\", PolynomialFeatures(degree=3)),\n",
    "    (\"scaler\", StandardScaler()),\n",
    "    (\"svm_clf\", LinearSVC(C = 20, loss = \"hinge\", random_state = 42, max_iter = 100000))\n",
    "])\n",
    "polynomial_svm_clf.fit(X_train_reduced, y_train_num)"
   ]
  },
  {
   "cell_type": "markdown",
   "id": "a7adb9ae-6d09-4871-9936-81253947a4c1",
   "metadata": {},
   "source": [
    "#### Representacion del limite de decision"
   ]
  },
  {
   "cell_type": "code",
   "execution_count": 50,
   "id": "a6935b79-e57e-4998-a4bf-ab61d0bf1835",
   "metadata": {},
   "outputs": [],
   "source": [
    "def plot_dataset(X, y):\n",
    "    plt.plot(X[:, 0][y==1], X[:, 1][y==1], \"g.\")\n",
    "    plt.plot(X[:, 0][y==0], X[:, 1][y==0], \"b.\")"
   ]
  },
  {
   "cell_type": "code",
   "execution_count": 51,
   "id": "6293c13b-0b25-45e7-b82e-99692f9085a5",
   "metadata": {},
   "outputs": [
    {
     "name": "stderr",
     "output_type": "stream",
     "text": [
      "/opt/anaconda3/envs/Simulacion/lib/python3.9/site-packages/sklearn/base.py:464: UserWarning: X does not have valid feature names, but PolynomialFeatures was fitted with feature names\n",
      "  warnings.warn(\n",
      "/opt/anaconda3/envs/Simulacion/lib/python3.9/site-packages/sklearn/base.py:464: UserWarning: X does not have valid feature names, but PolynomialFeatures was fitted with feature names\n",
      "  warnings.warn(\n",
      "/opt/anaconda3/envs/Simulacion/lib/python3.9/site-packages/sklearn/base.py:464: UserWarning: X does not have valid feature names, but PolynomialFeatures was fitted with feature names\n",
      "  warnings.warn(\n",
      "/opt/anaconda3/envs/Simulacion/lib/python3.9/site-packages/sklearn/base.py:464: UserWarning: X does not have valid feature names, but PolynomialFeatures was fitted with feature names\n",
      "  warnings.warn(\n"
     ]
    },
    {
     "data": {
      "image/png": "[encoded data removed]",
      "text/plain": [
       "<Figure size 1500x500 with 2 Axes>"
      ]
     },
     "metadata": {},
     "output_type": "display_data"
    }
   ],
   "source": [
    "def plot_predictions(clf, axes):\n",
    "    x0s = np.linspace(axes[0], axes[1], 100)\n",
    "    x1s = np.linspace(axes[2], axes[3], 100)\n",
    "\n",
    "    x0, x1 = np.meshgrid(x0s, x1s)\n",
    "    X = np.c_[x0.ravel(), x1.ravel()]\n",
    "\n",
    "    y_pred = clf.predict(X).reshape(x0.shape)\n",
    "    y_decision = clf.decision_function(X).reshape(x0.shape)\n",
    "\n",
    "    plt.contourf(x0, x1, y_pred, cmap = plt.cm.brg, alpha = 0.1)\n",
    "\n",
    "\n",
    "fig, axes = plt.subplots(ncols = 2, figsize = (15, 5), sharey = True)\n",
    "plt.sca(axes[0])\n",
    "plot_dataset(X_train_reduced.values, y_train_num)\n",
    "plot_predictions(polynomial_svm_clf, [0, 1, -100, 250])\n",
    "plt.xlabel(\"domainUrlRatio\", fontsize = 11)\n",
    "plt.ylabel(\"domainlength\", fontsize = 11)\n",
    "plt.sca(axes[1])\n",
    "plot_predictions(polynomial_svm_clf, [0, 1, -100, 250])\n",
    "plt.xlabel(\"domainUrlRatio\", fontsize = 11)\n",
    "plt.ylabel(\"domainlength\", fontsize = 11)\n",
    "plt.show()"
   ]
  },
  {
   "cell_type": "markdown",
   "id": "f4917dfe-48b1-4506-ae78-5c6928562694",
   "metadata": {},
   "source": [
    "#### Prediccion del DataSet reducido"
   ]
  },
  {
   "cell_type": "code",
   "execution_count": 53,
   "id": "abca55ee-f207-4da8-a08b-48000cdd1aaf",
   "metadata": {},
   "outputs": [],
   "source": [
    "y_pred = polynomial_svm_clf.predict(X_val_reduced)"
   ]
  },
  {
   "cell_type": "code",
   "execution_count": 54,
   "id": "472fc4e3-adab-482e-9d09-fdb479f1c244",
   "metadata": {},
   "outputs": [
    {
     "name": "stdout",
     "output_type": "stream",
     "text": [
      "F1 Score:  0.8574514038876889\n"
     ]
    }
   ],
   "source": [
    "print(\"F1 Score: \", f1_score(y_pred, y_val_num))"
   ]
  },
  {
   "cell_type": "markdown",
   "id": "4f3d66fe-9550-41e4-b245-59821811cc27",
   "metadata": {},
   "source": [
    "## 6.2 Polynomial Kernel (II)\n",
    "\n",
    "Existe una forma mas sencilla de entrenar un algoritmo SVM que utilice polynomial kernel, utilizando el parametro **kernel** de la propia funcion implememtada en sklearn.\n",
    "\n",
    "#### Entrenamiento del algoritmo  con un DataSet reducido"
   ]
  },
  {
   "cell_type": "code",
   "execution_count": 56,
   "id": "61ba9362-9d31-44da-8b09-82bf777bc9b5",
   "metadata": {},
   "outputs": [
    {
     "data": {
      "text/html": [
       "<style>#sk-container-id-5 {color: black;}#sk-container-id-5 pre{padding: 0;}#sk-container-id-5 div.sk-toggleable {background-color: white;}#sk-container-id-5 label.sk-toggleable__label {cursor: pointer;display: block;width: 100%;margin-bottom: 0;padding: 0.3em;box-sizing: border-box;text-align: center;}#sk-container-id-5 label.sk-toggleable__label-arrow:before {content: \"▸\";float: left;margin-right: 0.25em;color: #696969;}#sk-container-id-5 label.sk-toggleable__label-arrow:hover:before {color: black;}#sk-container-id-5 div.sk-estimator:hover label.sk-toggleable__label-arrow:before {color: black;}#sk-container-id-5 div.sk-toggleable__content {max-height: 0;max-width: 0;overflow: hidden;text-align: left;background-color: #f0f8ff;}#sk-container-id-5 div.sk-toggleable__content pre {margin: 0.2em;color: black;border-radius: 0.25em;background-color: #f0f8ff;}#sk-container-id-5 input.sk-toggleable__control:checked~div.sk-toggleable__content {max-height: 200px;max-width: 100%;overflow: auto;}#sk-container-id-5 input.sk-toggleable__control:checked~label.sk-toggleable__label-arrow:before {content: \"▾\";}#sk-container-id-5 div.sk-estimator input.sk-toggleable__control:checked~label.sk-toggleable__label {background-color: #d4ebff;}#sk-container-id-5 div.sk-label input.sk-toggleable__control:checked~label.sk-toggleable__label {background-color: #d4ebff;}#sk-container-id-5 input.sk-hidden--visually {border: 0;clip: rect(1px 1px 1px 1px);clip: rect(1px, 1px, 1px, 1px);height: 1px;margin: -1px;overflow: hidden;padding: 0;position: absolute;width: 1px;}#sk-container-id-5 div.sk-estimator {font-family: monospace;background-color: #f0f8ff;border: 1px dotted black;border-radius: 0.25em;box-sizing: border-box;margin-bottom: 0.5em;}#sk-container-id-5 div.sk-estimator:hover {background-color: #d4ebff;}#sk-container-id-5 div.sk-parallel-item::after {content: \"\";width: 100%;border-bottom: 1px solid gray;flex-grow: 1;}#sk-container-id-5 div.sk-label:hover label.sk-toggleable__label {background-color: #d4ebff;}#sk-container-id-5 div.sk-serial::before {content: \"\";position: absolute;border-left: 1px solid gray;box-sizing: border-box;top: 0;bottom: 0;left: 50%;z-index: 0;}#sk-container-id-5 div.sk-serial {display: flex;flex-direction: column;align-items: center;background-color: white;padding-right: 0.2em;padding-left: 0.2em;position: relative;}#sk-container-id-5 div.sk-item {position: relative;z-index: 1;}#sk-container-id-5 div.sk-parallel {display: flex;align-items: stretch;justify-content: center;background-color: white;position: relative;}#sk-container-id-5 div.sk-item::before, #sk-container-id-5 div.sk-parallel-item::before {content: \"\";position: absolute;border-left: 1px solid gray;box-sizing: border-box;top: 0;bottom: 0;left: 50%;z-index: -1;}#sk-container-id-5 div.sk-parallel-item {display: flex;flex-direction: column;z-index: 1;position: relative;background-color: white;}#sk-container-id-5 div.sk-parallel-item:first-child::after {align-self: flex-end;width: 50%;}#sk-container-id-5 div.sk-parallel-item:last-child::after {align-self: flex-start;width: 50%;}#sk-container-id-5 div.sk-parallel-item:only-child::after {width: 0;}#sk-container-id-5 div.sk-dashed-wrapped {border: 1px dashed gray;margin: 0 0.4em 0.5em 0.4em;box-sizing: border-box;padding-bottom: 0.4em;background-color: white;}#sk-container-id-5 div.sk-label label {font-family: monospace;font-weight: bold;display: inline-block;line-height: 1.2em;}#sk-container-id-5 div.sk-label-container {text-align: center;}#sk-container-id-5 div.sk-container {/* jupyter's `normalize.less` sets `[hidden] { display: none; }` but bootstrap.min.css set `[hidden] { display: none !important; }` so we also need the `!important` here to be able to override the default hidden behavior on the sphinx rendered scikit-learn.org. See: https://github.com/scikit-learn/scikit-learn/issues/21755 */display: inline-block !important;position: relative;}#sk-container-id-5 div.sk-text-repr-fallback {display: none;}</style><div id=\"sk-container-id-5\" class=\"sk-top-container\"><div class=\"sk-text-repr-fallback\"><pre>SVC(C=20, coef0=10, kernel=&#x27;poly&#x27;)</pre><b>In a Jupyter environment, please rerun this cell to show the HTML representation or trust the notebook. <br />On GitHub, the HTML representation is unable to render, please try loading this page with nbviewer.org.</b></div><div class=\"sk-container\" hidden><div class=\"sk-item\"><div class=\"sk-estimator sk-toggleable\"><input class=\"sk-toggleable__control sk-hidden--visually\" id=\"sk-estimator-id-10\" type=\"checkbox\" checked><label for=\"sk-estimator-id-10\" class=\"sk-toggleable__label sk-toggleable__label-arrow\">SVC</label><div class=\"sk-toggleable__content\"><pre>SVC(C=20, coef0=10, kernel=&#x27;poly&#x27;)</pre></div></div></div></div></div>"
      ],
      "text/plain": [
       "SVC(C=20, coef0=10, kernel='poly')"
      ]
     },
     "execution_count": 56,
     "metadata": {},
     "output_type": "execute_result"
    }
   ],
   "source": [
    "svm_clf = SVC(kernel=\"poly\", degree = 3, coef0 = 10, C = 20)\n",
    "svm_clf.fit(X_train_reduced, y_train_num)"
   ]
  },
  {
   "cell_type": "markdown",
   "id": "d0f7823e-41ff-4fa4-8c71-762e42fc4195",
   "metadata": {},
   "source": [
    "#### Representacion del limite de decision"
   ]
  },
  {
   "cell_type": "code",
   "execution_count": 58,
   "id": "6fbdf414-fdb2-4828-a6db-89d157fbfcb6",
   "metadata": {},
   "outputs": [
    {
     "name": "stderr",
     "output_type": "stream",
     "text": [
      "/opt/anaconda3/envs/Simulacion/lib/python3.9/site-packages/sklearn/base.py:464: UserWarning: X does not have valid feature names, but SVC was fitted with feature names\n",
      "  warnings.warn(\n",
      "/opt/anaconda3/envs/Simulacion/lib/python3.9/site-packages/sklearn/base.py:464: UserWarning: X does not have valid feature names, but SVC was fitted with feature names\n",
      "  warnings.warn(\n",
      "/opt/anaconda3/envs/Simulacion/lib/python3.9/site-packages/sklearn/base.py:464: UserWarning: X does not have valid feature names, but SVC was fitted with feature names\n",
      "  warnings.warn(\n",
      "/opt/anaconda3/envs/Simulacion/lib/python3.9/site-packages/sklearn/base.py:464: UserWarning: X does not have valid feature names, but SVC was fitted with feature names\n",
      "  warnings.warn(\n"
     ]
    },
    {
     "data": {
      "image/png": "[encoded data removed]",
      "text/plain": [
       "<Figure size 1500x500 with 2 Axes>"
      ]
     },
     "metadata": {},
     "output_type": "display_data"
    }
   ],
   "source": [
    "fig, axes = plt.subplots(ncols = 2, figsize = (15, 5), sharey = True)\n",
    "plt.sca(axes[0])\n",
    "plot_dataset(X_train_reduced.values, y_train_num)\n",
    "plot_predictions(svm_clf, [0, 1, -100, 250])\n",
    "plt.xlabel(\"domainUrlRatio\", fontsize = 11)\n",
    "plt.ylabel(\"domainlength\", fontsize = 11)\n",
    "plt.sca(axes[1])\n",
    "plot_predictions(svm_clf, [0, 1, -100, 250])\n",
    "plt.xlabel(\"domainUrlRatio\", fontsize = 11)\n",
    "plt.ylabel(\"domainlength\", fontsize = 11)\n",
    "plt.show()"
   ]
  },
  {
   "cell_type": "markdown",
   "id": "e3420c42-fb17-4111-98f6-9026b80305df",
   "metadata": {},
   "source": [
    "#### Prediccion con el DataSet reducido"
   ]
  },
  {
   "cell_type": "code",
   "execution_count": 103,
   "id": "7cf7d4c1-423f-4416-8c9d-3f41cab7c479",
   "metadata": {},
   "outputs": [],
   "source": [
    "y_pred = polynomial_svm_clf.predict(X_val_reduced)"
   ]
  },
  {
   "cell_type": "code",
   "execution_count": 109,
   "id": "44c6a51e-37ef-4e2e-953b-f8b76506669f",
   "metadata": {},
   "outputs": [
    {
     "name": "stdout",
     "output_type": "stream",
     "text": [
      "f1 score:  0.8574514038876889\n"
     ]
    }
   ],
   "source": [
    "print(\"f1 score: \", f1_score(y_pred, y_val_num))"
   ]
  },
  {
   "cell_type": "markdown",
   "id": "a434696b-ddc7-477e-be82-fe96e05c5807",
   "metadata": {},
   "source": [
    "#### Prediccion con un DataSet completo"
   ]
  },
  {
   "cell_type": "code",
   "execution_count": 114,
   "id": "1f807cf3-e1ea-46b9-8b7e-faf6b7cf3e46",
   "metadata": {},
   "outputs": [
    {
     "data": {
      "text/html": [
       "<style>#sk-container-id-6 {color: black;}#sk-container-id-6 pre{padding: 0;}#sk-container-id-6 div.sk-toggleable {background-color: white;}#sk-container-id-6 label.sk-toggleable__label {cursor: pointer;display: block;width: 100%;margin-bottom: 0;padding: 0.3em;box-sizing: border-box;text-align: center;}#sk-container-id-6 label.sk-toggleable__label-arrow:before {content: \"▸\";float: left;margin-right: 0.25em;color: #696969;}#sk-container-id-6 label.sk-toggleable__label-arrow:hover:before {color: black;}#sk-container-id-6 div.sk-estimator:hover label.sk-toggleable__label-arrow:before {color: black;}#sk-container-id-6 div.sk-toggleable__content {max-height: 0;max-width: 0;overflow: hidden;text-align: left;background-color: #f0f8ff;}#sk-container-id-6 div.sk-toggleable__content pre {margin: 0.2em;color: black;border-radius: 0.25em;background-color: #f0f8ff;}#sk-container-id-6 input.sk-toggleable__control:checked~div.sk-toggleable__content {max-height: 200px;max-width: 100%;overflow: auto;}#sk-container-id-6 input.sk-toggleable__control:checked~label.sk-toggleable__label-arrow:before {content: \"▾\";}#sk-container-id-6 div.sk-estimator input.sk-toggleable__control:checked~label.sk-toggleable__label {background-color: #d4ebff;}#sk-container-id-6 div.sk-label input.sk-toggleable__control:checked~label.sk-toggleable__label {background-color: #d4ebff;}#sk-container-id-6 input.sk-hidden--visually {border: 0;clip: rect(1px 1px 1px 1px);clip: rect(1px, 1px, 1px, 1px);height: 1px;margin: -1px;overflow: hidden;padding: 0;position: absolute;width: 1px;}#sk-container-id-6 div.sk-estimator {font-family: monospace;background-color: #f0f8ff;border: 1px dotted black;border-radius: 0.25em;box-sizing: border-box;margin-bottom: 0.5em;}#sk-container-id-6 div.sk-estimator:hover {background-color: #d4ebff;}#sk-container-id-6 div.sk-parallel-item::after {content: \"\";width: 100%;border-bottom: 1px solid gray;flex-grow: 1;}#sk-container-id-6 div.sk-label:hover label.sk-toggleable__label {background-color: #d4ebff;}#sk-container-id-6 div.sk-serial::before {content: \"\";position: absolute;border-left: 1px solid gray;box-sizing: border-box;top: 0;bottom: 0;left: 50%;z-index: 0;}#sk-container-id-6 div.sk-serial {display: flex;flex-direction: column;align-items: center;background-color: white;padding-right: 0.2em;padding-left: 0.2em;position: relative;}#sk-container-id-6 div.sk-item {position: relative;z-index: 1;}#sk-container-id-6 div.sk-parallel {display: flex;align-items: stretch;justify-content: center;background-color: white;position: relative;}#sk-container-id-6 div.sk-item::before, #sk-container-id-6 div.sk-parallel-item::before {content: \"\";position: absolute;border-left: 1px solid gray;box-sizing: border-box;top: 0;bottom: 0;left: 50%;z-index: -1;}#sk-container-id-6 div.sk-parallel-item {display: flex;flex-direction: column;z-index: 1;position: relative;background-color: white;}#sk-container-id-6 div.sk-parallel-item:first-child::after {align-self: flex-end;width: 50%;}#sk-container-id-6 div.sk-parallel-item:last-child::after {align-self: flex-start;width: 50%;}#sk-container-id-6 div.sk-parallel-item:only-child::after {width: 0;}#sk-container-id-6 div.sk-dashed-wrapped {border: 1px dashed gray;margin: 0 0.4em 0.5em 0.4em;box-sizing: border-box;padding-bottom: 0.4em;background-color: white;}#sk-container-id-6 div.sk-label label {font-family: monospace;font-weight: bold;display: inline-block;line-height: 1.2em;}#sk-container-id-6 div.sk-label-container {text-align: center;}#sk-container-id-6 div.sk-container {/* jupyter's `normalize.less` sets `[hidden] { display: none; }` but bootstrap.min.css set `[hidden] { display: none !important; }` so we also need the `!important` here to be able to override the default hidden behavior on the sphinx rendered scikit-learn.org. See: https://github.com/scikit-learn/scikit-learn/issues/21755 */display: inline-block !important;position: relative;}#sk-container-id-6 div.sk-text-repr-fallback {display: none;}</style><div id=\"sk-container-id-6\" class=\"sk-top-container\"><div class=\"sk-text-repr-fallback\"><pre>Pipeline(steps=[(&#x27;scaler&#x27;, RobustScaler()),\n",
       "                (&#x27;svm_clf&#x27;, SVC(C=1000, gamma=0.05))])</pre><b>In a Jupyter environment, please rerun this cell to show the HTML representation or trust the notebook. <br />On GitHub, the HTML representation is unable to render, please try loading this page with nbviewer.org.</b></div><div class=\"sk-container\" hidden><div class=\"sk-item sk-dashed-wrapped\"><div class=\"sk-label-container\"><div class=\"sk-label sk-toggleable\"><input class=\"sk-toggleable__control sk-hidden--visually\" id=\"sk-estimator-id-11\" type=\"checkbox\" ><label for=\"sk-estimator-id-11\" class=\"sk-toggleable__label sk-toggleable__label-arrow\">Pipeline</label><div class=\"sk-toggleable__content\"><pre>Pipeline(steps=[(&#x27;scaler&#x27;, RobustScaler()),\n",
       "                (&#x27;svm_clf&#x27;, SVC(C=1000, gamma=0.05))])</pre></div></div></div><div class=\"sk-serial\"><div class=\"sk-item\"><div class=\"sk-estimator sk-toggleable\"><input class=\"sk-toggleable__control sk-hidden--visually\" id=\"sk-estimator-id-12\" type=\"checkbox\" ><label for=\"sk-estimator-id-12\" class=\"sk-toggleable__label sk-toggleable__label-arrow\">RobustScaler</label><div class=\"sk-toggleable__content\"><pre>RobustScaler()</pre></div></div></div><div class=\"sk-item\"><div class=\"sk-estimator sk-toggleable\"><input class=\"sk-toggleable__control sk-hidden--visually\" id=\"sk-estimator-id-13\" type=\"checkbox\" ><label for=\"sk-estimator-id-13\" class=\"sk-toggleable__label sk-toggleable__label-arrow\">SVC</label><div class=\"sk-toggleable__content\"><pre>SVC(C=1000, gamma=0.05)</pre></div></div></div></div></div></div></div>"
      ],
      "text/plain": [
       "Pipeline(steps=[('scaler', RobustScaler()),\n",
       "                ('svm_clf', SVC(C=1000, gamma=0.05))])"
      ]
     },
     "execution_count": 114,
     "metadata": {},
     "output_type": "execute_result"
    }
   ],
   "source": [
    "rbf_kernel_svm_clf = Pipeline([\n",
    "    (\"scaler\", RobustScaler()),\n",
    "    (\"svm_clf\", SVC(kernel=\"rbf\", gamma=0.05, C=1000))\n",
    "])\n",
    "rbf_kernel_svm_clf.fit(X_train_prep, y_train_num)"
   ]
  },
  {
   "cell_type": "code",
   "execution_count": 116,
   "id": "d5070e52-24f5-43ba-9abc-bff5c3889651",
   "metadata": {},
   "outputs": [
    {
     "name": "stdout",
     "output_type": "stream",
     "text": [
      "f1 score:  0.9640522875816993\n"
     ]
    }
   ],
   "source": [
    "y_pred = rbf_kernel_svm_clf.predict(X_val_prep)\n",
    "print(\"f1 score: \", f1_score(y_pred, y_val_num))"
   ]
  },
  {
   "cell_type": "code",
   "execution_count": null,
   "id": "745d3709-17fe-4c27-8fe8-86e93e099f23",
   "metadata": {},
   "outputs": [],
   "source": []
  }
 ],
 "metadata": {
  "kernelspec": {
   "display_name": "Python 3 (ipykernel)",
   "language": "python",
   "name": "python3"
  },
  "language_info": {
   "codemirror_mode": {
    "name": "ipython",
    "version": 3
   },
   "file_extension": ".py",
   "mimetype": "text/x-python",
   "name": "python",
   "nbconvert_exporter": "python",
   "pygments_lexer": "ipython3",
   "version": "3.9.20"
  }
 },
 "nbformat": 4,
 "nbformat_minor": 5
}

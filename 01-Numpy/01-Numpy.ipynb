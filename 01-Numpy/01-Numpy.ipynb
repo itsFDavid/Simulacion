{
 "cells": [
  {
   "cell_type": "markdown",
   "id": "cfab680c-66f0-4e78-9315-e0d61fa887a7",
   "metadata": {},
   "source": [
    "# Introduccion a Numpy"
   ]
  },
  {
   "cell_type": "markdown",
   "id": "9cdc7c8e-663c-4a7a-82b9-542e265afbc6",
   "metadata": {},
   "source": [
    "**Numpy es una bliblioteca fundamental para la cumputación cientifica con Python.**\n",
    "* Proporciona arrays N-dimensiones.\n",
    "* Proporciona funciones matematticas sofesticadas.\n",
    "* Implementa herramientas para integrar C/C++.\n",
    "* Proporciona mecanismos para facilitar la realizacion de tareas relacionadas con algebra lineal o números aleatorios."
   ]
  },
  {
   "cell_type": "markdown",
   "id": "a71b2250-d280-4f4f-8a4f-86a8ff2fcb14",
   "metadata": {},
   "source": [
    "## Imports"
   ]
  },
  {
   "cell_type": "code",
   "execution_count": 4,
   "id": "097bfa72-39f8-48c6-af11-86bfa9bc0a8e",
   "metadata": {},
   "outputs": [],
   "source": [
    "import numpy as np"
   ]
  },
  {
   "cell_type": "markdown",
   "id": "aeaee8c4-d3e9-4f59-9dd5-ca0b4d51d0ff",
   "metadata": {},
   "source": [
    "## Arrays\n"
   ]
  },
  {
   "cell_type": "markdown",
   "id": "f9ba9f26-6c7c-4df4-accd-def3c0d83436",
   "metadata": {},
   "source": [
    "Un **array** es una estructura de datos que consiste en una coleccion de elementos (valores o variables), cada uno identifcado por almenos un indece o clave. Un **array** se almacena de modo que la posicion de cada elemento se pueda calcular a partir de su tupla de indice mediante uan fórmula matemática. El tipo mas simple de array es un lineal, tambien llamado array unidimensional.  "
   ]
  },
  {
   "cell_type": "markdown",
   "id": "15a807b1-c72c-416c-9577-b055d0368845",
   "metadata": {},
   "source": [
    "#### En Numpy:\n",
    "* Cada dimension de denominda **axis**.\n",
    "* El numero de dimensiones de denomina **rank**.\n",
    "* La lista de dimensiones con su correspondiente longitud se denomina **shape**.\n",
    "* El numero total de elementos (multiplicacion de la longitud de las dimensiones) se denomina **size**."
   ]
  },
  {
   "cell_type": "code",
   "execution_count": 8,
   "id": "09aa892f-8041-4b4f-8ae1-f32f5690dc50",
   "metadata": {},
   "outputs": [],
   "source": [
    "# Array cuyos valores son todos 0\n",
    "a = np.zeros((2,4))"
   ]
  },
  {
   "cell_type": "code",
   "execution_count": 9,
   "id": "6ee22cde-84de-409c-8e35-28f008525ba6",
   "metadata": {},
   "outputs": [
    {
     "data": {
      "text/plain": [
       "array([[0., 0., 0., 0.],\n",
       "       [0., 0., 0., 0.]])"
      ]
     },
     "execution_count": 9,
     "metadata": {},
     "output_type": "execute_result"
    }
   ],
   "source": [
    "a"
   ]
  },
  {
   "cell_type": "markdown",
   "id": "c9665dff-8b40-4cfa-9460-d2f14d86d4d3",
   "metadata": {},
   "source": [
    "**a** es un array:\n",
    "* Con dos **axis**, elprimero de longitud 2 y el segundo de longitud 4.\n",
    "* Con un **rank** igual a 2.\n",
    "* Con un **shape** igual a (2,4).\n",
    "* Con un **size** igual a 8."
   ]
  },
  {
   "cell_type": "code",
   "execution_count": 11,
   "id": "628197d8-e37c-4973-bb76-785483cad94d",
   "metadata": {},
   "outputs": [
    {
     "data": {
      "text/plain": [
       "(2, 4)"
      ]
     },
     "execution_count": 11,
     "metadata": {},
     "output_type": "execute_result"
    }
   ],
   "source": [
    "a.shape"
   ]
  },
  {
   "cell_type": "code",
   "execution_count": 12,
   "id": "ec2c8503-57c8-4d21-93d4-7236722a4a5c",
   "metadata": {},
   "outputs": [
    {
     "data": {
      "text/plain": [
       "2"
      ]
     },
     "execution_count": 12,
     "metadata": {},
     "output_type": "execute_result"
    }
   ],
   "source": [
    "a.ndim"
   ]
  },
  {
   "cell_type": "code",
   "execution_count": 13,
   "id": "39357a09-d993-49a5-97ab-b665eff0f841",
   "metadata": {},
   "outputs": [
    {
     "data": {
      "text/plain": [
       "8"
      ]
     },
     "execution_count": 13,
     "metadata": {},
     "output_type": "execute_result"
    }
   ],
   "source": [
    "a.size"
   ]
  },
  {
   "cell_type": "markdown",
   "id": "5a305a12-dcc2-4fba-8f2b-f1e8ef3daad3",
   "metadata": {},
   "source": [
    "### Creación de Arrays"
   ]
  },
  {
   "cell_type": "code",
   "execution_count": 15,
   "id": "2bd0f797-45cc-4628-8f60-f5a6af318c0a",
   "metadata": {},
   "outputs": [
    {
     "data": {
      "text/plain": [
       "array([[[0., 0., 0., 0.],\n",
       "        [0., 0., 0., 0.],\n",
       "        [0., 0., 0., 0.]],\n",
       "\n",
       "       [[0., 0., 0., 0.],\n",
       "        [0., 0., 0., 0.],\n",
       "        [0., 0., 0., 0.]]])"
      ]
     },
     "execution_count": 15,
     "metadata": {},
     "output_type": "execute_result"
    }
   ],
   "source": [
    "# Array cuyos valores son todos 0.\n",
    "np.zeros((2, 3, 4))"
   ]
  },
  {
   "cell_type": "code",
   "execution_count": 16,
   "id": "f12a2889-ed6f-403a-84c4-e10544e88525",
   "metadata": {},
   "outputs": [
    {
     "data": {
      "text/plain": [
       "array([[[1., 1., 1., 1.],\n",
       "        [1., 1., 1., 1.],\n",
       "        [1., 1., 1., 1.]],\n",
       "\n",
       "       [[1., 1., 1., 1.],\n",
       "        [1., 1., 1., 1.],\n",
       "        [1., 1., 1., 1.]]])"
      ]
     },
     "execution_count": 16,
     "metadata": {},
     "output_type": "execute_result"
    }
   ],
   "source": [
    "# Array cuyos valores son todos 1\n",
    "np.ones((2, 3, 4))"
   ]
  },
  {
   "cell_type": "code",
   "execution_count": 17,
   "id": "d18e4d89-d52a-4f37-800a-aad1f4f67f5c",
   "metadata": {},
   "outputs": [
    {
     "data": {
      "text/plain": [
       "array([[[8, 8, 8, 8],\n",
       "        [8, 8, 8, 8],\n",
       "        [8, 8, 8, 8]],\n",
       "\n",
       "       [[8, 8, 8, 8],\n",
       "        [8, 8, 8, 8],\n",
       "        [8, 8, 8, 8]]])"
      ]
     },
     "execution_count": 17,
     "metadata": {},
     "output_type": "execute_result"
    }
   ],
   "source": [
    "# Array cuyos valores son todos indicados\n",
    "np.full((2, 3, 4), 8)"
   ]
  },
  {
   "cell_type": "code",
   "execution_count": null,
   "id": "59eba7b0-479e-4a02-98f7-14076cc08a0f",
   "metadata": {},
   "outputs": [],
   "source": [
    "# Aqui me faltan 2 ejemplos "
   ]
  },
  {
   "cell_type": "code",
   "execution_count": 18,
   "id": "1a57a410-3f75-4d80-9bd5-2a2b5df208b6",
   "metadata": {},
   "outputs": [
    {
     "name": "stdout",
     "output_type": "stream",
     "text": [
      "[0.         0.66666667 1.33333333 2.         2.66666667 3.33333333\n",
      " 4.         4.66666667 5.33333333 6.        ]\n"
     ]
    }
   ],
   "source": [
    "# Creacion de una funcion basada en rangos\n",
    "# (min, max, numero de elementos del array)\n",
    "print(np.linspace(0, 6, 10))"
   ]
  },
  {
   "cell_type": "code",
   "execution_count": 29,
   "id": "f87fe155-88a1-463f-ac85-91396bec63d7",
   "metadata": {},
   "outputs": [
    {
     "data": {
      "text/plain": [
       "array([[[0.5927113 , 0.32085669, 0.23408556, 0.88248261],\n",
       "        [0.49478963, 0.44888918, 0.55702587, 0.71981015],\n",
       "        [0.37951464, 0.49502189, 0.39927643, 0.26423274]],\n",
       "\n",
       "       [[0.50896284, 0.18569562, 0.79631242, 0.1302455 ],\n",
       "        [0.3335445 , 0.73206417, 0.64393201, 0.00750344],\n",
       "        [0.22408472, 0.46302489, 0.04444763, 0.48121229]]])"
      ]
     },
     "execution_count": 29,
     "metadata": {},
     "output_type": "execute_result"
    }
   ],
   "source": [
    "# Inicializar un array con valores alatorios\n",
    "np.random.rand(2, 3, 4)"
   ]
  },
  {
   "cell_type": "code",
   "execution_count": 31,
   "id": "10730b4c-0449-4486-9885-ab9c38b7fcb8",
   "metadata": {},
   "outputs": [
    {
     "data": {
      "text/plain": [
       "array([[ 1.31639697, -0.80292635, -0.81633259,  0.03546202],\n",
       "       [-1.25571647,  0.1906906 , -0.49384093, -0.39911751]])"
      ]
     },
     "execution_count": 31,
     "metadata": {},
     "output_type": "execute_result"
    }
   ],
   "source": [
    "# Inicializar un array con valores aleatorios conforme a una distrubucion normal\n",
    "np.random.randn(2, 4)"
   ]
  }
 ],
 "metadata": {
  "kernelspec": {
   "display_name": "Python 3 (ipykernel)",
   "language": "python",
   "name": "python3"
  },
  "language_info": {
   "codemirror_mode": {
    "name": "ipython",
    "version": 3
   },
   "file_extension": ".py",
   "mimetype": "text/x-python",
   "name": "python",
   "nbconvert_exporter": "python",
   "pygments_lexer": "ipython3",
   "version": "3.9.19"
  }
 },
 "nbformat": 4,
 "nbformat_minor": 5
}

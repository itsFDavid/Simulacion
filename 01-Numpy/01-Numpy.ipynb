{
 "cells": [
  {
   "cell_type": "markdown",
   "id": "cfab680c-66f0-4e78-9315-e0d61fa887a7",
   "metadata": {},
   "source": [
    "# Introduccion a Numpy"
   ]
  },
  {
   "cell_type": "markdown",
   "id": "9cdc7c8e-663c-4a7a-82b9-542e265afbc6",
   "metadata": {},
   "source": [
    "**Numpy es una bliblioteca fundamental para la cumputación cientifica con Python.**\n",
    "* Proporciona arrays N-dimensiones.\n",
    "* Proporciona funciones matematticas sofesticadas.\n",
    "* Implementa herramientas para integrar C/C++.\n",
    "* Proporciona mecanismos para facilitar la realizacion de tareas relacionadas con algebra lineal o números aleatorios."
   ]
  },
  {
   "cell_type": "markdown",
   "id": "a71b2250-d280-4f4f-8a4f-86a8ff2fcb14",
   "metadata": {},
   "source": [
    "## Imports"
   ]
  },
  {
   "cell_type": "code",
   "execution_count": 4,
   "id": "097bfa72-39f8-48c6-af11-86bfa9bc0a8e",
   "metadata": {},
   "outputs": [],
   "source": [
    "import numpy as np"
   ]
  },
  {
   "cell_type": "markdown",
   "id": "aeaee8c4-d3e9-4f59-9dd5-ca0b4d51d0ff",
   "metadata": {},
   "source": [
    "## Arrays\n"
   ]
  },
  {
   "cell_type": "markdown",
   "id": "f9ba9f26-6c7c-4df4-accd-def3c0d83436",
   "metadata": {},
   "source": [
    "Un **array** es una estructura de datos que consiste en una coleccion de elementos (valores o variables), cada uno identifcado por almenos un indece o clave. Un **array** se almacena de modo que la posicion de cada elemento se pueda calcular a partir de su tupla de indice mediante uan fórmula matemática. El tipo mas simple de array es un lineal, tambien llamado array unidimensional.  "
   ]
  },
  {
   "cell_type": "markdown",
   "id": "15a807b1-c72c-416c-9577-b055d0368845",
   "metadata": {},
   "source": [
    "#### En Numpy:\n",
    "* Cada dimension de denominda **axis**.\n",
    "* El numero de dimensiones de denomina **rank**.\n",
    "* La lista de dimensiones con su correspondiente longitud se denomina **shape**.\n",
    "* El numero total de elementos (multiplicacion de la longitud de las dimensiones) se denomina **size**."
   ]
  },
  {
   "cell_type": "code",
   "execution_count": 8,
   "id": "09aa892f-8041-4b4f-8ae1-f32f5690dc50",
   "metadata": {},
   "outputs": [],
   "source": [
    "# Array cuyos valores son todos 0\n",
    "a = np.zeros((2,4))"
   ]
  },
  {
   "cell_type": "code",
   "execution_count": 9,
   "id": "6ee22cde-84de-409c-8e35-28f008525ba6",
   "metadata": {},
   "outputs": [
    {
     "data": {
      "text/plain": [
       "array([[0., 0., 0., 0.],\n",
       "       [0., 0., 0., 0.]])"
      ]
     },
     "execution_count": 9,
     "metadata": {},
     "output_type": "execute_result"
    }
   ],
   "source": [
    "a"
   ]
  },
  {
   "cell_type": "markdown",
   "id": "c9665dff-8b40-4cfa-9460-d2f14d86d4d3",
   "metadata": {},
   "source": [
    "**a** es un array:\n",
    "* Con dos **axis**, elprimero de longitud 2 y el segundo de longitud 4.\n",
    "* Con un **rank** igual a 2.\n",
    "* Con un **shape** igual a (2,4).\n",
    "* Con un **size** igual a 8."
   ]
  },
  {
   "cell_type": "code",
   "execution_count": 11,
   "id": "628197d8-e37c-4973-bb76-785483cad94d",
   "metadata": {},
   "outputs": [
    {
     "data": {
      "text/plain": [
       "(2, 4)"
      ]
     },
     "execution_count": 11,
     "metadata": {},
     "output_type": "execute_result"
    }
   ],
   "source": [
    "a.shape"
   ]
  },
  {
   "cell_type": "code",
   "execution_count": 12,
   "id": "ec2c8503-57c8-4d21-93d4-7236722a4a5c",
   "metadata": {},
   "outputs": [
    {
     "data": {
      "text/plain": [
       "2"
      ]
     },
     "execution_count": 12,
     "metadata": {},
     "output_type": "execute_result"
    }
   ],
   "source": [
    "a.ndim"
   ]
  },
  {
   "cell_type": "code",
   "execution_count": 13,
   "id": "39357a09-d993-49a5-97ab-b665eff0f841",
   "metadata": {},
   "outputs": [
    {
     "data": {
      "text/plain": [
       "8"
      ]
     },
     "execution_count": 13,
     "metadata": {},
     "output_type": "execute_result"
    }
   ],
   "source": [
    "a.size"
   ]
  },
  {
   "cell_type": "markdown",
   "id": "5a305a12-dcc2-4fba-8f2b-f1e8ef3daad3",
   "metadata": {},
   "source": [
    "### Creación de Arrays"
   ]
  },
  {
   "cell_type": "code",
   "execution_count": 15,
   "id": "2bd0f797-45cc-4628-8f60-f5a6af318c0a",
   "metadata": {},
   "outputs": [
    {
     "data": {
      "text/plain": [
       "array([[[0., 0., 0., 0.],\n",
       "        [0., 0., 0., 0.],\n",
       "        [0., 0., 0., 0.]],\n",
       "\n",
       "       [[0., 0., 0., 0.],\n",
       "        [0., 0., 0., 0.],\n",
       "        [0., 0., 0., 0.]]])"
      ]
     },
     "execution_count": 15,
     "metadata": {},
     "output_type": "execute_result"
    }
   ],
   "source": [
    "# Array cuyos valores son todos 0.\n",
    "np.zeros((2, 3, 4))"
   ]
  },
  {
   "cell_type": "code",
   "execution_count": 16,
   "id": "f12a2889-ed6f-403a-84c4-e10544e88525",
   "metadata": {},
   "outputs": [
    {
     "data": {
      "text/plain": [
       "array([[[1., 1., 1., 1.],\n",
       "        [1., 1., 1., 1.],\n",
       "        [1., 1., 1., 1.]],\n",
       "\n",
       "       [[1., 1., 1., 1.],\n",
       "        [1., 1., 1., 1.],\n",
       "        [1., 1., 1., 1.]]])"
      ]
     },
     "execution_count": 16,
     "metadata": {},
     "output_type": "execute_result"
    }
   ],
   "source": [
    "# Array cuyos valores son todos 1\n",
    "np.ones((2, 3, 4))"
   ]
  },
  {
   "cell_type": "code",
   "execution_count": 17,
   "id": "d18e4d89-d52a-4f37-800a-aad1f4f67f5c",
   "metadata": {},
   "outputs": [
    {
     "data": {
      "text/plain": [
       "array([[[8, 8, 8, 8],\n",
       "        [8, 8, 8, 8],\n",
       "        [8, 8, 8, 8]],\n",
       "\n",
       "       [[8, 8, 8, 8],\n",
       "        [8, 8, 8, 8],\n",
       "        [8, 8, 8, 8]]])"
      ]
     },
     "execution_count": 17,
     "metadata": {},
     "output_type": "execute_result"
    }
   ],
   "source": [
    "# Array cuyos valores son todos indicados\n",
    "np.full((2, 3, 4), 8)"
   ]
  },
  {
   "cell_type": "code",
   "execution_count": 18,
   "id": "59eba7b0-479e-4a02-98f7-14076cc08a0f",
   "metadata": {},
   "outputs": [],
   "source": [
    "# Aqui me faltan 2 ejemplos "
   ]
  },
  {
   "cell_type": "code",
   "execution_count": 19,
   "id": "1a57a410-3f75-4d80-9bd5-2a2b5df208b6",
   "metadata": {},
   "outputs": [
    {
     "name": "stdout",
     "output_type": "stream",
     "text": [
      "[0.         0.66666667 1.33333333 2.         2.66666667 3.33333333\n",
      " 4.         4.66666667 5.33333333 6.        ]\n"
     ]
    }
   ],
   "source": [
    "# Creacion de una funcion basada en rangos\n",
    "# (min, max, numero de elementos del array)\n",
    "print(np.linspace(0, 6, 10))"
   ]
  },
  {
   "cell_type": "code",
   "execution_count": 20,
   "id": "f87fe155-88a1-463f-ac85-91396bec63d7",
   "metadata": {},
   "outputs": [
    {
     "data": {
      "text/plain": [
       "array([[[0.33453576, 0.48424131, 0.9948873 , 0.43450695],\n",
       "        [0.66749393, 0.95204664, 0.6550788 , 0.92928815],\n",
       "        [0.62073145, 0.19177327, 0.50459844, 0.12907349]],\n",
       "\n",
       "       [[0.88892951, 0.22253658, 0.85608372, 0.69029895],\n",
       "        [0.43974175, 0.07302511, 0.57329265, 0.96291296],\n",
       "        [0.94629799, 0.89237468, 0.60078532, 0.18038384]]])"
      ]
     },
     "execution_count": 20,
     "metadata": {},
     "output_type": "execute_result"
    }
   ],
   "source": [
    "# Inicializar un array con valores alatorios\n",
    "np.random.rand(2, 3, 4)"
   ]
  },
  {
   "cell_type": "code",
   "execution_count": 21,
   "id": "10730b4c-0449-4486-9885-ab9c38b7fcb8",
   "metadata": {},
   "outputs": [
    {
     "data": {
      "text/plain": [
       "array([[-0.89436373,  0.43410784,  1.76352089, -0.22572465],\n",
       "       [ 0.02604388,  1.14401615, -0.06625447,  0.12534534]])"
      ]
     },
     "execution_count": 21,
     "metadata": {},
     "output_type": "execute_result"
    }
   ],
   "source": [
    "# Inicializar un array con valores aleatorios conforme a una distrubucion normal\n",
    "np.random.randn(2, 4)"
   ]
  },
  {
   "cell_type": "code",
   "execution_count": 22,
   "id": "776db016-446b-480a-8f6d-2a910691e62b",
   "metadata": {},
   "outputs": [
    {
     "data": {
      "image/png": "[encoded data removed]",
      "text/plain": [
       "<Figure size 640x480 with 1 Axes>"
      ]
     },
     "metadata": {},
     "output_type": "display_data"
    }
   ],
   "source": [
    "%matplotlib inline\n",
    "import matplotlib.pyplot as plt\n",
    "c = np.random.randn(100000)\n",
    "plt.hist(c, bins=300)\n",
    "plt.show()"
   ]
  },
  {
   "cell_type": "code",
   "execution_count": 23,
   "id": "b073f76d-207e-4bf2-bb2e-e6a5ee3877a3",
   "metadata": {},
   "outputs": [
    {
     "data": {
      "text/plain": [
       "array([[ 0.,  2.,  4.,  6.,  8.],\n",
       "       [ 1.,  3.,  5.,  7.,  9.],\n",
       "       [ 2.,  4.,  6.,  8., 10.]])"
      ]
     },
     "execution_count": 23,
     "metadata": {},
     "output_type": "execute_result"
    }
   ],
   "source": [
    "# Inicializar un array utilizando una funcion personalizada\n",
    "def func(x , y):\n",
    "    return x + 2 * y\n",
    "\n",
    "np.fromfunction(func, (3, 5))"
   ]
  },
  {
   "cell_type": "markdown",
   "id": "7d6807c6-dd57-4900-9580-8afba6287eed",
   "metadata": {},
   "source": [
    "## Acceso a los elementos de un array\n",
    "### Array unidimensional "
   ]
  },
  {
   "cell_type": "code",
   "execution_count": 25,
   "id": "01a16974-4b35-41cc-aaf2-00222105d136",
   "metadata": {},
   "outputs": [
    {
     "name": "stdout",
     "output_type": "stream",
     "text": [
      "shape:  (6,)\n",
      "array_uni: [ 1  3  5  7  9 11]\n"
     ]
    }
   ],
   "source": [
    "# Creación de un arrray unidimensional\n",
    "array_uni= np.array([1, 3, 5, 7, 9, 11])\n",
    "print(\"shape: \", array_uni.shape)\n",
    "print(\"array_uni:\", array_uni)"
   ]
  },
  {
   "cell_type": "code",
   "execution_count": 26,
   "id": "5d71b830-0d32-4061-9ad1-64651352616c",
   "metadata": {},
   "outputs": [
    {
     "data": {
      "text/plain": [
       "np.int64(9)"
      ]
     },
     "execution_count": 26,
     "metadata": {},
     "output_type": "execute_result"
    }
   ],
   "source": [
    "# Accediendo al 5to elemento del array\n",
    "array_uni[4]"
   ]
  },
  {
   "cell_type": "code",
   "execution_count": 27,
   "id": "86d28ebd-8968-4874-867e-95374d31224a",
   "metadata": {},
   "outputs": [
    {
     "data": {
      "text/plain": [
       "array([5, 7])"
      ]
     },
     "execution_count": 27,
     "metadata": {},
     "output_type": "execute_result"
    }
   ],
   "source": [
    "# Accediendo al 3ro y 4to elemento del array\n",
    "array_uni[2:4]"
   ]
  },
  {
   "cell_type": "code",
   "execution_count": 63,
   "id": "11a1d4ee-55ec-4996-9dcf-2ecff9e9cdd0",
   "metadata": {},
   "outputs": [
    {
     "data": {
      "text/plain": [
       "array([ 1, 11])"
      ]
     },
     "execution_count": 63,
     "metadata": {},
     "output_type": "execute_result"
    }
   ],
   "source": [
    "# Acceder a los elementos 0, 3, 5 del array\n",
    "array_uni[0::5]"
   ]
  },
  {
   "cell_type": "markdown",
   "id": "ff5b2880-6e90-4cbb-a687-154be235b86f",
   "metadata": {},
   "source": [
    "## Array multidimensional"
   ]
  },
  {
   "cell_type": "code",
   "execution_count": 66,
   "id": "c6a487e5-d066-4f04-b567-aa813b9f908a",
   "metadata": {},
   "outputs": [
    {
     "name": "stdout",
     "output_type": "stream",
     "text": [
      "shape:  (2, 4)\n",
      "array_uni: [[1 2 3 4]\n",
      " [5 6 7 8]]\n"
     ]
    }
   ],
   "source": [
    "# Creacion de array multidimensional\n",
    "array_multi = np.array([[1, 2 ,3 ,4], [5, 6, 7 ,8]])\n",
    "print(\"shape: \", array_multi.shape)\n",
    "print(\"array_multi:\", array_multi)"
   ]
  },
  {
   "cell_type": "code",
   "execution_count": 68,
   "id": "b9e8aa27-35d4-4ed8-89db-b58f1e3bbc9b",
   "metadata": {},
   "outputs": [
    {
     "data": {
      "text/plain": [
       "np.int64(4)"
      ]
     },
     "execution_count": 68,
     "metadata": {},
     "output_type": "execute_result"
    }
   ],
   "source": [
    "# Accediendo al 4to elemento del array\n",
    "array_multi[0, 3]"
   ]
  },
  {
   "cell_type": "code",
   "execution_count": 70,
   "id": "5ed6b611-3540-470e-b117-229a8f3cec91",
   "metadata": {},
   "outputs": [
    {
     "data": {
      "text/plain": [
       "array([5, 6, 7, 8])"
      ]
     },
     "execution_count": 70,
     "metadata": {},
     "output_type": "execute_result"
    }
   ],
   "source": [
    "# Accediendo a la segunda fila del array\n",
    "# el : sirve para recorrer todos los elementos del array\n",
    "array_multi[1, :]"
   ]
  },
  {
   "cell_type": "code",
   "execution_count": 72,
   "id": "c2ed50b4-5b54-47bf-91b4-456721d53960",
   "metadata": {},
   "outputs": [
    {
     "data": {
      "text/plain": [
       "array([3, 7])"
      ]
     },
     "execution_count": 72,
     "metadata": {},
     "output_type": "execute_result"
    }
   ],
   "source": [
    "# Accediendo al 3ro elemento de las 2 primeras filas del array\n",
    "array_multi[0: 2, 2]"
   ]
  },
  {
   "cell_type": "markdown",
   "id": "051cda25-38bc-44ad-9028-0b41d4a2a3fc",
   "metadata": {},
   "source": [
    "## Modificacion de un Array"
   ]
  },
  {
   "cell_type": "code",
   "execution_count": 115,
   "id": "346ab7a6-dd0c-46e5-825c-102c664bc351",
   "metadata": {},
   "outputs": [
    {
     "name": "stdout",
     "output_type": "stream",
     "text": [
      "shape:  (28,)\n",
      "array1: \n",
      " [ 0  1  2  3  4  5  6  7  8  9 10 11 12 13 14 15 16 17 18 19 20 21 22 23\n",
      " 24 25 26 27]\n"
     ]
    }
   ],
   "source": [
    "# Creacion de un aaray unidimensional inicializando el rango con el rango de elementos que va del 0 al 27\n",
    "array1 = np.arange(28)\n",
    "print(\"shape: \", array1.shape)\n",
    "print(\"array1: \\n\", array1)"
   ]
  },
  {
   "cell_type": "code",
   "execution_count": 121,
   "id": "ee3e2228-1f9a-42e6-a9ef-e4e4a09da8e4",
   "metadata": {},
   "outputs": [
    {
     "name": "stdout",
     "output_type": "stream",
     "text": [
      "shape:  (7, 4)\n",
      "array1: \n",
      " [[ 0  1  2  3]\n",
      " [ 4  5  6  7]\n",
      " [ 8  9 10 11]\n",
      " [12 13 14 15]\n",
      " [16 17 18 19]\n",
      " [20 21 22 23]\n",
      " [24 25 26 27]]\n"
     ]
    }
   ],
   "source": [
    "# Cambiar las dimensiones del array y longitudes\n",
    "array1.shape = (7, 4) \n",
    "print(\"shape: \", array1.shape)\n",
    "print(\"array1: \\n\", array1)"
   ]
  },
  {
   "cell_type": "code",
   "execution_count": 119,
   "id": "6aa4ec7a-42ac-4ad6-8866-c20f785c7d4e",
   "metadata": {},
   "outputs": [
    {
     "name": "stdout",
     "output_type": "stream",
     "text": [
      "shape:  (4, 7)\n",
      "array2: \n",
      " [[ 0  1  2  3  4  5  6]\n",
      " [ 7  8  9 10 11 12 13]\n",
      " [14 15 16 17 18 19 20]\n",
      " [21 22 23 24 25 26 27]]\n"
     ]
    }
   ],
   "source": [
    "# El ejemplo anterior devuelve un nuevo array que apunta a los mismos datos\n",
    "# NOTA: las modificaciones en un array, modifican el otro array\n",
    "array2= array1.reshape(4, 7)\n",
    "print(\"shape: \", array2.shape)\n",
    "print(\"array2: \\n\", array2)"
   ]
  },
  {
   "cell_type": "code",
   "execution_count": 125,
   "id": "d8e7b4d1-05fd-41ba-b61d-7210c8878fb7",
   "metadata": {},
   "outputs": [
    {
     "name": "stdout",
     "output_type": "stream",
     "text": [
      "Array2: \n",
      " [[ 0  1  2 20  4  5  6]\n",
      " [ 7  8  9 10 11 12 13]\n",
      " [14 15 16 17 18 19 20]\n",
      " [21 22 23 24 25 26 27]]\n"
     ]
    }
   ],
   "source": [
    "# Modificacion del array devuelto\n",
    "array2[0,3]= 20\n",
    "print(\"Array2: \\n\", array2)"
   ]
  },
  {
   "cell_type": "code",
   "execution_count": 129,
   "id": "cfed7407-3b2c-40b0-9a22-ab824b5eff42",
   "metadata": {},
   "outputs": [
    {
     "name": "stdout",
     "output_type": "stream",
     "text": [
      "Array1: \n",
      " [[ 0  1  2 20]\n",
      " [ 4  5  6  7]\n",
      " [ 8  9 10 11]\n",
      " [12 13 14 15]\n",
      " [16 17 18 19]\n",
      " [20 21 22 23]\n",
      " [24 25 26 27]]\n"
     ]
    }
   ],
   "source": [
    "print(\"Array1: \\n\", array1)"
   ]
  },
  {
   "cell_type": "code",
   "execution_count": 133,
   "id": "5e04c722-1d80-42e1-9a8d-7bc589ce5feb",
   "metadata": {},
   "outputs": [
    {
     "name": "stdout",
     "output_type": "stream",
     "text": [
      "Array1: \n",
      " [ 0  1  2 20  4  5  6  7  8  9 10 11 12 13 14 15 16 17 18 19 20 21 22 23\n",
      " 24 25 26 27]\n"
     ]
    }
   ],
   "source": [
    "# Devuelve el array a una sola dimension\n",
    "# NOTA: el nuevo array apunta a los mismos datos\n",
    "print(\"Array1: \\n\", array1.ravel())"
   ]
  },
  {
   "cell_type": "markdown",
   "id": "9d67661f-f027-4769-897a-afa3bab35a18",
   "metadata": {},
   "source": [
    "## Operaciones aritméticas con arrays"
   ]
  },
  {
   "cell_type": "code",
   "execution_count": 139,
   "id": "a83c9177-8c2b-4840-9199-42db968da48a",
   "metadata": {},
   "outputs": [
    {
     "name": "stdout",
     "output_type": "stream",
     "text": [
      "Array1: \n",
      " [ 2  4  6  8 10 12 14 16]\n",
      "Array2: \n",
      " [0 1 2 3 4 5 6 7]\n"
     ]
    }
   ],
   "source": [
    "# Creacion de 2 arrays unidimensionales.\n",
    "array1= np.arange(2, 18, 2)\n",
    "array2= np.arange(8)\n",
    "print(\"Array1: \\n\", array1)\n",
    "print(\"Array2: \\n\", array2)\n"
   ]
  },
  {
   "cell_type": "code",
   "execution_count": 141,
   "id": "b1f85891-8d2f-4a53-9417-472f777968d8",
   "metadata": {},
   "outputs": [
    {
     "name": "stdout",
     "output_type": "stream",
     "text": [
      "[ 2  5  8 11 14 17 20 23]\n"
     ]
    }
   ],
   "source": [
    "# Suma\n",
    "print(array1 + array2)"
   ]
  },
  {
   "cell_type": "code",
   "execution_count": 143,
   "id": "885ac8dc-42ea-4d92-b480-ac09b2d99f9a",
   "metadata": {},
   "outputs": [
    {
     "name": "stdout",
     "output_type": "stream",
     "text": [
      "[2 3 4 5 6 7 8 9]\n"
     ]
    }
   ],
   "source": [
    "# Resta\n",
    "print(array1 - array2)"
   ]
  },
  {
   "cell_type": "code",
   "execution_count": 145,
   "id": "ff8a5855-e389-4eef-a3f7-06bb46731f97",
   "metadata": {},
   "outputs": [
    {
     "name": "stdout",
     "output_type": "stream",
     "text": [
      "[  0   4  12  24  40  60  84 112]\n"
     ]
    }
   ],
   "source": [
    "# Multiplicacion\n",
    "# NOTA: no es una multiplicacion de matrices.\n",
    "print(array1 * array2)"
   ]
  }
 ],
 "metadata": {
  "kernelspec": {
   "display_name": "Python 3 (ipykernel)",
   "language": "python",
   "name": "python3"
  },
  "language_info": {
   "codemirror_mode": {
    "name": "ipython",
    "version": 3
   },
   "file_extension": ".py",
   "mimetype": "text/x-python",
   "name": "python",
   "nbconvert_exporter": "python",
   "pygments_lexer": "ipython3",
   "version": "3.9.19"
  }
 },
 "nbformat": 4,
 "nbformat_minor": 5
}

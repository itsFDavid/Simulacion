{
 "cells": [
  {
   "cell_type": "markdown",
   "id": "cfab680c-66f0-4e78-9315-e0d61fa887a7",
   "metadata": {},
   "source": [
    "# Introduccion a Numpy"
   ]
  },
  {
   "cell_type": "markdown",
   "id": "9cdc7c8e-663c-4a7a-82b9-542e265afbc6",
   "metadata": {},
   "source": [
    "**Numpy es una bliblioteca fundamental para la cumputación cientifica con Python.**\n",
    "* Proporciona arrays N-dimensiones.\n",
    "* Proporciona funciones matematticas sofesticadas.\n",
    "* Implementa herramientas para integrar C/C++.\n",
    "* Proporciona mecanismos para facilitar la realizacion de tareas relacionadas con algebra lineal o números aleatorios."
   ]
  },
  {
   "cell_type": "markdown",
   "id": "a71b2250-d280-4f4f-8a4f-86a8ff2fcb14",
   "metadata": {},
   "source": [
    "## Imports"
   ]
  },
  {
   "cell_type": "code",
   "execution_count": 6,
   "id": "097bfa72-39f8-48c6-af11-86bfa9bc0a8e",
   "metadata": {},
   "outputs": [],
   "source": [
    "import numpy as np"
   ]
  },
  {
   "cell_type": "markdown",
   "id": "aeaee8c4-d3e9-4f59-9dd5-ca0b4d51d0ff",
   "metadata": {},
   "source": [
    "## Arrays\n"
   ]
  },
  {
   "cell_type": "markdown",
   "id": "f9ba9f26-6c7c-4df4-accd-def3c0d83436",
   "metadata": {},
   "source": [
    "Un **array** es una estructura de datos que consiste en una coleccion de elementos (valores o variables), cada uno identifcado por almenos un indece o clave. Un **array** se almacena de modo que la posicion de cada elemento se pueda calcular a partir de su tupla de indice mediante uan fórmula matemática. El tipo mas simple de array es un lineal, tambien llamado array unidimensional.  "
   ]
  },
  {
   "cell_type": "markdown",
   "id": "15a807b1-c72c-416c-9577-b055d0368845",
   "metadata": {},
   "source": [
    "#### En Numpy:"
   ]
  },
  {
   "cell_type": "code",
   "execution_count": 14,
   "id": "322b3d50-82c0-456d-b094-4d9dc555a9a5",
   "metadata": {},
   "outputs": [
    {
     "ename": "SyntaxError",
     "evalue": "invalid syntax (1852182671.py, line 1)",
     "output_type": "error",
     "traceback": [
      "\u001b[0;36m  Cell \u001b[0;32mIn[14], line 1\u001b[0;36m\u001b[0m\n\u001b[0;31m    *Cada dimension de denominda **axis**.\u001b[0m\n\u001b[0m          ^\u001b[0m\n\u001b[0;31mSyntaxError\u001b[0m\u001b[0;31m:\u001b[0m invalid syntax\n"
     ]
    }
   ],
   "source": [
    "* Cada dimension de denominda **axis**.\n",
    "* El numero de dimensiones de denomina **rank**.\n",
    "* La lista de dimensiones con su correspondiente longitud se denomina **shape**.\n",
    "* El numero total de elementos (multiplicacion de la longitud de las dimensiones) se denomina **size**."
   ]
  },
  {
   "cell_type": "code",
   "execution_count": null,
   "id": "09aa892f-8041-4b4f-8ae1-f32f5690dc50",
   "metadata": {},
   "outputs": [],
   "source": []
  }
 ],
 "metadata": {
  "kernelspec": {
   "display_name": "Python 3 (ipykernel)",
   "language": "python",
   "name": "python3"
  },
  "language_info": {
   "codemirror_mode": {
    "name": "ipython",
    "version": 3
   },
   "file_extension": ".py",
   "mimetype": "text/x-python",
   "name": "python",
   "nbconvert_exporter": "python",
   "pygments_lexer": "ipython3",
   "version": "3.9.19"
  }
 },
 "nbformat": 4,
 "nbformat_minor": 5
}

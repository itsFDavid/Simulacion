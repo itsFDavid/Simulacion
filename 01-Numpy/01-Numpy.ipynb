{
 "cells": [
  {
   "cell_type": "markdown",
   "id": "cfab680c-66f0-4e78-9315-e0d61fa887a7",
   "metadata": {},
   "source": [
    "# Introduccion a Numpy"
   ]
  },
  {
   "cell_type": "markdown",
   "id": "9cdc7c8e-663c-4a7a-82b9-542e265afbc6",
   "metadata": {},
   "source": [
    "**Numpy es una bliblioteca fundamental para la cumputación cientifica con Python.**\n",
    "* Proporciona arrays N-dimensiones.\n",
    "* Proporciona funciones matematticas sofesticadas.\n",
    "* Implementa herramientas para integrar C/C++.\n",
    "* Proporciona mecanismos para facilitar la realizacion de tareas relacionadas con algebra lineal o números aleatorios."
   ]
  },
  {
   "cell_type": "code",
   "execution_count": null,
   "id": "18bfa06f-822e-4100-86e4-e7c28d6db6ff",
   "metadata": {},
   "outputs": [],
   "source": []
  }
 ],
 "metadata": {
  "kernelspec": {
   "display_name": "Python 3 (ipykernel)",
   "language": "python",
   "name": "python3"
  },
  "language_info": {
   "codemirror_mode": {
    "name": "ipython",
    "version": 3
   },
   "file_extension": ".py",
   "mimetype": "text/x-python",
   "name": "python",
   "nbconvert_exporter": "python",
   "pygments_lexer": "ipython3",
   "version": "3.9.19"
  }
 },
 "nbformat": 4,
 "nbformat_minor": 5
}

{
 "cells": [
  {
   "cell_type": "markdown",
   "id": "f62623f1-74ff-452b-b9cf-06bc7ed0b009",
   "metadata": {},
   "source": [
    "# Regresion Logistica: Deteccion de SPAM\n",
    "\n",
    "En este ejercicio se muestran los fundamentos de regresion Logistica planteando uno de los primeros problemas que fueron solucionados mediante el uso de tecnicas de Machine Learning\n",
    "\n",
    "\n",
    "## Enunciado del ejercicio:\n",
    "\n",
    "se propone la construccion de un sistema de aprendizaje automatico capz de la tierra de predecir si un correo determinado se corresponde con un correo SPAM o no, para ello se utilizara el siguiente conjunto de datos:\n",
    "\n",
    "###### [2007 TREC Public SPAM Corpus](https://plg.uwaterloo.ca/~gvcormac/treccorpus07/)\n",
    "\n",
    "The corpus trec07p contains 75,419 messages:\n",
    "\n",
    "    25,220 HAM \n",
    "    50,190 SPAM\n",
    "\n",
    "These messages  constitute all the message delivered to a particular server between these dates:\n",
    "\n",
    "    Sun, 8 Apr 2007 13:07:21 -0400\n",
    "    Fri, 6 Jul 2007 07:04:53 -0400\n",
    "\n"
   ]
  },
  {
   "cell_type": "markdown",
   "id": "0f2e2fd6-a609-4b1a-90da-641fa65121a4",
   "metadata": {},
   "source": [
    "## 1.- Funciones Complementarias\n",
    "\n",
    "En este caso practico relacionado con la deteccion de de correos electronicos de SPAM, el conjunto de datos que se dispone esta formado por correos electronicos con sus correspondientes cabeceras y campos adicionales. Por lo tanto requieren un preprocesamiento previo a que sean ingeridos por el algoritmo de Machine Learning (ML)."
   ]
  },
  {
   "cell_type": "code",
   "execution_count": 7,
   "id": "70da082a-c596-4325-9a1d-9f11344c950a",
   "metadata": {},
   "outputs": [],
   "source": [
    "## En esta clase facilita el preprocesamiento de correos electronicos que poseen codigo html\n",
    "from html.parser import HTMLParser\n",
    "\n",
    "class MLStripper(HTMLParser):\n",
    "    def __init__(self):\n",
    "        self.reset()\n",
    "        self.strict = False\n",
    "        self.convert_charrefs = True\n",
    "        self.fed = []\n",
    "\n",
    "    def handle_data(self, d):\n",
    "        self.fed.append(d)\n",
    "\n",
    "    def get_data(self):\n",
    "        return ''.join(self.fed)"
   ]
  },
  {
   "cell_type": "code",
   "execution_count": 9,
   "id": "c3bc9e5d-86ac-4934-9668-db47b7c5d617",
   "metadata": {},
   "outputs": [],
   "source": [
    "# Esta funcion se encarga de eliminar los tags HTML que se encuentren en el texto del correo electronico.\n",
    "def strip_tags(html):\n",
    "    s = MLStripper()\n",
    "    s.feed(html)\n",
    "    return s.get_data()"
   ]
  },
  {
   "cell_type": "code",
   "execution_count": 15,
   "id": "a2d87abd-a236-44b1-940f-36016da126b3",
   "metadata": {},
   "outputs": [
    {
     "data": {
      "text/plain": [
       "'Phrack World News'"
      ]
     },
     "execution_count": 15,
     "metadata": {},
     "output_type": "execute_result"
    }
   ],
   "source": [
    "# Ejemplo de eliminacion de los tags HTML de un texto.\n",
    "t = '<tr><td align=\"left\"><a href=\"../../issues/51/16.html#article\">Phrack World News</a></td></tr>'\n",
    "strip_tags(t)"
   ]
  },
  {
   "cell_type": "markdown",
   "id": "54b0d086-7b62-4ade-ac98-56ba31fd36b2",
   "metadata": {},
   "source": [
    "Ademas de eliminar los posibles tags HTML que se encuentren en el correo electronico deben realizarse otras acciones de preprocesamiento, para evitar que los mensajes contengan ruido incesario. Entre ellos se encuentra la elimincacion de los signos de puntuacion, eliminacion de posibles campos de correo electronico que no son relevantes o eliminacion de los afijos de una palabra manteniendo unicamente la raiz de la misma (Stemming). La clase que se muestra a continuacion realiza estas transformaciones"
   ]
  },
  {
   "cell_type": "code",
   "execution_count": 25,
   "id": "813ea36e-7c7f-481a-8d13-24ea8f4b40b8",
   "metadata": {},
   "outputs": [],
   "source": [
    "import email \n",
    "import string\n",
    "import nltk\n",
    "\n",
    "class Parser:\n",
    "    def __init__(self):\n",
    "        self.stemmer = nltk.PorterStemmer()\n",
    "        self.stopwords = set(nltk.corpus.stopwords.words('english'))\n",
    "        self.punctuation = lis(string.punctuation)\n",
    "\n",
    "    def parse(self, email_path):\n",
    "        \"\"\"Parse and email.\"\"\"\n",
    "        with open(email_path, error = 'ignore') as e:\n",
    "            msg = email.message_from_file(e)\n",
    "        return None if not msg else self.get_email_content(msg)\n",
    "\n",
    "    def get_email_content(self, msg):\n",
    "        \"\"\"Extract the email content.\"\"\"\n",
    "        subject = self.tokenize(msg['Subject']) if msg['Subject'] else []\n",
    "        body = self.get_email_body(msg.get_payload(), \n",
    "                                  msg.get_content_type())\n",
    "        content_type= msg.get_content_type()\n",
    "        # Returning the content ot the email\n",
    "        return {\"subject\": subject,\n",
    "               \"body\": body,\n",
    "               \"content_type\": content_type}\n",
    "\n",
    "    def get_email_body(self, payload, content_type):\n",
    "        \"\"\"Extract the body of the email.\"\"\"\n",
    "        body = []\n",
    "        if type(payload) is str and content_type == 'text/plain':\n",
    "            return self.tokenize(payload)\n",
    "        elif type(payload) is str and content_type == 'text/html':\n",
    "            return self.tokenize(strip_tags(payload))\n",
    "        elif type(payload) is list:\n",
    "            for p in payload:\n",
    "                body += self.get_email_body(p.get_payload(),\n",
    "                                            p.get_content_type())\n",
    "        return body"
   ]
  },
  {
   "cell_type": "code",
   "execution_count": null,
   "id": "b483d45e-8098-4060-af2f-030e2324c33e",
   "metadata": {},
   "outputs": [],
   "source": []
  }
 ],
 "metadata": {
  "kernelspec": {
   "display_name": "Python 3 (ipykernel)",
   "language": "python",
   "name": "python3"
  },
  "language_info": {
   "codemirror_mode": {
    "name": "ipython",
    "version": 3
   },
   "file_extension": ".py",
   "mimetype": "text/x-python",
   "name": "python",
   "nbconvert_exporter": "python",
   "pygments_lexer": "ipython3",
   "version": "3.9.19"
  }
 },
 "nbformat": 4,
 "nbformat_minor": 5
}
